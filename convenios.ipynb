{
  "nbformat": 4,
  "nbformat_minor": 0,
  "metadata": {
    "colab": {
      "name": "convenios.ipynb",
      "provenance": [],
      "collapsed_sections": [
        "I8wxsT5d6mJe",
        "w6cnmgVq4gDi",
        "XgOB6v_zXARh",
        "Nu9IQakTqxWo",
        "kSN03GUvq7G1"
      ],
      "include_colab_link": true
    },
    "kernelspec": {
      "display_name": "Python 3",
      "language": "python",
      "name": "python3"
    },
    "language_info": {
      "codemirror_mode": {
        "name": "ipython",
        "version": 3
      },
      "file_extension": ".py",
      "mimetype": "text/x-python",
      "name": "python",
      "nbconvert_exporter": "python",
      "pygments_lexer": "ipython3",
      "version": "3.7.1"
    }
  },
  "cells": [
    {
      "cell_type": "markdown",
      "metadata": {
        "id": "view-in-github",
        "colab_type": "text"
      },
      "source": [
        "<a href=\"https://colab.research.google.com/github/viviannemedeiros/dataScience/blob/master/convenios.ipynb\" target=\"_parent\"><img src=\"https://colab.research.google.com/assets/colab-badge.svg\" alt=\"Open In Colab\"/></a>"
      ]
    },
    {
      "cell_type": "markdown",
      "metadata": {
        "id": "bFiy2x-lE6JF",
        "colab_type": "text"
      },
      "source": [
        "**Projeto - Introdução à Ciência dos Dados** \n",
        "\n",
        "**Prof:** Luciano Barbosa\n",
        "\n",
        "**Discente:** Vivianne Medeiros\n"
      ]
    },
    {
      "cell_type": "markdown",
      "metadata": {
        "id": "22BL8UtJFlSK",
        "colab_type": "text"
      },
      "source": [
        "**Objetivo:** analisar a base de dados dos Convênios celebrados pelo Governo Federal para identificar o padrão de distribuição e alocação dos recursos\n",
        "\n",
        "**Fonte dos dados:** [Portal da Transparência - Convênios](http://portaltransparencia.gov.br/download-de-dados/convenios)   \n",
        "\n",
        "[Dicionário de Dados](http://www.portaldatransparencia.gov.br/pagina-interna/603415-dicionario-de-dados-convenios)\n",
        "\n",
        "**Ressalva:** Como o tamanho do arquivo original era superior a 250MB e o git tem uma restrição de upload de até 25MB por arquivo, selecionou-se as 39.999 primeiras linhas para utilização neste projeto, acreditando-se que ainda assim os objetivos educacionais seriam cumpridos."
      ]
    },
    {
      "cell_type": "markdown",
      "metadata": {
        "id": "I8wxsT5d6mJe",
        "colab_type": "text"
      },
      "source": [
        "## Leitura de arquivo e operações iniciais"
      ]
    },
    {
      "cell_type": "code",
      "metadata": {
        "colab_type": "code",
        "id": "PtMZXsv_-rZR",
        "outputId": "4cd8d7f6-2272-42f8-b806-166619bf25c1",
        "colab": {
          "base_uri": "https://localhost:8080/",
          "height": 649
        }
      },
      "source": [
        "import numpy as np\n",
        "import pandas as pd\n",
        "convenios=pd.read_csv(\"https://raw.githubusercontent.com/viviannemedeiros/dataScience/master/convenios.csv\", \n",
        "                      encoding = \"ISO-8859-1\", sep=\";\", decimal=\",\")\n",
        "pd.set_option('display.max_colwidth', -1)\n",
        "convenios.head()"
      ],
      "execution_count": 267,
      "outputs": [
        {
          "output_type": "execute_result",
          "data": {
            "text/html": [
              "<div>\n",
              "<style scoped>\n",
              "    .dataframe tbody tr th:only-of-type {\n",
              "        vertical-align: middle;\n",
              "    }\n",
              "\n",
              "    .dataframe tbody tr th {\n",
              "        vertical-align: top;\n",
              "    }\n",
              "\n",
              "    .dataframe thead th {\n",
              "        text-align: right;\n",
              "    }\n",
              "</style>\n",
              "<table border=\"1\" class=\"dataframe\">\n",
              "  <thead>\n",
              "    <tr style=\"text-align: right;\">\n",
              "      <th></th>\n",
              "      <th>NÚMERO CONVÊNIO</th>\n",
              "      <th>UF</th>\n",
              "      <th>CÓDIGO SIAFI MUNICÍPIO</th>\n",
              "      <th>NOME MUNICÍPIO</th>\n",
              "      <th>SITUAÇÃO CONVÊNIO</th>\n",
              "      <th>NÚMERO ORIGINAL</th>\n",
              "      <th>OBJETO DO CONVÊNIO</th>\n",
              "      <th>CÓDIGO ÓRGÃO SUPERIOR</th>\n",
              "      <th>NOME ÓRGÃO SUPERIOR</th>\n",
              "      <th>CÓDIGO ÓRGÃO CONCEDENTE</th>\n",
              "      <th>NOME ÓRGÃO CONCEDENTE</th>\n",
              "      <th>CÓDIGO CONVENENTE</th>\n",
              "      <th>TIPO CONVENENTE</th>\n",
              "      <th>NOME CONVENENTE</th>\n",
              "      <th>TIPO ENTE CONVENENTE</th>\n",
              "      <th>TIPO INSTRUMENTO</th>\n",
              "      <th>VALOR CONVÊNIO</th>\n",
              "      <th>VALOR LIBERADO</th>\n",
              "      <th>DATA PUBLICAÇÃO</th>\n",
              "      <th>DATA INÍCIO VIGÊNCIA</th>\n",
              "      <th>DATA FINAL VIGÊNCIA</th>\n",
              "      <th>VALOR CONTRAPARTIDA</th>\n",
              "      <th>DATA ÚLTIMA LIBERAÇÃO</th>\n",
              "      <th>VALOR ÚLTIMA LIBERAÇÃO</th>\n",
              "    </tr>\n",
              "  </thead>\n",
              "  <tbody>\n",
              "    <tr>\n",
              "      <th>0</th>\n",
              "      <td>104141</td>\n",
              "      <td>SP</td>\n",
              "      <td>6689</td>\n",
              "      <td>MAUA</td>\n",
              "      <td>CONCLUÍDO</td>\n",
              "      <td>2467/94/FAE</td>\n",
              "      <td>CONVENIO CELEBRADO ENTRE A FAE E A PM DE MAUA/SP PARA ATENDER PROGRAMA DE ALIMENTACAO ESCOLAR PROC 1118/94-83                               _______________________________________ANA LUCIA</td>\n",
              "      <td>26000</td>\n",
              "      <td>Ministério da Educação</td>\n",
              "      <td>26298</td>\n",
              "      <td>Fundo Nacional de Desenvolvimento da Educação</td>\n",
              "      <td>46522959000198</td>\n",
              "      <td>Administração Pública Municipal</td>\n",
              "      <td>MUNICIPIO DE MAUA</td>\n",
              "      <td>Municipal</td>\n",
              "      <td>Sem informação</td>\n",
              "      <td>2110457.00</td>\n",
              "      <td>2054267.71</td>\n",
              "      <td>28/03/1996</td>\n",
              "      <td>28/02/1996</td>\n",
              "      <td>28/02/1999</td>\n",
              "      <td>0.0</td>\n",
              "      <td>07/12/1995</td>\n",
              "      <td>0.00</td>\n",
              "    </tr>\n",
              "    <tr>\n",
              "      <th>1</th>\n",
              "      <td>104773</td>\n",
              "      <td>RS</td>\n",
              "      <td>8963</td>\n",
              "      <td>VIAMAO</td>\n",
              "      <td>ADIMPLENTE</td>\n",
              "      <td>2520/94/FAE</td>\n",
              "      <td>CONVENIO CELEBRADO ENTRE A FAE E P.M. DE VIAMAO/RS, PARA ATENDER AO   PROGRAMA MERENDA ESCOLAR. PROC. 1752/94-99.</td>\n",
              "      <td>26000</td>\n",
              "      <td>Ministério da Educação</td>\n",
              "      <td>26298</td>\n",
              "      <td>Fundo Nacional de Desenvolvimento da Educação</td>\n",
              "      <td>88000914000101</td>\n",
              "      <td>Administração Pública Municipal</td>\n",
              "      <td>MUNICIPIO DE VIAMAO</td>\n",
              "      <td>Municipal</td>\n",
              "      <td>CONVENIO</td>\n",
              "      <td>515877.96</td>\n",
              "      <td>406200.76</td>\n",
              "      <td>19/03/1996</td>\n",
              "      <td>27/02/1996</td>\n",
              "      <td>28/02/1999</td>\n",
              "      <td>0.0</td>\n",
              "      <td>13/12/1995</td>\n",
              "      <td>0.00</td>\n",
              "    </tr>\n",
              "    <tr>\n",
              "      <th>2</th>\n",
              "      <td>112236</td>\n",
              "      <td>PE</td>\n",
              "      <td>2531</td>\n",
              "      <td>RECIFE</td>\n",
              "      <td>CONCLUÍDO</td>\n",
              "      <td>PG 096/94-00</td>\n",
              "      <td>EXECUCAO DE OBRAS E SERVICOS DE CONSTRUCAO RODOVIARIA NA BR-020/PI    TRECHO PICOS - SAO RAIMUNDO NONATO.</td>\n",
              "      <td>39000</td>\n",
              "      <td>Ministério da Infraestrutura</td>\n",
              "      <td>39252</td>\n",
              "      <td>Departamento Nacional de Infraestrutura de Transportes</td>\n",
              "      <td>160202</td>\n",
              "      <td>Entidades Empresariais Privadas</td>\n",
              "      <td>3º BATALHÃO DE ENGENHARIA DE CONSTRUÇÃO</td>\n",
              "      <td>Municipal</td>\n",
              "      <td>Sem informação</td>\n",
              "      <td>19439537.00</td>\n",
              "      <td>17777924.41</td>\n",
              "      <td>24/12/1999</td>\n",
              "      <td>15/11/2002</td>\n",
              "      <td>28/06/2005</td>\n",
              "      <td>0.0</td>\n",
              "      <td>28/12/2004</td>\n",
              "      <td>0.00</td>\n",
              "    </tr>\n",
              "    <tr>\n",
              "      <th>3</th>\n",
              "      <td>116570</td>\n",
              "      <td>SP</td>\n",
              "      <td>6219</td>\n",
              "      <td>BAURU</td>\n",
              "      <td>CONCLUÍDO</td>\n",
              "      <td>1640/94</td>\n",
              "      <td>PROSSEGUIMENTO A OBRA DA NOVA UNIDADE DE INTERNACAO HOSPITALAR DO     HPLLP/USP.</td>\n",
              "      <td>36000</td>\n",
              "      <td>Ministério da Saúde</td>\n",
              "      <td>36000</td>\n",
              "      <td>Ministério da Saúde - Unidades com vínculo direto</td>\n",
              "      <td>63025530008270</td>\n",
              "      <td>Administração Pública Estadual ou do Distrito Federal</td>\n",
              "      <td>UNIVERSIDADE DE SAO PAULO</td>\n",
              "      <td>Estadual</td>\n",
              "      <td>Sem informação</td>\n",
              "      <td>5000000.00</td>\n",
              "      <td>5000000.00</td>\n",
              "      <td>27/02/1998</td>\n",
              "      <td>29/12/1995</td>\n",
              "      <td>30/06/1998</td>\n",
              "      <td>0.0</td>\n",
              "      <td>29/12/1994</td>\n",
              "      <td>0.00</td>\n",
              "    </tr>\n",
              "    <tr>\n",
              "      <th>4</th>\n",
              "      <td>120304</td>\n",
              "      <td>RJ</td>\n",
              "      <td>6001</td>\n",
              "      <td>RIO DE JANEIRO</td>\n",
              "      <td>CONCLUÍDO</td>\n",
              "      <td>01/93 8/9. T.A.</td>\n",
              "      <td>SUPLEMENTACAO DE RECURSOS A FIM DE CUMPRIR OS OBJETIVO DO   ACONVENIO ORIGINAL.</td>\n",
              "      <td>36000</td>\n",
              "      <td>Ministério da Saúde</td>\n",
              "      <td>36201</td>\n",
              "      <td>Fundação Oswaldo Cruz</td>\n",
              "      <td>30495394000167</td>\n",
              "      <td>Administração Pública Estadual ou do Distrito Federal</td>\n",
              "      <td>FUNDACAO CARLOS CHAGAS FILHO DE AMPARO A PESQUISA DO ESTADO DO RIO DE JANEIRO-FAPERJ</td>\n",
              "      <td>Estadual</td>\n",
              "      <td>Sem informação</td>\n",
              "      <td>12741999.13</td>\n",
              "      <td>11415402.92</td>\n",
              "      <td>21/12/2000</td>\n",
              "      <td>24/11/1995</td>\n",
              "      <td>28/02/2002</td>\n",
              "      <td>0.0</td>\n",
              "      <td>19/12/2001</td>\n",
              "      <td>153846.11</td>\n",
              "    </tr>\n",
              "  </tbody>\n",
              "</table>\n",
              "</div>"
            ],
            "text/plain": [
              "   NÚMERO CONVÊNIO  UF  CÓDIGO SIAFI MUNICÍPIO  NOME MUNICÍPIO  \\\n",
              "0  104141           SP  6689                    MAUA             \n",
              "1  104773           RS  8963                    VIAMAO           \n",
              "2  112236           PE  2531                    RECIFE           \n",
              "3  116570           SP  6219                    BAURU            \n",
              "4  120304           RJ  6001                    RIO DE JANEIRO   \n",
              "\n",
              "  SITUAÇÃO CONVÊNIO  NÚMERO ORIGINAL  \\\n",
              "0  CONCLUÍDO         2467/94/FAE       \n",
              "1  ADIMPLENTE        2520/94/FAE       \n",
              "2  CONCLUÍDO         PG 096/94-00      \n",
              "3  CONCLUÍDO         1640/94           \n",
              "4  CONCLUÍDO         01/93 8/9. T.A.   \n",
              "\n",
              "                                                                                                                                                                             OBJETO DO CONVÊNIO  \\\n",
              "0  CONVENIO CELEBRADO ENTRE A FAE E A PM DE MAUA/SP PARA ATENDER PROGRAMA DE ALIMENTACAO ESCOLAR PROC 1118/94-83                               _______________________________________ANA LUCIA   \n",
              "1  CONVENIO CELEBRADO ENTRE A FAE E P.M. DE VIAMAO/RS, PARA ATENDER AO   PROGRAMA MERENDA ESCOLAR. PROC. 1752/94-99.                                                                              \n",
              "2  EXECUCAO DE OBRAS E SERVICOS DE CONSTRUCAO RODOVIARIA NA BR-020/PI    TRECHO PICOS - SAO RAIMUNDO NONATO.                                                                                      \n",
              "3  PROSSEGUIMENTO A OBRA DA NOVA UNIDADE DE INTERNACAO HOSPITALAR DO     HPLLP/USP.                                                                                                               \n",
              "4  SUPLEMENTACAO DE RECURSOS A FIM DE CUMPRIR OS OBJETIVO DO   ACONVENIO ORIGINAL.                                                                                                                \n",
              "\n",
              "   CÓDIGO ÓRGÃO SUPERIOR           NOME ÓRGÃO SUPERIOR  \\\n",
              "0  26000                  Ministério da Educação         \n",
              "1  26000                  Ministério da Educação         \n",
              "2  39000                  Ministério da Infraestrutura   \n",
              "3  36000                  Ministério da Saúde            \n",
              "4  36000                  Ministério da Saúde            \n",
              "\n",
              "   CÓDIGO ÓRGÃO CONCEDENTE  \\\n",
              "0  26298                     \n",
              "1  26298                     \n",
              "2  39252                     \n",
              "3  36000                     \n",
              "4  36201                     \n",
              "\n",
              "                                    NOME ÓRGÃO CONCEDENTE CÓDIGO CONVENENTE  \\\n",
              "0  Fundo Nacional de Desenvolvimento da Educação           46522959000198     \n",
              "1  Fundo Nacional de Desenvolvimento da Educação           88000914000101     \n",
              "2  Departamento Nacional de Infraestrutura de Transportes  160202             \n",
              "3  Ministério da Saúde - Unidades com vínculo direto       63025530008270     \n",
              "4  Fundação Oswaldo Cruz                                   30495394000167     \n",
              "\n",
              "                                         TIPO CONVENENTE  \\\n",
              "0  Administração Pública Municipal                         \n",
              "1  Administração Pública Municipal                         \n",
              "2  Entidades Empresariais Privadas                         \n",
              "3  Administração Pública Estadual ou do Distrito Federal   \n",
              "4  Administração Pública Estadual ou do Distrito Federal   \n",
              "\n",
              "                                                                        NOME CONVENENTE  \\\n",
              "0  MUNICIPIO DE MAUA                                                                      \n",
              "1  MUNICIPIO DE VIAMAO                                                                    \n",
              "2  3º BATALHÃO DE ENGENHARIA DE CONSTRUÇÃO                                                \n",
              "3  UNIVERSIDADE DE SAO PAULO                                                              \n",
              "4  FUNDACAO CARLOS CHAGAS FILHO DE AMPARO A PESQUISA DO ESTADO DO RIO DE JANEIRO-FAPERJ   \n",
              "\n",
              "  TIPO ENTE CONVENENTE TIPO INSTRUMENTO  VALOR CONVÊNIO  VALOR LIBERADO  \\\n",
              "0  Municipal            Sem informação   2110457.00      2054267.71       \n",
              "1  Municipal            CONVENIO         515877.96       406200.76        \n",
              "2  Municipal            Sem informação   19439537.00     17777924.41      \n",
              "3  Estadual             Sem informação   5000000.00      5000000.00       \n",
              "4  Estadual             Sem informação   12741999.13     11415402.92      \n",
              "\n",
              "  DATA PUBLICAÇÃO DATA INÍCIO VIGÊNCIA DATA FINAL VIGÊNCIA  \\\n",
              "0  28/03/1996      28/02/1996           28/02/1999           \n",
              "1  19/03/1996      27/02/1996           28/02/1999           \n",
              "2  24/12/1999      15/11/2002           28/06/2005           \n",
              "3  27/02/1998      29/12/1995           30/06/1998           \n",
              "4  21/12/2000      24/11/1995           28/02/2002           \n",
              "\n",
              "   VALOR CONTRAPARTIDA DATA ÚLTIMA LIBERAÇÃO  VALOR ÚLTIMA LIBERAÇÃO  \n",
              "0  0.0                  07/12/1995            0.00                    \n",
              "1  0.0                  13/12/1995            0.00                    \n",
              "2  0.0                  28/12/2004            0.00                    \n",
              "3  0.0                  29/12/1994            0.00                    \n",
              "4  0.0                  19/12/2001            153846.11               "
            ]
          },
          "metadata": {
            "tags": []
          },
          "execution_count": 267
        }
      ]
    },
    {
      "cell_type": "code",
      "metadata": {
        "id": "N7XBUk7X_nkx",
        "colab_type": "code",
        "colab": {
          "base_uri": "https://localhost:8080/",
          "height": 1000
        },
        "outputId": "c4448993-c049-412d-ad0a-eb115bffe21a"
      },
      "source": [
        "convenios.sort_values('VALOR CONVÊNIO', ascending=False).head(3)"
      ],
      "execution_count": 268,
      "outputs": [
        {
          "output_type": "execute_result",
          "data": {
            "text/html": [
              "<div>\n",
              "<style scoped>\n",
              "    .dataframe tbody tr th:only-of-type {\n",
              "        vertical-align: middle;\n",
              "    }\n",
              "\n",
              "    .dataframe tbody tr th {\n",
              "        vertical-align: top;\n",
              "    }\n",
              "\n",
              "    .dataframe thead th {\n",
              "        text-align: right;\n",
              "    }\n",
              "</style>\n",
              "<table border=\"1\" class=\"dataframe\">\n",
              "  <thead>\n",
              "    <tr style=\"text-align: right;\">\n",
              "      <th></th>\n",
              "      <th>NÚMERO CONVÊNIO</th>\n",
              "      <th>UF</th>\n",
              "      <th>CÓDIGO SIAFI MUNICÍPIO</th>\n",
              "      <th>NOME MUNICÍPIO</th>\n",
              "      <th>SITUAÇÃO CONVÊNIO</th>\n",
              "      <th>NÚMERO ORIGINAL</th>\n",
              "      <th>OBJETO DO CONVÊNIO</th>\n",
              "      <th>CÓDIGO ÓRGÃO SUPERIOR</th>\n",
              "      <th>NOME ÓRGÃO SUPERIOR</th>\n",
              "      <th>CÓDIGO ÓRGÃO CONCEDENTE</th>\n",
              "      <th>NOME ÓRGÃO CONCEDENTE</th>\n",
              "      <th>CÓDIGO CONVENENTE</th>\n",
              "      <th>TIPO CONVENENTE</th>\n",
              "      <th>NOME CONVENENTE</th>\n",
              "      <th>TIPO ENTE CONVENENTE</th>\n",
              "      <th>TIPO INSTRUMENTO</th>\n",
              "      <th>VALOR CONVÊNIO</th>\n",
              "      <th>VALOR LIBERADO</th>\n",
              "      <th>DATA PUBLICAÇÃO</th>\n",
              "      <th>DATA INÍCIO VIGÊNCIA</th>\n",
              "      <th>DATA FINAL VIGÊNCIA</th>\n",
              "      <th>VALOR CONTRAPARTIDA</th>\n",
              "      <th>DATA ÚLTIMA LIBERAÇÃO</th>\n",
              "      <th>VALOR ÚLTIMA LIBERAÇÃO</th>\n",
              "    </tr>\n",
              "  </thead>\n",
              "  <tbody>\n",
              "    <tr>\n",
              "      <th>3336</th>\n",
              "      <td>300186</td>\n",
              "      <td>DF</td>\n",
              "      <td>9701</td>\n",
              "      <td>BRASILIA</td>\n",
              "      <td>CONCLUÍDO</td>\n",
              "      <td>001/96</td>\n",
              "      <td>TRANSFERENCIA DE RECURSOS FINANCEIROS PARA PAGAMENTO DO PESSOAL ATIVO,INATIVO E PENSIONISTAS, DAS AREAS DE SEGURANCA PUBLICA, EDUCACAO E SAUDE, BEM COMO O CUSTEIO DA SEGURANCA PUBLICA DO DISTRITO FEDERAL,    EMCONFORMIDADE COM DISPOSITIVOS CONSTITUCIONAIS E OS DECRETOS 48.297   E48.298, AMBOS DE 17.06.60.</td>\n",
              "      <td>25000</td>\n",
              "      <td>Ministério da Economia</td>\n",
              "      <td>25000</td>\n",
              "      <td>Ministério da Economia - Unidades com vínculo direto</td>\n",
              "      <td>00394601000126</td>\n",
              "      <td>Administração Pública Estadual ou do Distrito Federal</td>\n",
              "      <td>DISTRITO FEDERAL</td>\n",
              "      <td>Estadual</td>\n",
              "      <td>Sem informação</td>\n",
              "      <td>3.620084e+09</td>\n",
              "      <td>3.620084e+09</td>\n",
              "      <td>10/01/1996</td>\n",
              "      <td>10/01/1996</td>\n",
              "      <td>31/12/1997</td>\n",
              "      <td>0.0</td>\n",
              "      <td>31/12/1997</td>\n",
              "      <td>2300000.00</td>\n",
              "    </tr>\n",
              "    <tr>\n",
              "      <th>4409</th>\n",
              "      <td>301431</td>\n",
              "      <td>DF</td>\n",
              "      <td>9701</td>\n",
              "      <td>BRASILIA</td>\n",
              "      <td>CONCLUÍDO</td>\n",
              "      <td>001/MPAS/SAS/96</td>\n",
              "      <td>REPASSE DE VERBAS PARA O INSS VISANDO AO PAGAMENTO DO BENEFICIO DE    PRESTACAO CONTINUADA, CONFORME O DISPOSTO NOS ARTS. 20, 21 E 35 DA LEIORGANICA DA ASSISTENCIA SOCIAL-LOAS E CONV. NUM 001/MPAS/SAS/96.</td>\n",
              "      <td>55000</td>\n",
              "      <td>Ministério da Cidadania</td>\n",
              "      <td>55001</td>\n",
              "      <td>Fundo Nacional de Assistência Social</td>\n",
              "      <td>510001</td>\n",
              "      <td>Agentes Intermediários</td>\n",
              "      <td>COORD.GERAL DE ORÇAMENTO, FINANÇAS E CONTAB.</td>\n",
              "      <td>Municipal</td>\n",
              "      <td>Sem informação</td>\n",
              "      <td>1.052503e+09</td>\n",
              "      <td>8.634987e+08</td>\n",
              "      <td>13/03/1996</td>\n",
              "      <td>13/03/1996</td>\n",
              "      <td>31/12/1997</td>\n",
              "      <td>0.0</td>\n",
              "      <td>12/12/1997</td>\n",
              "      <td>54000000.03</td>\n",
              "    </tr>\n",
              "    <tr>\n",
              "      <th>1977</th>\n",
              "      <td>298495</td>\n",
              "      <td>RJ</td>\n",
              "      <td>6001</td>\n",
              "      <td>RIO DE JANEIRO</td>\n",
              "      <td>CONCLUÍDO</td>\n",
              "      <td>39300357200700262</td>\n",
              "      <td>OBJETO: EXECUÇÃO DAS OBRAS DE IMPLANTAÇÃO E PAVIMENTAÇÃO DO ARCO METROPOLITANO DO RIO DE JANEIRO NA BR-493/RJ, COMPREENDIDO ENTRE O ENTROCAMENTO COM A BR-040/116(B)/RJ, ATÉ O ENTROCAMENTOCOM A BR-101/RJ, COMPREENDENDO AS OBRAS DE TERRAPLENAGEM, DRENAGEM, PAVIMENTAÇÃO OBRAS DE ARTE ESPECIAIS E TODAS AS DEMAIS PREVISTAS. LEI  11.578/2007,  DECRETO N 6.450/2008 TRANSFERÊNCIA OBRIGATÓRIA. TERMO DE COMPROMISSO ASSINADO EM</td>\n",
              "      <td>39000</td>\n",
              "      <td>Ministério da Infraestrutura</td>\n",
              "      <td>39252</td>\n",
              "      <td>Departamento Nacional de Infraestrutura de Transportes</td>\n",
              "      <td>08599767000190</td>\n",
              "      <td>Administração Pública Estadual ou do Distrito Federal</td>\n",
              "      <td>SECRETARIA DE ESTADO DE INFRAESTRUTURA E OBRAS - SEINFRA</td>\n",
              "      <td>Estadual</td>\n",
              "      <td>Sem informação</td>\n",
              "      <td>7.000000e+08</td>\n",
              "      <td>0.000000e+00</td>\n",
              "      <td>19/12/2007</td>\n",
              "      <td>18/12/2007</td>\n",
              "      <td>18/10/2010</td>\n",
              "      <td>228681172.0</td>\n",
              "      <td>20/05/2009</td>\n",
              "      <td>34487090.00</td>\n",
              "    </tr>\n",
              "  </tbody>\n",
              "</table>\n",
              "</div>"
            ],
            "text/plain": [
              "      NÚMERO CONVÊNIO  UF  CÓDIGO SIAFI MUNICÍPIO  NOME MUNICÍPIO  \\\n",
              "3336  300186           DF  9701                    BRASILIA         \n",
              "4409  301431           DF  9701                    BRASILIA         \n",
              "1977  298495           RJ  6001                    RIO DE JANEIRO   \n",
              "\n",
              "     SITUAÇÃO CONVÊNIO    NÚMERO ORIGINAL  \\\n",
              "3336  CONCLUÍDO         001/96              \n",
              "4409  CONCLUÍDO         001/MPAS/SAS/96     \n",
              "1977  CONCLUÍDO         39300357200700262   \n",
              "\n",
              "                                                                                                                                                                                                                                                                                                                                                                                                                        OBJETO DO CONVÊNIO  \\\n",
              "3336  TRANSFERENCIA DE RECURSOS FINANCEIROS PARA PAGAMENTO DO PESSOAL ATIVO,INATIVO E PENSIONISTAS, DAS AREAS DE SEGURANCA PUBLICA, EDUCACAO E SAUDE, BEM COMO O CUSTEIO DA SEGURANCA PUBLICA DO DISTRITO FEDERAL,    EMCONFORMIDADE COM DISPOSITIVOS CONSTITUCIONAIS E OS DECRETOS 48.297   E48.298, AMBOS DE 17.06.60.                                                                                                                     \n",
              "4409  REPASSE DE VERBAS PARA O INSS VISANDO AO PAGAMENTO DO BENEFICIO DE    PRESTACAO CONTINUADA, CONFORME O DISPOSTO NOS ARTS. 20, 21 E 35 DA LEIORGANICA DA ASSISTENCIA SOCIAL-LOAS E CONV. NUM 001/MPAS/SAS/96.                                                                                                                                                                                                                           \n",
              "1977  OBJETO: EXECUÇÃO DAS OBRAS DE IMPLANTAÇÃO E PAVIMENTAÇÃO DO ARCO METROPOLITANO DO RIO DE JANEIRO NA BR-493/RJ, COMPREENDIDO ENTRE O ENTROCAMENTO COM A BR-040/116(B)/RJ, ATÉ O ENTROCAMENTOCOM A BR-101/RJ, COMPREENDENDO AS OBRAS DE TERRAPLENAGEM, DRENAGEM, PAVIMENTAÇÃO OBRAS DE ARTE ESPECIAIS E TODAS AS DEMAIS PREVISTAS. LEI  11.578/2007,  DECRETO N 6.450/2008 TRANSFERÊNCIA OBRIGATÓRIA. TERMO DE COMPROMISSO ASSINADO EM   \n",
              "\n",
              "      CÓDIGO ÓRGÃO SUPERIOR           NOME ÓRGÃO SUPERIOR  \\\n",
              "3336  25000                  Ministério da Economia         \n",
              "4409  55000                  Ministério da Cidadania        \n",
              "1977  39000                  Ministério da Infraestrutura   \n",
              "\n",
              "      CÓDIGO ÓRGÃO CONCEDENTE  \\\n",
              "3336  25000                     \n",
              "4409  55001                     \n",
              "1977  39252                     \n",
              "\n",
              "                                       NOME ÓRGÃO CONCEDENTE  \\\n",
              "3336  Ministério da Economia - Unidades com vínculo direto     \n",
              "4409  Fundo Nacional de Assistência Social                     \n",
              "1977  Departamento Nacional de Infraestrutura de Transportes   \n",
              "\n",
              "     CÓDIGO CONVENENTE                                        TIPO CONVENENTE  \\\n",
              "3336  00394601000126    Administração Pública Estadual ou do Distrito Federal   \n",
              "4409  510001            Agentes Intermediários                                  \n",
              "1977  08599767000190    Administração Pública Estadual ou do Distrito Federal   \n",
              "\n",
              "                                               NOME CONVENENTE  \\\n",
              "3336  DISTRITO FEDERAL                                           \n",
              "4409  COORD.GERAL DE ORÇAMENTO, FINANÇAS E CONTAB.               \n",
              "1977  SECRETARIA DE ESTADO DE INFRAESTRUTURA E OBRAS - SEINFRA   \n",
              "\n",
              "     TIPO ENTE CONVENENTE TIPO INSTRUMENTO  VALOR CONVÊNIO  VALOR LIBERADO  \\\n",
              "3336  Estadual             Sem informação   3.620084e+09    3.620084e+09     \n",
              "4409  Municipal            Sem informação   1.052503e+09    8.634987e+08     \n",
              "1977  Estadual             Sem informação   7.000000e+08    0.000000e+00     \n",
              "\n",
              "     DATA PUBLICAÇÃO DATA INÍCIO VIGÊNCIA DATA FINAL VIGÊNCIA  \\\n",
              "3336  10/01/1996      10/01/1996           31/12/1997           \n",
              "4409  13/03/1996      13/03/1996           31/12/1997           \n",
              "1977  19/12/2007      18/12/2007           18/10/2010           \n",
              "\n",
              "      VALOR CONTRAPARTIDA DATA ÚLTIMA LIBERAÇÃO  VALOR ÚLTIMA LIBERAÇÃO  \n",
              "3336  0.0                  31/12/1997            2300000.00              \n",
              "4409  0.0                  12/12/1997            54000000.03             \n",
              "1977  228681172.0          20/05/2009            34487090.00             "
            ]
          },
          "metadata": {
            "tags": []
          },
          "execution_count": 268
        }
      ]
    },
    {
      "cell_type": "code",
      "metadata": {
        "id": "4XfRPFLu_P--",
        "colab_type": "code",
        "outputId": "60cd6477-b8dd-49bf-9b52-982c280a5036",
        "colab": {
          "base_uri": "https://localhost:8080/",
          "height": 34
        }
      },
      "source": [
        "# Verificando a quantidade de dados\n",
        "convenios.shape\n",
        "# len(convenios)"
      ],
      "execution_count": 269,
      "outputs": [
        {
          "output_type": "execute_result",
          "data": {
            "text/plain": [
              "(39999, 24)"
            ]
          },
          "metadata": {
            "tags": []
          },
          "execution_count": 269
        }
      ]
    },
    {
      "cell_type": "code",
      "metadata": {
        "id": "A_WWRjvN0_pv",
        "colab_type": "code",
        "colab": {}
      },
      "source": [
        "# Excluindo colunas que não serão objeto de análise\n",
        "convenios = convenios.drop(['NÚMERO CONVÊNIO', 'CÓDIGO SIAFI MUNICÍPIO', 'NÚMERO ORIGINAL', 'OBJETO DO CONVÊNIO', \n",
        "                            'CÓDIGO ÓRGÃO SUPERIOR', 'CÓDIGO ÓRGÃO CONCEDENTE', 'CÓDIGO CONVENENTE','DATA PUBLICAÇÃO'], axis=1)"
      ],
      "execution_count": 0,
      "outputs": []
    },
    {
      "cell_type": "code",
      "metadata": {
        "id": "ZLrj_pGO_tTX",
        "colab_type": "code",
        "outputId": "06563782-632c-4887-a7cc-8d060e566ac5",
        "colab": {
          "base_uri": "https://localhost:8080/",
          "height": 34
        }
      },
      "source": [
        "#Constantdo a quantidade de dados atuais\n",
        "convenios.shape"
      ],
      "execution_count": 271,
      "outputs": [
        {
          "output_type": "execute_result",
          "data": {
            "text/plain": [
              "(39999, 16)"
            ]
          },
          "metadata": {
            "tags": []
          },
          "execution_count": 271
        }
      ]
    },
    {
      "cell_type": "code",
      "metadata": {
        "id": "6r9IjUy72-wO",
        "colab_type": "code",
        "outputId": "6dea48de-3736-4987-87dc-160a3decc948",
        "colab": {
          "base_uri": "https://localhost:8080/",
          "height": 297
        }
      },
      "source": [
        "convenios.describe()"
      ],
      "execution_count": 272,
      "outputs": [
        {
          "output_type": "execute_result",
          "data": {
            "text/html": [
              "<div>\n",
              "<style scoped>\n",
              "    .dataframe tbody tr th:only-of-type {\n",
              "        vertical-align: middle;\n",
              "    }\n",
              "\n",
              "    .dataframe tbody tr th {\n",
              "        vertical-align: top;\n",
              "    }\n",
              "\n",
              "    .dataframe thead th {\n",
              "        text-align: right;\n",
              "    }\n",
              "</style>\n",
              "<table border=\"1\" class=\"dataframe\">\n",
              "  <thead>\n",
              "    <tr style=\"text-align: right;\">\n",
              "      <th></th>\n",
              "      <th>VALOR CONVÊNIO</th>\n",
              "      <th>VALOR LIBERADO</th>\n",
              "      <th>VALOR CONTRAPARTIDA</th>\n",
              "      <th>VALOR ÚLTIMA LIBERAÇÃO</th>\n",
              "    </tr>\n",
              "  </thead>\n",
              "  <tbody>\n",
              "    <tr>\n",
              "      <th>count</th>\n",
              "      <td>3.999900e+04</td>\n",
              "      <td>3.999900e+04</td>\n",
              "      <td>3.999900e+04</td>\n",
              "      <td>3.999900e+04</td>\n",
              "    </tr>\n",
              "    <tr>\n",
              "      <th>mean</th>\n",
              "      <td>6.344792e+05</td>\n",
              "      <td>4.853171e+05</td>\n",
              "      <td>6.700967e+04</td>\n",
              "      <td>6.149511e+04</td>\n",
              "    </tr>\n",
              "    <tr>\n",
              "      <th>std</th>\n",
              "      <td>2.024115e+07</td>\n",
              "      <td>1.928241e+07</td>\n",
              "      <td>2.102704e+06</td>\n",
              "      <td>5.095207e+05</td>\n",
              "    </tr>\n",
              "    <tr>\n",
              "      <th>min</th>\n",
              "      <td>0.000000e+00</td>\n",
              "      <td>0.000000e+00</td>\n",
              "      <td>0.000000e+00</td>\n",
              "      <td>0.000000e+00</td>\n",
              "    </tr>\n",
              "    <tr>\n",
              "      <th>25%</th>\n",
              "      <td>1.000000e+04</td>\n",
              "      <td>6.692760e+03</td>\n",
              "      <td>0.000000e+00</td>\n",
              "      <td>4.000000e+02</td>\n",
              "    </tr>\n",
              "    <tr>\n",
              "      <th>50%</th>\n",
              "      <td>3.500000e+04</td>\n",
              "      <td>2.783770e+04</td>\n",
              "      <td>0.000000e+00</td>\n",
              "      <td>7.000000e+03</td>\n",
              "    </tr>\n",
              "    <tr>\n",
              "      <th>75%</th>\n",
              "      <td>1.125233e+05</td>\n",
              "      <td>9.722743e+04</td>\n",
              "      <td>6.349750e+03</td>\n",
              "      <td>3.750000e+04</td>\n",
              "    </tr>\n",
              "    <tr>\n",
              "      <th>max</th>\n",
              "      <td>3.620084e+09</td>\n",
              "      <td>3.620084e+09</td>\n",
              "      <td>2.682430e+08</td>\n",
              "      <td>5.400000e+07</td>\n",
              "    </tr>\n",
              "  </tbody>\n",
              "</table>\n",
              "</div>"
            ],
            "text/plain": [
              "       VALOR CONVÊNIO  VALOR LIBERADO  VALOR CONTRAPARTIDA  \\\n",
              "count  3.999900e+04    3.999900e+04    3.999900e+04          \n",
              "mean   6.344792e+05    4.853171e+05    6.700967e+04          \n",
              "std    2.024115e+07    1.928241e+07    2.102704e+06          \n",
              "min    0.000000e+00    0.000000e+00    0.000000e+00          \n",
              "25%    1.000000e+04    6.692760e+03    0.000000e+00          \n",
              "50%    3.500000e+04    2.783770e+04    0.000000e+00          \n",
              "75%    1.125233e+05    9.722743e+04    6.349750e+03          \n",
              "max    3.620084e+09    3.620084e+09    2.682430e+08          \n",
              "\n",
              "       VALOR ÚLTIMA LIBERAÇÃO  \n",
              "count  3.999900e+04            \n",
              "mean   6.149511e+04            \n",
              "std    5.095207e+05            \n",
              "min    0.000000e+00            \n",
              "25%    4.000000e+02            \n",
              "50%    7.000000e+03            \n",
              "75%    3.750000e+04            \n",
              "max    5.400000e+07            "
            ]
          },
          "metadata": {
            "tags": []
          },
          "execution_count": 272
        }
      ]
    },
    {
      "cell_type": "markdown",
      "metadata": {
        "colab_type": "text",
        "id": "w6cnmgVq4gDi"
      },
      "source": [
        "## Setando campos como categóricos"
      ]
    },
    {
      "cell_type": "code",
      "metadata": {
        "colab_type": "code",
        "id": "O-O6BFuKmlPN",
        "outputId": "bc208edb-b906-40ac-ce64-9a2451b45783",
        "colab": {
          "base_uri": "https://localhost:8080/",
          "height": 306
        }
      },
      "source": [
        "convenios.dtypes"
      ],
      "execution_count": 273,
      "outputs": [
        {
          "output_type": "execute_result",
          "data": {
            "text/plain": [
              "UF                        object \n",
              "NOME MUNICÍPIO            object \n",
              "SITUAÇÃO CONVÊNIO         object \n",
              "NOME ÓRGÃO SUPERIOR       object \n",
              "NOME ÓRGÃO CONCEDENTE     object \n",
              "TIPO CONVENENTE           object \n",
              "NOME CONVENENTE           object \n",
              "TIPO ENTE CONVENENTE      object \n",
              "TIPO INSTRUMENTO          object \n",
              "VALOR CONVÊNIO            float64\n",
              "VALOR LIBERADO            float64\n",
              "DATA INÍCIO VIGÊNCIA      object \n",
              "DATA FINAL VIGÊNCIA       object \n",
              "VALOR CONTRAPARTIDA       float64\n",
              "DATA ÚLTIMA LIBERAÇÃO     object \n",
              "VALOR ÚLTIMA LIBERAÇÃO    float64\n",
              "dtype: object"
            ]
          },
          "metadata": {
            "tags": []
          },
          "execution_count": 273
        }
      ]
    },
    {
      "cell_type": "code",
      "metadata": {
        "colab_type": "code",
        "id": "J9n5LrpKm83d",
        "colab": {}
      },
      "source": [
        "#Ajustando tipos dos dados\n",
        "convenios['UF'] = convenios['UF'].astype('category')\n",
        "convenios['NOME MUNICÍPIO'] = convenios['NOME MUNICÍPIO'].astype('category')\n",
        "convenios['SITUAÇÃO CONVÊNIO'] = convenios['SITUAÇÃO CONVÊNIO'].astype('category')\n",
        "convenios['NOME ÓRGÃO SUPERIOR'] = convenios['NOME ÓRGÃO SUPERIOR'].astype('category')\n",
        "convenios['NOME ÓRGÃO CONCEDENTE'] = convenios['NOME ÓRGÃO CONCEDENTE'].astype('category')\n",
        "convenios['TIPO CONVENENTE'] = convenios['TIPO CONVENENTE'].astype('category')\n",
        "convenios['NOME CONVENENTE'] = convenios['NOME CONVENENTE'].astype('category')\n",
        "convenios['TIPO ENTE CONVENENTE'] = convenios['TIPO ENTE CONVENENTE'].astype('category')\n",
        "convenios['TIPO INSTRUMENTO'] = convenios['TIPO INSTRUMENTO'].astype('category')\n"
      ],
      "execution_count": 0,
      "outputs": []
    },
    {
      "cell_type": "code",
      "metadata": {
        "colab_type": "code",
        "id": "HRSFBmGUnMz8",
        "outputId": "4e480e62-d0ff-434b-deaa-9ca640606fb1",
        "colab": {
          "base_uri": "https://localhost:8080/",
          "height": 306
        }
      },
      "source": [
        "convenios.dtypes"
      ],
      "execution_count": 275,
      "outputs": [
        {
          "output_type": "execute_result",
          "data": {
            "text/plain": [
              "UF                        category\n",
              "NOME MUNICÍPIO            category\n",
              "SITUAÇÃO CONVÊNIO         category\n",
              "NOME ÓRGÃO SUPERIOR       category\n",
              "NOME ÓRGÃO CONCEDENTE     category\n",
              "TIPO CONVENENTE           category\n",
              "NOME CONVENENTE           category\n",
              "TIPO ENTE CONVENENTE      category\n",
              "TIPO INSTRUMENTO          category\n",
              "VALOR CONVÊNIO            float64 \n",
              "VALOR LIBERADO            float64 \n",
              "DATA INÍCIO VIGÊNCIA      object  \n",
              "DATA FINAL VIGÊNCIA       object  \n",
              "VALOR CONTRAPARTIDA       float64 \n",
              "DATA ÚLTIMA LIBERAÇÃO     object  \n",
              "VALOR ÚLTIMA LIBERAÇÃO    float64 \n",
              "dtype: object"
            ]
          },
          "metadata": {
            "tags": []
          },
          "execution_count": 275
        }
      ]
    },
    {
      "cell_type": "markdown",
      "metadata": {
        "id": "XgOB6v_zXARh",
        "colab_type": "text"
      },
      "source": [
        "## Conhecendo um pouco mais os dados"
      ]
    },
    {
      "cell_type": "code",
      "metadata": {
        "id": "FYJH7QK7I1HJ",
        "colab_type": "code",
        "colab": {
          "base_uri": "https://localhost:8080/",
          "height": 85
        },
        "outputId": "db93a10e-0dad-4eae-d6ba-8b2a2b0d5987"
      },
      "source": [
        "convenios['UF'].cat.categories"
      ],
      "execution_count": 276,
      "outputs": [
        {
          "output_type": "execute_result",
          "data": {
            "text/plain": [
              "Index(['-1', 'AC', 'AL', 'AM', 'AP', 'BA', 'CE', 'DF', 'ES', 'EX', 'GO', 'MA',\n",
              "       'MG', 'MS', 'MT', 'PA', 'PB', 'PE', 'PI', 'PR', 'RJ', 'RN', 'RO', 'RR',\n",
              "       'RS', 'SC', 'SE', 'SP', 'TO'],\n",
              "      dtype='object')"
            ]
          },
          "metadata": {
            "tags": []
          },
          "execution_count": 276
        }
      ]
    },
    {
      "cell_type": "code",
      "metadata": {
        "colab_type": "code",
        "id": "CyVt9fo9o814",
        "outputId": "ab5d62b2-6c9d-46e7-9d9f-1144f343d189",
        "colab": {
          "base_uri": "https://localhost:8080/",
          "height": 68
        }
      },
      "source": [
        "convenios['SITUAÇÃO CONVÊNIO'].cat.categories"
      ],
      "execution_count": 180,
      "outputs": [
        {
          "output_type": "execute_result",
          "data": {
            "text/plain": [
              "Index(['ADIMPLENTE', 'ARQUIVADO', 'BAIXADO', 'CANCELADO', 'CONCLUÍDO',\n",
              "       'EXCLUÍDO', 'INADIMPLENTE', 'INADIMPLÊNCIA SUSPENSA', 'RESCINDIDO'],\n",
              "      dtype='object')"
            ]
          },
          "metadata": {
            "tags": []
          },
          "execution_count": 180
        }
      ]
    },
    {
      "cell_type": "code",
      "metadata": {
        "id": "DjYfUyiS7xUL",
        "colab_type": "code",
        "outputId": "76e147ba-be09-45c3-b81d-cce5a2ced2cc",
        "colab": {
          "base_uri": "https://localhost:8080/",
          "height": 136
        }
      },
      "source": [
        "convenios['TIPO CONVENENTE'].cat.categories"
      ],
      "execution_count": 181,
      "outputs": [
        {
          "output_type": "execute_result",
          "data": {
            "text/plain": [
              "Index(['Administração Pública',\n",
              "       'Administração Pública Estadual ou do Distrito Federal',\n",
              "       'Administração Pública Federal', 'Administração Pública Municipal',\n",
              "       'Agentes Intermediários', 'Entidades Empresariais Privadas',\n",
              "       'Entidades Sem Fins Lucrativos', 'Fundo Público',\n",
              "       'Organizações Internacionais', 'Pessoa Física', 'Sem Informação'],\n",
              "      dtype='object')"
            ]
          },
          "metadata": {
            "tags": []
          },
          "execution_count": 181
        }
      ]
    },
    {
      "cell_type": "code",
      "metadata": {
        "id": "Ba8oAWXK8ClS",
        "colab_type": "code",
        "outputId": "43c70998-1f28-425c-a8f5-efefda97edd7",
        "colab": {
          "base_uri": "https://localhost:8080/",
          "height": 34
        }
      },
      "source": [
        "convenios['TIPO ENTE CONVENENTE'].cat.categories"
      ],
      "execution_count": 182,
      "outputs": [
        {
          "output_type": "execute_result",
          "data": {
            "text/plain": [
              "Index(['Estadual', 'Municipal'], dtype='object')"
            ]
          },
          "metadata": {
            "tags": []
          },
          "execution_count": 182
        }
      ]
    },
    {
      "cell_type": "code",
      "metadata": {
        "id": "khgIwFuW7J1j",
        "colab_type": "code",
        "outputId": "a79bcac0-f290-4874-d9ae-889630409d71",
        "colab": {
          "base_uri": "https://localhost:8080/",
          "height": 85
        }
      },
      "source": [
        "convenios['TIPO INSTRUMENTO'].cat.categories"
      ],
      "execution_count": 183,
      "outputs": [
        {
          "output_type": "execute_result",
          "data": {
            "text/plain": [
              "Index(['ACORDO DE COOPERACAO TECNICA', 'CONTRATO DE REPASSE', 'CONVENIO',\n",
              "       'Sem informação', 'TERMO DE COMPROMISSO', 'TERMO DE PARCERIA',\n",
              "       'TRANSFERENCIA LEGAL'],\n",
              "      dtype='object')"
            ]
          },
          "metadata": {
            "tags": []
          },
          "execution_count": 183
        }
      ]
    },
    {
      "cell_type": "code",
      "metadata": {
        "id": "im2hb5ntYlqN",
        "colab_type": "code",
        "colab": {
          "base_uri": "https://localhost:8080/",
          "height": 289
        },
        "outputId": "bd95bae4-81f8-48e5-99c2-756ccd370a82"
      },
      "source": [
        "convenios['NOME ÓRGÃO SUPERIOR'].cat.categories "
      ],
      "execution_count": 184,
      "outputs": [
        {
          "output_type": "execute_result",
          "data": {
            "text/plain": [
              "Index(['Controladoria-Geral da União',\n",
              "       'Ministério da Agricultura, Pecuária e Abastecimento',\n",
              "       'Ministério da Cidadania',\n",
              "       'Ministério da Ciência, Tecnologia, Inovações e Comunicações',\n",
              "       'Ministério da Defesa', 'Ministério da Economia',\n",
              "       'Ministério da Educação', 'Ministério da Infraestrutura',\n",
              "       'Ministério da Justiça e Segurança Pública',\n",
              "       'Ministério da Mulher, Família e Direitos Humanos',\n",
              "       'Ministério da Pesca e Aquicultura', 'Ministério da Previdência Social',\n",
              "       'Ministério da Saúde', 'Ministério das Comunicações',\n",
              "       'Ministério das Relações Exteriores', 'Ministério de Minas e Energia',\n",
              "       'Ministério do Desenvolvimento Regional', 'Ministério do Meio Ambiente',\n",
              "       'Ministério do Planejamento, Desenvolvimento e Gestão',\n",
              "       'Ministério do Trabalho e Emprego', 'Ministério do Turismo',\n",
              "       'Presidência da República'],\n",
              "      dtype='object')"
            ]
          },
          "metadata": {
            "tags": []
          },
          "execution_count": 184
        }
      ]
    },
    {
      "cell_type": "code",
      "metadata": {
        "id": "hjEtq8uwYYht",
        "colab_type": "code",
        "colab": {
          "base_uri": "https://localhost:8080/",
          "height": 1000
        },
        "outputId": "759fab6f-2f94-43ba-c821-c58d14b6f818"
      },
      "source": [
        "convenios['NOME ÓRGÃO CONCEDENTE'].cat.categories "
      ],
      "execution_count": 185,
      "outputs": [
        {
          "output_type": "execute_result",
          "data": {
            "text/plain": [
              "Index(['Agência Espacial Brasileira', 'Agência Nacional de Aviação Civil',\n",
              "       'Agência Nacional de Energia Elétrica',\n",
              "       'Agência Nacional de Saúde Suplementar', 'Agência Nacional do Cinema',\n",
              "       'Agência de Desenvolvimento da Amazônia',\n",
              "       'Banco Central do Brasil - Orçamento Fiscal e Seguridade Social',\n",
              "       'Comando da Aeronáutica', 'Comando da Marinha',\n",
              "       'Comando da Marinha - Fundo Naval', 'Comando do Exército',\n",
              "       'Comissão Nacional de Energia Nuclear',\n",
              "       'Companhia Brasileira de Trens Urbanos',\n",
              "       'Companhia Nacional de Abastecimento',\n",
              "       'Companhia de Desenvolvimento dos Vales do São Francisco e do Parnaíba',\n",
              "       'Conselho Nacional de Desenvolvimento Científico e Tecnológico',\n",
              "       'Controladoria-Geral da União',\n",
              "       'Departamento Nacional de Estradas de Rodagem',\n",
              "       'Departamento Nacional de Infraestrutura de Transportes',\n",
              "       'Departamento Nacional de Obras Contra as Secas',\n",
              "       'Departamento Nacional de Produção Mineral',\n",
              "       'Departamento de Polícia Rodoviária Federal',\n",
              "       'Empresa Brasileira de Pesquisa Agropecuária',\n",
              "       'Financiadora de Estudos e Projetos', 'Fundação Alexandre de Gusmão',\n",
              "       'Fundação Coordenação de Aperfeiçoamento de Pessoal de Nível Superior',\n",
              "       'Fundação Cultural Palmares',\n",
              "       'Fundação Jorge Duprat Figueiredo, de Segurança e Medicina do Trabalho',\n",
              "       'Fundação Nacional de Artes', 'Fundação Nacional de Saúde',\n",
              "       'Fundação Nacional do Índio', 'Fundação Oswaldo Cruz',\n",
              "       'Fundação Universidade Federal do Piauí',\n",
              "       'Fundação Universidade de Brasília',\n",
              "       'Fundação Universidade do Maranhão', 'Fundo Aeronáutico',\n",
              "       'Fundo Geral de Turismo', 'Fundo Nacional Antidrogas',\n",
              "       'Fundo Nacional de Assistência Social', 'Fundo Nacional de Cultura',\n",
              "       'Fundo Nacional de Desenvolvimento Científico e Tecnológico',\n",
              "       'Fundo Nacional de Desenvolvimento da Educação',\n",
              "       'Fundo Nacional de Habitação de Interesse Social',\n",
              "       'Fundo Nacional do Meio Ambiente', 'Fundo Penitenciário Nacional',\n",
              "       'Fundo de Amparo ao Trabalhador',\n",
              "       'Fundo de Defesa da Economia Cafeeira',\n",
              "       'Fundo de Desenvolvimento do Ensino Profissional Marítimo',\n",
              "       'Fundo para o Desenvolvimento Tecnológico das Telecomunicações',\n",
              "       'Indústrias Nucleares do Brasil', 'Instituto Brasileiro de Turismo',\n",
              "       'Instituto Brasileiro do Meio Ambiente e dos Recursos Naturais Renováveis',\n",
              "       'Instituto Chico Mendes de Conservação da Biodiversidade',\n",
              "       'Instituto Federal do Ceará', 'Instituto Federal do Maranhão',\n",
              "       'Instituto Nacional da Propriedade Industrial',\n",
              "       'Instituto Nacional de Colonização e Reforma Agrária',\n",
              "       'Instituto Nacional de Estudos e Pesquisas Educacionais Anísio Teixeira',\n",
              "       'Instituto Nacional de Metrologia, Qualidade e Tecnologia',\n",
              "       'Instituto de Pesquisa Econômica Aplicada',\n",
              "       'Instituto do Patrimônio Histórico e Artístico Nacional',\n",
              "       'Ministério da Agricultura, Pecuária e Abastecimento - Unidades com vínculo direto',\n",
              "       'Ministério da Cidadania - Unidades com vínculo direto',\n",
              "       'Ministério da Ciência, Tecnologia, Inovações e Comunicações - Unidades com vínculo direto',\n",
              "       'Ministério da Economia - Unidades com vínculo direto',\n",
              "       'Ministério da Educação - Unidades com vínculo direto',\n",
              "       'Ministério da Infraestrutura - Unidades com vínculo direto',\n",
              "       'Ministério da Justiça e Segurança Pública - Unidades com vínculo direto',\n",
              "       'Ministério da Mulher, Família e Direitos Humanos - Unidades com vínculo direto',\n",
              "       'Ministério da Pesca e Aquicultura - Unidades com vínculo direto',\n",
              "       'Ministério da Previdência Social - Unidades com vínculo direto',\n",
              "       'Ministério da Saúde - Unidades com vínculo direto',\n",
              "       'Ministério das Comunicações - Unidades com vínculo direto',\n",
              "       'Ministério das Relações Exteriores - Unidades com vínculo direto',\n",
              "       'Ministério de Minas e Energia - Unidades com vínculo direto',\n",
              "       'Ministério do Desenvolvimento Regional - Unidades com vínculo direto',\n",
              "       'Ministério do Meio Ambiente - Unidades com vínculo direto',\n",
              "       'Ministério do Planejamento, Desenvolvimento e Gestão - Unidades com vínculo direto',\n",
              "       'Ministério do Trabalho e Emprego - Unidades com vínculo direto',\n",
              "       'Presidência da República',\n",
              "       'Radiobrás Empresa Brasileira de Comunicação S.A.',\n",
              "       'Secretaria de Direitos Humanos', 'Secretaria de Portos',\n",
              "       'Superintendência da Zona Franca de Manaus',\n",
              "       'Superintendência de Desenvolvimento do Centro-Oeste',\n",
              "       'Superintendência de Seguros Privados',\n",
              "       'Superintendência do Desenvolvimento da Amazônia',\n",
              "       'Superintendência do Desenvolvimento do Nordeste',\n",
              "       'Universidade Federal da Paraíba',\n",
              "       'Universidade Federal de Juiz de Fora',\n",
              "       'Universidade Federal de Pernambuco',\n",
              "       'Universidade Federal de Santa Catarina',\n",
              "       'Universidade Federal do Ceará',\n",
              "       'Universidade Federal do Estado do Rio de Janeiro',\n",
              "       'Universidade Federal do Pará'],\n",
              "      dtype='object')"
            ]
          },
          "metadata": {
            "tags": []
          },
          "execution_count": 185
        }
      ]
    },
    {
      "cell_type": "markdown",
      "metadata": {
        "colab_type": "text",
        "id": "6V4tDIKz4tOg"
      },
      "source": [
        "## Tratamento de dados ausentes"
      ]
    },
    {
      "cell_type": "code",
      "metadata": {
        "id": "MqAdPRJNYjwj",
        "colab_type": "code",
        "colab": {
          "base_uri": "https://localhost:8080/",
          "height": 632
        },
        "outputId": "f8b1ce80-406a-410e-a9ea-eef36925c23b"
      },
      "source": [
        "convenios.head()"
      ],
      "execution_count": 186,
      "outputs": [
        {
          "output_type": "execute_result",
          "data": {
            "text/html": [
              "<div>\n",
              "<style scoped>\n",
              "    .dataframe tbody tr th:only-of-type {\n",
              "        vertical-align: middle;\n",
              "    }\n",
              "\n",
              "    .dataframe tbody tr th {\n",
              "        vertical-align: top;\n",
              "    }\n",
              "\n",
              "    .dataframe thead th {\n",
              "        text-align: right;\n",
              "    }\n",
              "</style>\n",
              "<table border=\"1\" class=\"dataframe\">\n",
              "  <thead>\n",
              "    <tr style=\"text-align: right;\">\n",
              "      <th></th>\n",
              "      <th>UF</th>\n",
              "      <th>NOME MUNICÍPIO</th>\n",
              "      <th>SITUAÇÃO CONVÊNIO</th>\n",
              "      <th>NOME ÓRGÃO SUPERIOR</th>\n",
              "      <th>NOME ÓRGÃO CONCEDENTE</th>\n",
              "      <th>TIPO CONVENENTE</th>\n",
              "      <th>NOME CONVENENTE</th>\n",
              "      <th>TIPO ENTE CONVENENTE</th>\n",
              "      <th>TIPO INSTRUMENTO</th>\n",
              "      <th>VALOR CONVÊNIO</th>\n",
              "      <th>VALOR LIBERADO</th>\n",
              "      <th>DATA INÍCIO VIGÊNCIA</th>\n",
              "      <th>DATA FINAL VIGÊNCIA</th>\n",
              "      <th>VALOR CONTRAPARTIDA</th>\n",
              "      <th>DATA ÚLTIMA LIBERAÇÃO</th>\n",
              "      <th>VALOR ÚLTIMA LIBERAÇÃO</th>\n",
              "    </tr>\n",
              "  </thead>\n",
              "  <tbody>\n",
              "    <tr>\n",
              "      <th>0</th>\n",
              "      <td>SP</td>\n",
              "      <td>MAUA</td>\n",
              "      <td>CONCLUÍDO</td>\n",
              "      <td>Ministério da Educação</td>\n",
              "      <td>Fundo Nacional de Desenvolvimento da Educação</td>\n",
              "      <td>Administração Pública Municipal</td>\n",
              "      <td>MUNICIPIO DE MAUA</td>\n",
              "      <td>Municipal</td>\n",
              "      <td>Sem informação</td>\n",
              "      <td>2110457.00</td>\n",
              "      <td>2054267.71</td>\n",
              "      <td>28/02/1996</td>\n",
              "      <td>28/02/1999</td>\n",
              "      <td>0.0</td>\n",
              "      <td>07/12/1995</td>\n",
              "      <td>0.00</td>\n",
              "    </tr>\n",
              "    <tr>\n",
              "      <th>1</th>\n",
              "      <td>RS</td>\n",
              "      <td>VIAMAO</td>\n",
              "      <td>ADIMPLENTE</td>\n",
              "      <td>Ministério da Educação</td>\n",
              "      <td>Fundo Nacional de Desenvolvimento da Educação</td>\n",
              "      <td>Administração Pública Municipal</td>\n",
              "      <td>MUNICIPIO DE VIAMAO</td>\n",
              "      <td>Municipal</td>\n",
              "      <td>CONVENIO</td>\n",
              "      <td>515877.96</td>\n",
              "      <td>406200.76</td>\n",
              "      <td>27/02/1996</td>\n",
              "      <td>28/02/1999</td>\n",
              "      <td>0.0</td>\n",
              "      <td>13/12/1995</td>\n",
              "      <td>0.00</td>\n",
              "    </tr>\n",
              "    <tr>\n",
              "      <th>2</th>\n",
              "      <td>PE</td>\n",
              "      <td>RECIFE</td>\n",
              "      <td>CONCLUÍDO</td>\n",
              "      <td>Ministério da Infraestrutura</td>\n",
              "      <td>Departamento Nacional de Infraestrutura de Transportes</td>\n",
              "      <td>Entidades Empresariais Privadas</td>\n",
              "      <td>3º BATALHÃO DE ENGENHARIA DE CONSTRUÇÃO</td>\n",
              "      <td>Municipal</td>\n",
              "      <td>Sem informação</td>\n",
              "      <td>19439537.00</td>\n",
              "      <td>17777924.41</td>\n",
              "      <td>15/11/2002</td>\n",
              "      <td>28/06/2005</td>\n",
              "      <td>0.0</td>\n",
              "      <td>28/12/2004</td>\n",
              "      <td>0.00</td>\n",
              "    </tr>\n",
              "    <tr>\n",
              "      <th>3</th>\n",
              "      <td>SP</td>\n",
              "      <td>BAURU</td>\n",
              "      <td>CONCLUÍDO</td>\n",
              "      <td>Ministério da Saúde</td>\n",
              "      <td>Ministério da Saúde - Unidades com vínculo direto</td>\n",
              "      <td>Administração Pública Estadual ou do Distrito Federal</td>\n",
              "      <td>UNIVERSIDADE DE SAO PAULO</td>\n",
              "      <td>Estadual</td>\n",
              "      <td>Sem informação</td>\n",
              "      <td>5000000.00</td>\n",
              "      <td>5000000.00</td>\n",
              "      <td>29/12/1995</td>\n",
              "      <td>30/06/1998</td>\n",
              "      <td>0.0</td>\n",
              "      <td>29/12/1994</td>\n",
              "      <td>0.00</td>\n",
              "    </tr>\n",
              "    <tr>\n",
              "      <th>4</th>\n",
              "      <td>RJ</td>\n",
              "      <td>RIO DE JANEIRO</td>\n",
              "      <td>CONCLUÍDO</td>\n",
              "      <td>Ministério da Saúde</td>\n",
              "      <td>Fundação Oswaldo Cruz</td>\n",
              "      <td>Administração Pública Estadual ou do Distrito Federal</td>\n",
              "      <td>FUNDACAO CARLOS CHAGAS FILHO DE AMPARO A PESQUISA DO ESTADO DO RIO DE JANEIRO-FAPERJ</td>\n",
              "      <td>Estadual</td>\n",
              "      <td>Sem informação</td>\n",
              "      <td>12741999.13</td>\n",
              "      <td>11415402.92</td>\n",
              "      <td>24/11/1995</td>\n",
              "      <td>28/02/2002</td>\n",
              "      <td>0.0</td>\n",
              "      <td>19/12/2001</td>\n",
              "      <td>153846.11</td>\n",
              "    </tr>\n",
              "  </tbody>\n",
              "</table>\n",
              "</div>"
            ],
            "text/plain": [
              "   UF  NOME MUNICÍPIO SITUAÇÃO CONVÊNIO           NOME ÓRGÃO SUPERIOR  \\\n",
              "0  SP  MAUA            CONCLUÍDO         Ministério da Educação         \n",
              "1  RS  VIAMAO          ADIMPLENTE        Ministério da Educação         \n",
              "2  PE  RECIFE          CONCLUÍDO         Ministério da Infraestrutura   \n",
              "3  SP  BAURU           CONCLUÍDO         Ministério da Saúde            \n",
              "4  RJ  RIO DE JANEIRO  CONCLUÍDO         Ministério da Saúde            \n",
              "\n",
              "                                    NOME ÓRGÃO CONCEDENTE  \\\n",
              "0  Fundo Nacional de Desenvolvimento da Educação            \n",
              "1  Fundo Nacional de Desenvolvimento da Educação            \n",
              "2  Departamento Nacional de Infraestrutura de Transportes   \n",
              "3  Ministério da Saúde - Unidades com vínculo direto        \n",
              "4  Fundação Oswaldo Cruz                                    \n",
              "\n",
              "                                         TIPO CONVENENTE  \\\n",
              "0  Administração Pública Municipal                         \n",
              "1  Administração Pública Municipal                         \n",
              "2  Entidades Empresariais Privadas                         \n",
              "3  Administração Pública Estadual ou do Distrito Federal   \n",
              "4  Administração Pública Estadual ou do Distrito Federal   \n",
              "\n",
              "                                                                        NOME CONVENENTE  \\\n",
              "0  MUNICIPIO DE MAUA                                                                      \n",
              "1  MUNICIPIO DE VIAMAO                                                                    \n",
              "2  3º BATALHÃO DE ENGENHARIA DE CONSTRUÇÃO                                                \n",
              "3  UNIVERSIDADE DE SAO PAULO                                                              \n",
              "4  FUNDACAO CARLOS CHAGAS FILHO DE AMPARO A PESQUISA DO ESTADO DO RIO DE JANEIRO-FAPERJ   \n",
              "\n",
              "  TIPO ENTE CONVENENTE TIPO INSTRUMENTO  VALOR CONVÊNIO  VALOR LIBERADO  \\\n",
              "0  Municipal            Sem informação   2110457.00      2054267.71       \n",
              "1  Municipal            CONVENIO         515877.96       406200.76        \n",
              "2  Municipal            Sem informação   19439537.00     17777924.41      \n",
              "3  Estadual             Sem informação   5000000.00      5000000.00       \n",
              "4  Estadual             Sem informação   12741999.13     11415402.92      \n",
              "\n",
              "  DATA INÍCIO VIGÊNCIA DATA FINAL VIGÊNCIA  VALOR CONTRAPARTIDA  \\\n",
              "0  28/02/1996           28/02/1999          0.0                   \n",
              "1  27/02/1996           28/02/1999          0.0                   \n",
              "2  15/11/2002           28/06/2005          0.0                   \n",
              "3  29/12/1995           30/06/1998          0.0                   \n",
              "4  24/11/1995           28/02/2002          0.0                   \n",
              "\n",
              "  DATA ÚLTIMA LIBERAÇÃO  VALOR ÚLTIMA LIBERAÇÃO  \n",
              "0  07/12/1995            0.00                    \n",
              "1  13/12/1995            0.00                    \n",
              "2  28/12/2004            0.00                    \n",
              "3  29/12/1994            0.00                    \n",
              "4  19/12/2001            153846.11               "
            ]
          },
          "metadata": {
            "tags": []
          },
          "execution_count": 186
        }
      ]
    },
    {
      "cell_type": "code",
      "metadata": {
        "colab_type": "code",
        "id": "HZQ-Q33r_Uz_",
        "outputId": "5304c2b5-6a1c-4967-ec6d-92b2632ce1ce",
        "colab": {
          "base_uri": "https://localhost:8080/",
          "height": 306
        }
      },
      "source": [
        "# Verificando quantidade de dados nulos\n",
        "print(convenios.isnull().sum())"
      ],
      "execution_count": 277,
      "outputs": [
        {
          "output_type": "stream",
          "text": [
            "UF                        0   \n",
            "NOME MUNICÍPIO            0   \n",
            "SITUAÇÃO CONVÊNIO         0   \n",
            "NOME ÓRGÃO SUPERIOR       0   \n",
            "NOME ÓRGÃO CONCEDENTE     0   \n",
            "TIPO CONVENENTE           0   \n",
            "NOME CONVENENTE           0   \n",
            "TIPO ENTE CONVENENTE      0   \n",
            "TIPO INSTRUMENTO          0   \n",
            "VALOR CONVÊNIO            0   \n",
            "VALOR LIBERADO            0   \n",
            "DATA INÍCIO VIGÊNCIA      0   \n",
            "DATA FINAL VIGÊNCIA       0   \n",
            "VALOR CONTRAPARTIDA       0   \n",
            "DATA ÚLTIMA LIBERAÇÃO     4439\n",
            "VALOR ÚLTIMA LIBERAÇÃO    0   \n",
            "dtype: int64\n"
          ],
          "name": "stdout"
        }
      ]
    },
    {
      "cell_type": "code",
      "metadata": {
        "colab_type": "code",
        "id": "dbbuKsg_-M4e",
        "colab": {}
      },
      "source": [
        "# Como a utilidade da coluna DATA ÚLTIMA LIBERAÇÃO era duvidosa e apresentou muitos dados vazios, optou-se por excluí-la\n",
        "convenios = convenios.drop(['DATA ÚLTIMA LIBERAÇÃO'], axis=1)\n",
        "# Além disso, VALOR ÚLTIMA LIBERAÇÃO apresentou falsos não nulos, contendo zero inadequadamente, de forma que também foi excluído dessa análise inicial\n",
        "convenios = convenios.drop(['VALOR ÚLTIMA LIBERAÇÃO'], axis=1)"
      ],
      "execution_count": 0,
      "outputs": []
    },
    {
      "cell_type": "code",
      "metadata": {
        "id": "92Y6QLmw9fPN",
        "colab_type": "code",
        "outputId": "1abba481-3830-4ad3-a60f-510314c9e97f",
        "colab": {
          "base_uri": "https://localhost:8080/",
          "height": 272
        }
      },
      "source": [
        "# Confirmando exclusões\n",
        "print(convenios.isnull().sum())"
      ],
      "execution_count": 279,
      "outputs": [
        {
          "output_type": "stream",
          "text": [
            "UF                       0\n",
            "NOME MUNICÍPIO           0\n",
            "SITUAÇÃO CONVÊNIO        0\n",
            "NOME ÓRGÃO SUPERIOR      0\n",
            "NOME ÓRGÃO CONCEDENTE    0\n",
            "TIPO CONVENENTE          0\n",
            "NOME CONVENENTE          0\n",
            "TIPO ENTE CONVENENTE     0\n",
            "TIPO INSTRUMENTO         0\n",
            "VALOR CONVÊNIO           0\n",
            "VALOR LIBERADO           0\n",
            "DATA INÍCIO VIGÊNCIA     0\n",
            "DATA FINAL VIGÊNCIA      0\n",
            "VALOR CONTRAPARTIDA      0\n",
            "dtype: int64\n"
          ],
          "name": "stdout"
        }
      ]
    },
    {
      "cell_type": "code",
      "metadata": {
        "id": "AW0ucKfjalwa",
        "colab_type": "code",
        "colab": {
          "base_uri": "https://localhost:8080/",
          "height": 85
        },
        "outputId": "29bf9202-0bc2-409f-d8e6-610dfd4a005c"
      },
      "source": [
        "#Por fim, verificou-se os falsos não nulos\n",
        "print((convenios['TIPO CONVENENTE'] == 'Sem Informação').sum())\n",
        "print((convenios['TIPO INSTRUMENTO'] == 'Sem informação').sum())\n",
        "print((convenios['UF'] == '-1').sum())\n",
        "print((convenios['VALOR CONVÊNIO'] == 0).sum())"
      ],
      "execution_count": 280,
      "outputs": [
        {
          "output_type": "stream",
          "text": [
            "29\n",
            "34318\n",
            "27\n",
            "338\n"
          ],
          "name": "stdout"
        }
      ]
    },
    {
      "cell_type": "code",
      "metadata": {
        "id": "R-Vxq-rLa3LU",
        "colab_type": "code",
        "colab": {}
      },
      "source": [
        "# Como TIPO INSTRUMENTO apresentou grande quantidade de registros Sem informação, optou-se por excluí-lo\n",
        "convenios = convenios.drop(['TIPO INSTRUMENTO'], axis=1)\n",
        "# Também decidiu-se remover as instâncias inválidas cujo VALOR CONVÊNIO = 0\n",
        "convenios = convenios[(convenios['VALOR CONVÊNIO'] > 0)]"
      ],
      "execution_count": 0,
      "outputs": []
    },
    {
      "cell_type": "code",
      "metadata": {
        "id": "bQWfOe6dbFR9",
        "colab_type": "code",
        "colab": {
          "base_uri": "https://localhost:8080/",
          "height": 34
        },
        "outputId": "a13d6372-a729-4b8b-c6fd-9f6abc4ff2d6"
      },
      "source": [
        "convenios.shape"
      ],
      "execution_count": 282,
      "outputs": [
        {
          "output_type": "execute_result",
          "data": {
            "text/plain": [
              "(39661, 13)"
            ]
          },
          "metadata": {
            "tags": []
          },
          "execution_count": 282
        }
      ]
    },
    {
      "cell_type": "markdown",
      "metadata": {
        "id": "Nu9IQakTqxWo",
        "colab_type": "text"
      },
      "source": [
        "## Normalização e Discretização"
      ]
    },
    {
      "cell_type": "code",
      "metadata": {
        "id": "DXSsif_pzMnp",
        "colab_type": "code",
        "colab": {
          "base_uri": "https://localhost:8080/",
          "height": 170
        },
        "outputId": "bdf038d1-c500-4bcf-afca-7abc444b80ea"
      },
      "source": [
        "# Normalizando, apenas para fins educativos\n",
        "from sklearn.preprocessing import StandardScaler, MinMaxScaler\n",
        "scaler = MinMaxScaler()\n",
        "convenios['valor_norm'] = scaler.fit_transform(convenios[['VALOR CONVÊNIO']])\n",
        "# Por média e desvio padrão\n",
        "convenios['valor_norm'] = (convenios['VALOR CONVÊNIO'] - convenios['VALOR CONVÊNIO'].mean()) / (convenios['VALOR CONVÊNIO'].std())\n",
        "convenios['valor_norm'].describe()"
      ],
      "execution_count": 283,
      "outputs": [
        {
          "output_type": "execute_result",
          "data": {
            "text/plain": [
              "count    3.966100e+04\n",
              "mean     2.060169e-16\n",
              "std      1.000000e+00\n",
              "min     -3.147943e-02\n",
              "25%     -3.098748e-02\n",
              "50%     -2.972807e-02\n",
              "75%     -2.585718e-02\n",
              "max      1.780598e+02\n",
              "Name: valor_norm, dtype: float64"
            ]
          },
          "metadata": {
            "tags": []
          },
          "execution_count": 283
        }
      ]
    },
    {
      "cell_type": "code",
      "metadata": {
        "id": "EMi260710SK5",
        "colab_type": "code",
        "colab": {
          "base_uri": "https://localhost:8080/",
          "height": 170
        },
        "outputId": "87c0734d-69c9-409f-eae1-df700d66f976"
      },
      "source": [
        "# Por min e max\n",
        "# Intervalo [0, 1] \n",
        "convenios['valor_norm'] = (convenios['VALOR CONVÊNIO'] - convenios['VALOR CONVÊNIO'].min()) / (convenios['VALOR CONVÊNIO'].max() - convenios['VALOR CONVÊNIO'].min()) \n",
        "# Intervalo [-1, 1]\n",
        "# convenios['valor_norm'] = ((convenios['VALOR CONVÊNIO'] - convenios['VALOR CONVÊNIO'].min()) / (convenios['VALOR CONVÊNIO'].max() - convenios['VALOR CONVÊNIO'].min())*2) -1 \n",
        "convenios['valor_norm'].describe()\n"
      ],
      "execution_count": 284,
      "outputs": [
        {
          "output_type": "execute_result",
          "data": {
            "text/plain": [
              "count    39661.000000\n",
              "mean     0.000177    \n",
              "std      0.005615    \n",
              "min      0.000000    \n",
              "25%      0.000003    \n",
              "50%      0.000010    \n",
              "75%      0.000032    \n",
              "max      1.000000    \n",
              "Name: valor_norm, dtype: float64"
            ]
          },
          "metadata": {
            "tags": []
          },
          "execution_count": 284
        }
      ]
    },
    {
      "cell_type": "code",
      "metadata": {
        "id": "GEWUMLsd4IvH",
        "colab_type": "code",
        "colab": {
          "base_uri": "https://localhost:8080/",
          "height": 282
        },
        "outputId": "136a179e-c792-48a6-940f-f42732bbc343"
      },
      "source": [
        "# Discretizando com 2 intervalos iguais\n",
        "convenios['valor_dist'] = pd.cut(convenios['VALOR CONVÊNIO'],2)\n",
        "\n",
        "counts = convenios['valor_dist'].value_counts()\n",
        "counts.plot.bar(rot=0)"
      ],
      "execution_count": 285,
      "outputs": [
        {
          "output_type": "execute_result",
          "data": {
            "text/plain": [
              "<matplotlib.axes._subplots.AxesSubplot at 0x7f272ab444a8>"
            ]
          },
          "metadata": {
            "tags": []
          },
          "execution_count": 285
        },
        {
          "output_type": "display_data",
          "data": {
            "image/png": "[encoded data removed]",
            "text/plain": [
              "<Figure size 432x288 with 1 Axes>"
            ]
          },
          "metadata": {
            "tags": []
          }
        }
      ]
    },
    {
      "cell_type": "code",
      "metadata": {
        "id": "wEJNqJLJ3RLW",
        "colab_type": "code",
        "colab": {
          "base_uri": "https://localhost:8080/",
          "height": 282
        },
        "outputId": "b63b24b1-e0ac-454d-8545-19d8c601f0c4"
      },
      "source": [
        "# Discretizando com números de elementos iguais\n",
        "convenios['valor_dist'] = pd.qcut(convenios['VALOR CONVÊNIO'],5)\n",
        "convenios['valor_dist'].value_counts()\n",
        "counts = convenios['valor_dist'].value_counts()\n",
        "counts.plot.bar(rot=0)"
      ],
      "execution_count": 286,
      "outputs": [
        {
          "output_type": "execute_result",
          "data": {
            "text/plain": [
              "<matplotlib.axes._subplots.AxesSubplot at 0x7f272b7cde10>"
            ]
          },
          "metadata": {
            "tags": []
          },
          "execution_count": 286
        },
        {
          "output_type": "display_data",
          "data": {
            "image/png": "[encoded data removed]",
            "text/plain": [
              "<Figure size 432x288 with 1 Axes>"
            ]
          },
          "metadata": {
            "tags": []
          }
        }
      ]
    },
    {
      "cell_type": "markdown",
      "metadata": {
        "id": "kSN03GUvq7G1",
        "colab_type": "text"
      },
      "source": [
        "## Removendo Outliers\n"
      ]
    },
    {
      "cell_type": "code",
      "metadata": {
        "id": "aq76N3_r8277",
        "colab_type": "code",
        "colab": {
          "base_uri": "https://localhost:8080/",
          "height": 170
        },
        "outputId": "76b12f8d-fe12-4c89-ee34-e52337b011df"
      },
      "source": [
        "convenios['VALOR CONVÊNIO'].describe()"
      ],
      "execution_count": 287,
      "outputs": [
        {
          "output_type": "execute_result",
          "data": {
            "text/plain": [
              "count    3.966100e+04\n",
              "mean     6.398864e+05\n",
              "std      2.032713e+07\n",
              "min      1.000000e-02\n",
              "25%      1.000000e+04\n",
              "50%      3.560000e+04\n",
              "75%      1.142841e+05\n",
              "max      3.620084e+09\n",
              "Name: VALOR CONVÊNIO, dtype: float64"
            ]
          },
          "metadata": {
            "tags": []
          },
          "execution_count": 287
        }
      ]
    },
    {
      "cell_type": "code",
      "metadata": {
        "id": "8ap2NdQt9MrG",
        "colab_type": "code",
        "colab": {
          "base_uri": "https://localhost:8080/",
          "height": 293
        },
        "outputId": "de53ff2b-ecfc-40e7-f89d-3e23e2a0aa31"
      },
      "source": [
        "convenios['VALOR CONVÊNIO'].plot.box()"
      ],
      "execution_count": 288,
      "outputs": [
        {
          "output_type": "execute_result",
          "data": {
            "text/plain": [
              "<matplotlib.axes._subplots.AxesSubplot at 0x7f272aa98fd0>"
            ]
          },
          "metadata": {
            "tags": []
          },
          "execution_count": 288
        },
        {
          "output_type": "display_data",
          "data": {
            "image/png": "[encoded data removed]",
            "text/plain": [
              "<Figure size 432x288 with 1 Axes>"
            ]
          },
          "metadata": {
            "tags": []
          }
        }
      ]
    },
    {
      "cell_type": "code",
      "metadata": {
        "id": "cNbAClNV9T0X",
        "colab_type": "code",
        "colab": {
          "base_uri": "https://localhost:8080/",
          "height": 282
        },
        "outputId": "2fbd6aac-8718-4631-cbcf-2d88ff8d655a"
      },
      "source": [
        "(convenios['VALOR CONVÊNIO']/1000).hist()"
      ],
      "execution_count": 289,
      "outputs": [
        {
          "output_type": "execute_result",
          "data": {
            "text/plain": [
              "<matplotlib.axes._subplots.AxesSubplot at 0x7f272aa6eba8>"
            ]
          },
          "metadata": {
            "tags": []
          },
          "execution_count": 289
        },
        {
          "output_type": "display_data",
          "data": {
            "image/png": "[encoded data removed]",
            "text/plain": [
              "<Figure size 432x288 with 1 Axes>"
            ]
          },
          "metadata": {
            "tags": []
          }
        }
      ]
    },
    {
      "cell_type": "code",
      "metadata": {
        "id": "yB2-fxbF9hkL",
        "colab_type": "code",
        "colab": {
          "base_uri": "https://localhost:8080/",
          "height": 282
        },
        "outputId": "7fe7ba3c-2965-483f-f52c-0d9764c3e723"
      },
      "source": [
        "convenios['log_valor'] = convenios['VALOR CONVÊNIO'].apply(np.log10)\n",
        "convenios[convenios['log_valor'] > 0]['log_valor'].hist()"
      ],
      "execution_count": 290,
      "outputs": [
        {
          "output_type": "execute_result",
          "data": {
            "text/plain": [
              "<matplotlib.axes._subplots.AxesSubplot at 0x7f272a9a4b38>"
            ]
          },
          "metadata": {
            "tags": []
          },
          "execution_count": 290
        },
        {
          "output_type": "display_data",
          "data": {
            "image/png": "[encoded data removed]",
            "text/plain": [
              "<Figure size 432x288 with 1 Axes>"
            ]
          },
          "metadata": {
            "tags": []
          }
        }
      ]
    },
    {
      "cell_type": "code",
      "metadata": {
        "id": "ILL1hwpE90ve",
        "colab_type": "code",
        "colab": {
          "base_uri": "https://localhost:8080/",
          "height": 34
        },
        "outputId": "a19e4867-459e-4d4b-8e61-163095c87af4"
      },
      "source": [
        "# Utilizando z-score robusto (univariado)\n",
        "from numpy import abs\n",
        "mad = abs(convenios['log_valor'] - convenios['log_valor'].median()).median()*(1/0.6745)\n",
        "print(mad)"
      ],
      "execution_count": 291,
      "outputs": [
        {
          "output_type": "stream",
          "text": [
            "0.7862077071045118\n"
          ],
          "name": "stdout"
        }
      ]
    },
    {
      "cell_type": "code",
      "metadata": {
        "id": "MJEpF1vQ-fJh",
        "colab_type": "code",
        "colab": {
          "base_uri": "https://localhost:8080/",
          "height": 34
        },
        "outputId": "f0092495-7f3f-4788-f9b4-540d098a891e"
      },
      "source": [
        "conveniosLimpos = convenios[abs(convenios['log_valor']-convenios['log_valor'].median())/mad < 3.5]\n",
        "print(len(conveniosLimpos))"
      ],
      "execution_count": 292,
      "outputs": [
        {
          "output_type": "stream",
          "text": [
            "39506\n"
          ],
          "name": "stdout"
        }
      ]
    },
    {
      "cell_type": "code",
      "metadata": {
        "id": "YWQBBb3N5PNU",
        "colab_type": "code",
        "colab": {
          "base_uri": "https://localhost:8080/",
          "height": 34
        },
        "outputId": "af86d12e-e468-4599-9fa9-fe6fd2a3b075"
      },
      "source": [
        "# Utilizando Tukey\n",
        "q1 = convenios['log_valor'].quantile(q=0.25)\n",
        "q3 = convenios['log_valor'].quantile(q=0.75)\n",
        "iqr = q3 - q1\n",
        "print(iqr)\n"
      ],
      "execution_count": 293,
      "outputs": [
        {
          "output_type": "stream",
          "text": [
            "1.0579858505261077\n"
          ],
          "name": "stdout"
        }
      ]
    },
    {
      "cell_type": "code",
      "metadata": {
        "id": "K6TsxXfnCE0B",
        "colab_type": "code",
        "colab": {
          "base_uri": "https://localhost:8080/",
          "height": 34
        },
        "outputId": "befa3bda-f90c-4e3b-8bfb-044a4220bce5"
      },
      "source": [
        "conveniosLimposTukey = convenios[(convenios['log_valor'] > (q1-1.5*iqr)) & (convenios['log_valor'] < (q3+1.5*iqr))]\n",
        "len(conveniosLimposTukey)"
      ],
      "execution_count": 294,
      "outputs": [
        {
          "output_type": "execute_result",
          "data": {
            "text/plain": [
              "39043"
            ]
          },
          "metadata": {
            "tags": []
          },
          "execution_count": 294
        }
      ]
    },
    {
      "cell_type": "markdown",
      "metadata": {
        "id": "fPSXivtijlRq",
        "colab_type": "text"
      },
      "source": [
        "## Visualização dos dados\n",
        "\n"
      ]
    },
    {
      "cell_type": "code",
      "metadata": {
        "id": "AV__Mbtof_R_",
        "colab_type": "code",
        "colab": {
          "base_uri": "https://localhost:8080/",
          "height": 145
        },
        "outputId": "8629cec9-8142-4a25-816f-f8fdce865a33"
      },
      "source": [
        "import matplotlib.pyplot as plt\n",
        "%matplotlib inline\n",
        "#Imprimindo um mapa de calor usando a correlação de Spearman\n",
        "convenios.corr(method='spearman').style.format(\"{:.2}\").background_gradient(cmap=plt.get_cmap('coolwarm'), axis=1)"
      ],
      "execution_count": 295,
      "outputs": [
        {
          "output_type": "execute_result",
          "data": {
            "text/html": [
              "<style  type=\"text/css\" >\n",
              "    #T_ca80499c_1fc3_11ea_944f_0242ac1c0002row0_col0 {\n",
              "            background-color:  #b40426;\n",
              "            color:  #f1f1f1;\n",
              "        }    #T_ca80499c_1fc3_11ea_944f_0242ac1c0002row0_col1 {\n",
              "            background-color:  #f6bea4;\n",
              "            color:  #000000;\n",
              "        }    #T_ca80499c_1fc3_11ea_944f_0242ac1c0002row0_col2 {\n",
              "            background-color:  #3b4cc0;\n",
              "            color:  #f1f1f1;\n",
              "        }    #T_ca80499c_1fc3_11ea_944f_0242ac1c0002row0_col3 {\n",
              "            background-color:  #b40426;\n",
              "            color:  #f1f1f1;\n",
              "        }    #T_ca80499c_1fc3_11ea_944f_0242ac1c0002row0_col4 {\n",
              "            background-color:  #b40426;\n",
              "            color:  #f1f1f1;\n",
              "        }    #T_ca80499c_1fc3_11ea_944f_0242ac1c0002row1_col0 {\n",
              "            background-color:  #f7ad90;\n",
              "            color:  #000000;\n",
              "        }    #T_ca80499c_1fc3_11ea_944f_0242ac1c0002row1_col1 {\n",
              "            background-color:  #b40426;\n",
              "            color:  #f1f1f1;\n",
              "        }    #T_ca80499c_1fc3_11ea_944f_0242ac1c0002row1_col2 {\n",
              "            background-color:  #3b4cc0;\n",
              "            color:  #f1f1f1;\n",
              "        }    #T_ca80499c_1fc3_11ea_944f_0242ac1c0002row1_col3 {\n",
              "            background-color:  #f7ad90;\n",
              "            color:  #000000;\n",
              "        }    #T_ca80499c_1fc3_11ea_944f_0242ac1c0002row1_col4 {\n",
              "            background-color:  #f7ad90;\n",
              "            color:  #000000;\n",
              "        }    #T_ca80499c_1fc3_11ea_944f_0242ac1c0002row2_col0 {\n",
              "            background-color:  #6687ed;\n",
              "            color:  #000000;\n",
              "        }    #T_ca80499c_1fc3_11ea_944f_0242ac1c0002row2_col1 {\n",
              "            background-color:  #3b4cc0;\n",
              "            color:  #f1f1f1;\n",
              "        }    #T_ca80499c_1fc3_11ea_944f_0242ac1c0002row2_col2 {\n",
              "            background-color:  #b40426;\n",
              "            color:  #f1f1f1;\n",
              "        }    #T_ca80499c_1fc3_11ea_944f_0242ac1c0002row2_col3 {\n",
              "            background-color:  #6687ed;\n",
              "            color:  #000000;\n",
              "        }    #T_ca80499c_1fc3_11ea_944f_0242ac1c0002row2_col4 {\n",
              "            background-color:  #6687ed;\n",
              "            color:  #000000;\n",
              "        }    #T_ca80499c_1fc3_11ea_944f_0242ac1c0002row3_col0 {\n",
              "            background-color:  #b40426;\n",
              "            color:  #f1f1f1;\n",
              "        }    #T_ca80499c_1fc3_11ea_944f_0242ac1c0002row3_col1 {\n",
              "            background-color:  #f6bea4;\n",
              "            color:  #000000;\n",
              "        }    #T_ca80499c_1fc3_11ea_944f_0242ac1c0002row3_col2 {\n",
              "            background-color:  #3b4cc0;\n",
              "            color:  #f1f1f1;\n",
              "        }    #T_ca80499c_1fc3_11ea_944f_0242ac1c0002row3_col3 {\n",
              "            background-color:  #b40426;\n",
              "            color:  #f1f1f1;\n",
              "        }    #T_ca80499c_1fc3_11ea_944f_0242ac1c0002row3_col4 {\n",
              "            background-color:  #b40426;\n",
              "            color:  #f1f1f1;\n",
              "        }    #T_ca80499c_1fc3_11ea_944f_0242ac1c0002row4_col0 {\n",
              "            background-color:  #b40426;\n",
              "            color:  #f1f1f1;\n",
              "        }    #T_ca80499c_1fc3_11ea_944f_0242ac1c0002row4_col1 {\n",
              "            background-color:  #f6bea4;\n",
              "            color:  #000000;\n",
              "        }    #T_ca80499c_1fc3_11ea_944f_0242ac1c0002row4_col2 {\n",
              "            background-color:  #3b4cc0;\n",
              "            color:  #f1f1f1;\n",
              "        }    #T_ca80499c_1fc3_11ea_944f_0242ac1c0002row4_col3 {\n",
              "            background-color:  #b40426;\n",
              "            color:  #f1f1f1;\n",
              "        }    #T_ca80499c_1fc3_11ea_944f_0242ac1c0002row4_col4 {\n",
              "            background-color:  #b40426;\n",
              "            color:  #f1f1f1;\n",
              "        }</style><table id=\"T_ca80499c_1fc3_11ea_944f_0242ac1c0002\" ><thead>    <tr>        <th class=\"blank level0\" ></th>        <th class=\"col_heading level0 col0\" >VALOR CONVÊNIO</th>        <th class=\"col_heading level0 col1\" >VALOR LIBERADO</th>        <th class=\"col_heading level0 col2\" >VALOR CONTRAPARTIDA</th>        <th class=\"col_heading level0 col3\" >valor_norm</th>        <th class=\"col_heading level0 col4\" >log_valor</th>    </tr></thead><tbody>\n",
              "                <tr>\n",
              "                        <th id=\"T_ca80499c_1fc3_11ea_944f_0242ac1c0002level0_row0\" class=\"row_heading level0 row0\" >VALOR CONVÊNIO</th>\n",
              "                        <td id=\"T_ca80499c_1fc3_11ea_944f_0242ac1c0002row0_col0\" class=\"data row0 col0\" >1.0</td>\n",
              "                        <td id=\"T_ca80499c_1fc3_11ea_944f_0242ac1c0002row0_col1\" class=\"data row0 col1\" >0.83</td>\n",
              "                        <td id=\"T_ca80499c_1fc3_11ea_944f_0242ac1c0002row0_col2\" class=\"data row0 col2\" >0.51</td>\n",
              "                        <td id=\"T_ca80499c_1fc3_11ea_944f_0242ac1c0002row0_col3\" class=\"data row0 col3\" >1.0</td>\n",
              "                        <td id=\"T_ca80499c_1fc3_11ea_944f_0242ac1c0002row0_col4\" class=\"data row0 col4\" >1.0</td>\n",
              "            </tr>\n",
              "            <tr>\n",
              "                        <th id=\"T_ca80499c_1fc3_11ea_944f_0242ac1c0002level0_row1\" class=\"row_heading level0 row1\" >VALOR LIBERADO</th>\n",
              "                        <td id=\"T_ca80499c_1fc3_11ea_944f_0242ac1c0002row1_col0\" class=\"data row1 col0\" >0.83</td>\n",
              "                        <td id=\"T_ca80499c_1fc3_11ea_944f_0242ac1c0002row1_col1\" class=\"data row1 col1\" >1.0</td>\n",
              "                        <td id=\"T_ca80499c_1fc3_11ea_944f_0242ac1c0002row1_col2\" class=\"data row1 col2\" >0.43</td>\n",
              "                        <td id=\"T_ca80499c_1fc3_11ea_944f_0242ac1c0002row1_col3\" class=\"data row1 col3\" >0.83</td>\n",
              "                        <td id=\"T_ca80499c_1fc3_11ea_944f_0242ac1c0002row1_col4\" class=\"data row1 col4\" >0.83</td>\n",
              "            </tr>\n",
              "            <tr>\n",
              "                        <th id=\"T_ca80499c_1fc3_11ea_944f_0242ac1c0002level0_row2\" class=\"row_heading level0 row2\" >VALOR CONTRAPARTIDA</th>\n",
              "                        <td id=\"T_ca80499c_1fc3_11ea_944f_0242ac1c0002row2_col0\" class=\"data row2 col0\" >0.51</td>\n",
              "                        <td id=\"T_ca80499c_1fc3_11ea_944f_0242ac1c0002row2_col1\" class=\"data row2 col1\" >0.43</td>\n",
              "                        <td id=\"T_ca80499c_1fc3_11ea_944f_0242ac1c0002row2_col2\" class=\"data row2 col2\" >1.0</td>\n",
              "                        <td id=\"T_ca80499c_1fc3_11ea_944f_0242ac1c0002row2_col3\" class=\"data row2 col3\" >0.51</td>\n",
              "                        <td id=\"T_ca80499c_1fc3_11ea_944f_0242ac1c0002row2_col4\" class=\"data row2 col4\" >0.51</td>\n",
              "            </tr>\n",
              "            <tr>\n",
              "                        <th id=\"T_ca80499c_1fc3_11ea_944f_0242ac1c0002level0_row3\" class=\"row_heading level0 row3\" >valor_norm</th>\n",
              "                        <td id=\"T_ca80499c_1fc3_11ea_944f_0242ac1c0002row3_col0\" class=\"data row3 col0\" >1.0</td>\n",
              "                        <td id=\"T_ca80499c_1fc3_11ea_944f_0242ac1c0002row3_col1\" class=\"data row3 col1\" >0.83</td>\n",
              "                        <td id=\"T_ca80499c_1fc3_11ea_944f_0242ac1c0002row3_col2\" class=\"data row3 col2\" >0.51</td>\n",
              "                        <td id=\"T_ca80499c_1fc3_11ea_944f_0242ac1c0002row3_col3\" class=\"data row3 col3\" >1.0</td>\n",
              "                        <td id=\"T_ca80499c_1fc3_11ea_944f_0242ac1c0002row3_col4\" class=\"data row3 col4\" >1.0</td>\n",
              "            </tr>\n",
              "            <tr>\n",
              "                        <th id=\"T_ca80499c_1fc3_11ea_944f_0242ac1c0002level0_row4\" class=\"row_heading level0 row4\" >log_valor</th>\n",
              "                        <td id=\"T_ca80499c_1fc3_11ea_944f_0242ac1c0002row4_col0\" class=\"data row4 col0\" >1.0</td>\n",
              "                        <td id=\"T_ca80499c_1fc3_11ea_944f_0242ac1c0002row4_col1\" class=\"data row4 col1\" >0.83</td>\n",
              "                        <td id=\"T_ca80499c_1fc3_11ea_944f_0242ac1c0002row4_col2\" class=\"data row4 col2\" >0.51</td>\n",
              "                        <td id=\"T_ca80499c_1fc3_11ea_944f_0242ac1c0002row4_col3\" class=\"data row4 col3\" >1.0</td>\n",
              "                        <td id=\"T_ca80499c_1fc3_11ea_944f_0242ac1c0002row4_col4\" class=\"data row4 col4\" >1.0</td>\n",
              "            </tr>\n",
              "    </tbody></table>"
            ],
            "text/plain": [
              "<pandas.io.formats.style.Styler at 0x7f272c593828>"
            ]
          },
          "metadata": {
            "tags": []
          },
          "execution_count": 295
        }
      ]
    },
    {
      "cell_type": "code",
      "metadata": {
        "id": "rg9ccltPKDAu",
        "colab_type": "code",
        "colab": {
          "base_uri": "https://localhost:8080/",
          "height": 307
        },
        "outputId": "7cdeecaa-ed17-4746-aac9-9ea551513572"
      },
      "source": [
        "convenios.plot.scatter(x='VALOR CONVÊNIO', y='VALOR LIBERADO')"
      ],
      "execution_count": 296,
      "outputs": [
        {
          "output_type": "execute_result",
          "data": {
            "text/plain": [
              "<matplotlib.axes._subplots.AxesSubplot at 0x7f272a91e080>"
            ]
          },
          "metadata": {
            "tags": []
          },
          "execution_count": 296
        },
        {
          "output_type": "display_data",
          "data": {
            "image/png": "[encoded data removed]",
            "text/plain": [
              "<Figure size 432x288 with 1 Axes>"
            ]
          },
          "metadata": {
            "tags": []
          }
        }
      ]
    },
    {
      "cell_type": "code",
      "metadata": {
        "id": "jJc6kf059iin",
        "colab_type": "code",
        "colab": {
          "base_uri": "https://localhost:8080/",
          "height": 293
        },
        "outputId": "f93adc0c-c8cd-4ad1-ed19-4a996134e6c7"
      },
      "source": [
        "convenios.boxplot(column=['VALOR CONVÊNIO'])"
      ],
      "execution_count": 297,
      "outputs": [
        {
          "output_type": "execute_result",
          "data": {
            "text/plain": [
              "<matplotlib.axes._subplots.AxesSubplot at 0x7f272a890470>"
            ]
          },
          "metadata": {
            "tags": []
          },
          "execution_count": 297
        },
        {
          "output_type": "display_data",
          "data": {
            "image/png": "[encoded data removed]",
            "text/plain": [
              "<Figure size 432x288 with 1 Axes>"
            ]
          },
          "metadata": {
            "tags": []
          }
        }
      ]
    },
    {
      "cell_type": "code",
      "metadata": {
        "id": "oRaMdHjkQ2mM",
        "colab_type": "code",
        "colab": {
          "base_uri": "https://localhost:8080/",
          "height": 293
        },
        "outputId": "18e79916-58a9-4532-996c-a64ba057262b"
      },
      "source": [
        "# Gráfico removendo os outliers com método de Z-Score Robusto\n",
        "conveniosLimpos.boxplot(column=['VALOR CONVÊNIO'])"
      ],
      "execution_count": 298,
      "outputs": [
        {
          "output_type": "execute_result",
          "data": {
            "text/plain": [
              "<matplotlib.axes._subplots.AxesSubplot at 0x7f272a84ecc0>"
            ]
          },
          "metadata": {
            "tags": []
          },
          "execution_count": 298
        },
        {
          "output_type": "display_data",
          "data": {
            "image/png": "[encoded data removed]",
            "text/plain": [
              "<Figure size 432x288 with 1 Axes>"
            ]
          },
          "metadata": {
            "tags": []
          }
        }
      ]
    },
    {
      "cell_type": "code",
      "metadata": {
        "id": "RzDyevnzFruC",
        "colab_type": "code",
        "colab": {
          "base_uri": "https://localhost:8080/",
          "height": 282
        },
        "outputId": "d2a916ad-171b-404d-8ec2-01be10b23d90"
      },
      "source": [
        "# Gráfico removendo os outliers com método de Tukey\n",
        "conveniosLimposTukey.boxplot(column=['VALOR CONVÊNIO'])"
      ],
      "execution_count": 299,
      "outputs": [
        {
          "output_type": "execute_result",
          "data": {
            "text/plain": [
              "<matplotlib.axes._subplots.AxesSubplot at 0x7f272a975048>"
            ]
          },
          "metadata": {
            "tags": []
          },
          "execution_count": 299
        },
        {
          "output_type": "display_data",
          "data": {
            "image/png": "[encoded data removed]",
            "text/plain": [
              "<Figure size 432x288 with 1 Axes>"
            ]
          },
          "metadata": {
            "tags": []
          }
        }
      ]
    },
    {
      "cell_type": "code",
      "metadata": {
        "id": "fS7choGLHXoB",
        "colab_type": "code",
        "colab": {
          "base_uri": "https://localhost:8080/",
          "height": 640
        },
        "outputId": "49df8c7e-e862-44fd-d9bb-f043dd3c24d6"
      },
      "source": [
        "convenios.groupby(['UF'])['VALOR CONVÊNIO'].sum().sort_values(ascending=False).plot.bar(figsize=(20,10))"
      ],
      "execution_count": 300,
      "outputs": [
        {
          "output_type": "execute_result",
          "data": {
            "text/plain": [
              "<matplotlib.axes._subplots.AxesSubplot at 0x7f272a744358>"
            ]
          },
          "metadata": {
            "tags": []
          },
          "execution_count": 300
        },
        {
          "output_type": "display_data",
          "data": {
            "image/png": "[encoded data removed]",
            "text/plain": [
              "<Figure size 1440x720 with 1 Axes>"
            ]
          },
          "metadata": {
            "tags": []
          }
        }
      ]
    },
    {
      "cell_type": "code",
      "metadata": {
        "id": "1m6geTkbFH71",
        "colab_type": "code",
        "colab": {
          "base_uri": "https://localhost:8080/",
          "height": 640
        },
        "outputId": "67dfad1d-cf0b-40b5-d760-88233cad1655"
      },
      "source": [
        "# Gráfico removendo os outliers com método de Z-Score Robusto\n",
        "conveniosLimpos.groupby(['UF'])['VALOR CONVÊNIO'].sum().sort_values(ascending=False).plot.bar(figsize=(20,10))"
      ],
      "execution_count": 301,
      "outputs": [
        {
          "output_type": "execute_result",
          "data": {
            "text/plain": [
              "<matplotlib.axes._subplots.AxesSubplot at 0x7f272a6e3c18>"
            ]
          },
          "metadata": {
            "tags": []
          },
          "execution_count": 301
        },
        {
          "output_type": "display_data",
          "data": {
            "image/png": "[encoded data removed]",
            "text/plain": [
              "<Figure size 1440x720 with 1 Axes>"
            ]
          },
          "metadata": {
            "tags": []
          }
        }
      ]
    },
    {
      "cell_type": "code",
      "metadata": {
        "id": "e-DY0oS0eSdd",
        "colab_type": "code",
        "colab": {
          "base_uri": "https://localhost:8080/",
          "height": 640
        },
        "outputId": "01b261ff-b7e6-4034-e382-1b7efc959ae7"
      },
      "source": [
        "# Gráfico removendo os outliers com método de Tukey\n",
        "conveniosLimposTukey.groupby(['UF'])['VALOR CONVÊNIO'].sum().sort_values(ascending=False).plot.bar(figsize=(20,10))"
      ],
      "execution_count": 302,
      "outputs": [
        {
          "output_type": "execute_result",
          "data": {
            "text/plain": [
              "<matplotlib.axes._subplots.AxesSubplot at 0x7f272a57a048>"
            ]
          },
          "metadata": {
            "tags": []
          },
          "execution_count": 302
        },
        {
          "output_type": "display_data",
          "data": {
            "image/png": "[encoded data removed]",
            "text/plain": [
              "<Figure size 1440x720 with 1 Axes>"
            ]
          },
          "metadata": {
            "tags": []
          }
        }
      ]
    },
    {
      "cell_type": "code",
      "metadata": {
        "id": "to20vRSZuURG",
        "colab_type": "code",
        "colab": {
          "base_uri": "https://localhost:8080/",
          "height": 930
        },
        "outputId": "9f1b5502-26c1-49d4-bc0b-abce77449304"
      },
      "source": [
        "convenios.groupby(['NOME ÓRGÃO SUPERIOR'])['VALOR CONVÊNIO'].sum().sort_values(ascending=False).plot.bar(figsize=(20,10))"
      ],
      "execution_count": 303,
      "outputs": [
        {
          "output_type": "execute_result",
          "data": {
            "text/plain": [
              "<matplotlib.axes._subplots.AxesSubplot at 0x7f272a9ab198>"
            ]
          },
          "metadata": {
            "tags": []
          },
          "execution_count": 303
        },
        {
          "output_type": "display_data",
          "data": {
            "image/png": "[encoded data removed]",
            "text/plain": [
              "<Figure size 1440x720 with 1 Axes>"
            ]
          },
          "metadata": {
            "tags": []
          }
        }
      ]
    },
    {
      "cell_type": "code",
      "metadata": {
        "id": "OxM_MuNesEqC",
        "colab_type": "code",
        "colab": {
          "base_uri": "https://localhost:8080/",
          "height": 671
        },
        "outputId": "2c93740a-d436-4ab7-c990-b36490329194"
      },
      "source": [
        "convenios.groupby(['TIPO ENTE CONVENENTE'])['VALOR CONVÊNIO'].sum().sort_values(ascending=False).plot.bar(figsize=(20,10))"
      ],
      "execution_count": 304,
      "outputs": [
        {
          "output_type": "execute_result",
          "data": {
            "text/plain": [
              "<matplotlib.axes._subplots.AxesSubplot at 0x7f272a4965c0>"
            ]
          },
          "metadata": {
            "tags": []
          },
          "execution_count": 304
        },
        {
          "output_type": "display_data",
          "data": {
            "image/png": "[encoded data removed]",
            "text/plain": [
              "<Figure size 1440x720 with 1 Axes>"
            ]
          },
          "metadata": {
            "tags": []
          }
        }
      ]
    },
    {
      "cell_type": "code",
      "metadata": {
        "id": "QBznQ4aSElcq",
        "colab_type": "code",
        "colab": {
          "base_uri": "https://localhost:8080/",
          "height": 979
        },
        "outputId": "49295b71-352e-49ba-9116-9f9d44439a5d"
      },
      "source": [
        "convenios.groupby(['UF']).agg(['min', 'max', 'mean','median'])['VALOR CONVÊNIO']"
      ],
      "execution_count": 305,
      "outputs": [
        {
          "output_type": "execute_result",
          "data": {
            "text/html": [
              "<div>\n",
              "<style scoped>\n",
              "    .dataframe tbody tr th:only-of-type {\n",
              "        vertical-align: middle;\n",
              "    }\n",
              "\n",
              "    .dataframe tbody tr th {\n",
              "        vertical-align: top;\n",
              "    }\n",
              "\n",
              "    .dataframe thead th {\n",
              "        text-align: right;\n",
              "    }\n",
              "</style>\n",
              "<table border=\"1\" class=\"dataframe\">\n",
              "  <thead>\n",
              "    <tr style=\"text-align: right;\">\n",
              "      <th></th>\n",
              "      <th>min</th>\n",
              "      <th>max</th>\n",
              "      <th>mean</th>\n",
              "      <th>median</th>\n",
              "    </tr>\n",
              "    <tr>\n",
              "      <th>UF</th>\n",
              "      <th></th>\n",
              "      <th></th>\n",
              "      <th></th>\n",
              "      <th></th>\n",
              "    </tr>\n",
              "  </thead>\n",
              "  <tbody>\n",
              "    <tr>\n",
              "      <th>-1</th>\n",
              "      <td>1485.00</td>\n",
              "      <td>9.000000e+04</td>\n",
              "      <td>2.068953e+04</td>\n",
              "      <td>8685.00</td>\n",
              "    </tr>\n",
              "    <tr>\n",
              "      <th>AC</th>\n",
              "      <td>2400.00</td>\n",
              "      <td>3.195083e+08</td>\n",
              "      <td>2.567772e+06</td>\n",
              "      <td>58339.55</td>\n",
              "    </tr>\n",
              "    <tr>\n",
              "      <th>AL</th>\n",
              "      <td>729.00</td>\n",
              "      <td>7.658246e+07</td>\n",
              "      <td>4.877696e+05</td>\n",
              "      <td>62300.00</td>\n",
              "    </tr>\n",
              "    <tr>\n",
              "      <th>AM</th>\n",
              "      <td>544.00</td>\n",
              "      <td>2.985868e+07</td>\n",
              "      <td>4.934537e+05</td>\n",
              "      <td>79886.00</td>\n",
              "    </tr>\n",
              "    <tr>\n",
              "      <th>AP</th>\n",
              "      <td>780.00</td>\n",
              "      <td>1.276875e+08</td>\n",
              "      <td>9.397574e+05</td>\n",
              "      <td>60000.00</td>\n",
              "    </tr>\n",
              "    <tr>\n",
              "      <th>BA</th>\n",
              "      <td>1000.00</td>\n",
              "      <td>2.550000e+08</td>\n",
              "      <td>4.825730e+05</td>\n",
              "      <td>51400.00</td>\n",
              "    </tr>\n",
              "    <tr>\n",
              "      <th>CE</th>\n",
              "      <td>500.00</td>\n",
              "      <td>5.657078e+08</td>\n",
              "      <td>1.031240e+06</td>\n",
              "      <td>65070.00</td>\n",
              "    </tr>\n",
              "    <tr>\n",
              "      <th>DF</th>\n",
              "      <td>200.00</td>\n",
              "      <td>3.620084e+09</td>\n",
              "      <td>4.759432e+06</td>\n",
              "      <td>30000.00</td>\n",
              "    </tr>\n",
              "    <tr>\n",
              "      <th>ES</th>\n",
              "      <td>225.15</td>\n",
              "      <td>3.158714e+07</td>\n",
              "      <td>3.334277e+05</td>\n",
              "      <td>40000.00</td>\n",
              "    </tr>\n",
              "    <tr>\n",
              "      <th>EX</th>\n",
              "      <td>11000.00</td>\n",
              "      <td>1.068300e+07</td>\n",
              "      <td>1.260952e+06</td>\n",
              "      <td>89595.31</td>\n",
              "    </tr>\n",
              "    <tr>\n",
              "      <th>GO</th>\n",
              "      <td>0.56</td>\n",
              "      <td>1.068191e+08</td>\n",
              "      <td>5.230862e+05</td>\n",
              "      <td>43819.09</td>\n",
              "    </tr>\n",
              "    <tr>\n",
              "      <th>MA</th>\n",
              "      <td>1200.00</td>\n",
              "      <td>2.858779e+07</td>\n",
              "      <td>3.681184e+05</td>\n",
              "      <td>75240.30</td>\n",
              "    </tr>\n",
              "    <tr>\n",
              "      <th>MG</th>\n",
              "      <td>76.00</td>\n",
              "      <td>8.184400e+07</td>\n",
              "      <td>2.161275e+05</td>\n",
              "      <td>18900.00</td>\n",
              "    </tr>\n",
              "    <tr>\n",
              "      <th>MS</th>\n",
              "      <td>600.00</td>\n",
              "      <td>9.331513e+07</td>\n",
              "      <td>5.771574e+05</td>\n",
              "      <td>46599.50</td>\n",
              "    </tr>\n",
              "    <tr>\n",
              "      <th>MT</th>\n",
              "      <td>540.00</td>\n",
              "      <td>1.212911e+08</td>\n",
              "      <td>4.862953e+05</td>\n",
              "      <td>61075.50</td>\n",
              "    </tr>\n",
              "    <tr>\n",
              "      <th>PA</th>\n",
              "      <td>1.00</td>\n",
              "      <td>6.773112e+07</td>\n",
              "      <td>4.446240e+05</td>\n",
              "      <td>98955.00</td>\n",
              "    </tr>\n",
              "    <tr>\n",
              "      <th>PB</th>\n",
              "      <td>208.00</td>\n",
              "      <td>1.604331e+07</td>\n",
              "      <td>2.231970e+05</td>\n",
              "      <td>39945.00</td>\n",
              "    </tr>\n",
              "    <tr>\n",
              "      <th>PE</th>\n",
              "      <td>0.01</td>\n",
              "      <td>4.201163e+08</td>\n",
              "      <td>6.780093e+05</td>\n",
              "      <td>60200.00</td>\n",
              "    </tr>\n",
              "    <tr>\n",
              "      <th>PI</th>\n",
              "      <td>600.00</td>\n",
              "      <td>2.422000e+07</td>\n",
              "      <td>2.055276e+05</td>\n",
              "      <td>49343.00</td>\n",
              "    </tr>\n",
              "    <tr>\n",
              "      <th>PR</th>\n",
              "      <td>50.00</td>\n",
              "      <td>5.893346e+07</td>\n",
              "      <td>1.806122e+05</td>\n",
              "      <td>18070.00</td>\n",
              "    </tr>\n",
              "    <tr>\n",
              "      <th>RJ</th>\n",
              "      <td>100.00</td>\n",
              "      <td>7.000000e+08</td>\n",
              "      <td>8.782063e+05</td>\n",
              "      <td>25000.00</td>\n",
              "    </tr>\n",
              "    <tr>\n",
              "      <th>RN</th>\n",
              "      <td>462.00</td>\n",
              "      <td>3.376759e+07</td>\n",
              "      <td>2.768015e+05</td>\n",
              "      <td>35996.00</td>\n",
              "    </tr>\n",
              "    <tr>\n",
              "      <th>RO</th>\n",
              "      <td>500.00</td>\n",
              "      <td>9.363760e+07</td>\n",
              "      <td>5.387230e+05</td>\n",
              "      <td>59800.00</td>\n",
              "    </tr>\n",
              "    <tr>\n",
              "      <th>RR</th>\n",
              "      <td>1500.00</td>\n",
              "      <td>9.023225e+07</td>\n",
              "      <td>1.341821e+06</td>\n",
              "      <td>134436.00</td>\n",
              "    </tr>\n",
              "    <tr>\n",
              "      <th>RS</th>\n",
              "      <td>275.00</td>\n",
              "      <td>2.248518e+08</td>\n",
              "      <td>4.073208e+05</td>\n",
              "      <td>14939.00</td>\n",
              "    </tr>\n",
              "    <tr>\n",
              "      <th>SC</th>\n",
              "      <td>350.00</td>\n",
              "      <td>9.196945e+07</td>\n",
              "      <td>2.058308e+05</td>\n",
              "      <td>16102.50</td>\n",
              "    </tr>\n",
              "    <tr>\n",
              "      <th>SE</th>\n",
              "      <td>258.05</td>\n",
              "      <td>1.479887e+07</td>\n",
              "      <td>3.279839e+05</td>\n",
              "      <td>48102.00</td>\n",
              "    </tr>\n",
              "    <tr>\n",
              "      <th>SP</th>\n",
              "      <td>100.00</td>\n",
              "      <td>1.216044e+08</td>\n",
              "      <td>4.290768e+05</td>\n",
              "      <td>20944.00</td>\n",
              "    </tr>\n",
              "    <tr>\n",
              "      <th>TO</th>\n",
              "      <td>600.00</td>\n",
              "      <td>6.286697e+07</td>\n",
              "      <td>4.343726e+05</td>\n",
              "      <td>30000.00</td>\n",
              "    </tr>\n",
              "  </tbody>\n",
              "</table>\n",
              "</div>"
            ],
            "text/plain": [
              "         min           max          mean     median\n",
              "UF                                                 \n",
              "-1  1485.00   9.000000e+04  2.068953e+04  8685.00  \n",
              "AC  2400.00   3.195083e+08  2.567772e+06  58339.55 \n",
              "AL  729.00    7.658246e+07  4.877696e+05  62300.00 \n",
              "AM  544.00    2.985868e+07  4.934537e+05  79886.00 \n",
              "AP  780.00    1.276875e+08  9.397574e+05  60000.00 \n",
              "BA  1000.00   2.550000e+08  4.825730e+05  51400.00 \n",
              "CE  500.00    5.657078e+08  1.031240e+06  65070.00 \n",
              "DF  200.00    3.620084e+09  4.759432e+06  30000.00 \n",
              "ES  225.15    3.158714e+07  3.334277e+05  40000.00 \n",
              "EX  11000.00  1.068300e+07  1.260952e+06  89595.31 \n",
              "GO  0.56      1.068191e+08  5.230862e+05  43819.09 \n",
              "MA  1200.00   2.858779e+07  3.681184e+05  75240.30 \n",
              "MG  76.00     8.184400e+07  2.161275e+05  18900.00 \n",
              "MS  600.00    9.331513e+07  5.771574e+05  46599.50 \n",
              "MT  540.00    1.212911e+08  4.862953e+05  61075.50 \n",
              "PA  1.00      6.773112e+07  4.446240e+05  98955.00 \n",
              "PB  208.00    1.604331e+07  2.231970e+05  39945.00 \n",
              "PE  0.01      4.201163e+08  6.780093e+05  60200.00 \n",
              "PI  600.00    2.422000e+07  2.055276e+05  49343.00 \n",
              "PR  50.00     5.893346e+07  1.806122e+05  18070.00 \n",
              "RJ  100.00    7.000000e+08  8.782063e+05  25000.00 \n",
              "RN  462.00    3.376759e+07  2.768015e+05  35996.00 \n",
              "RO  500.00    9.363760e+07  5.387230e+05  59800.00 \n",
              "RR  1500.00   9.023225e+07  1.341821e+06  134436.00\n",
              "RS  275.00    2.248518e+08  4.073208e+05  14939.00 \n",
              "SC  350.00    9.196945e+07  2.058308e+05  16102.50 \n",
              "SE  258.05    1.479887e+07  3.279839e+05  48102.00 \n",
              "SP  100.00    1.216044e+08  4.290768e+05  20944.00 \n",
              "TO  600.00    6.286697e+07  4.343726e+05  30000.00 "
            ]
          },
          "metadata": {
            "tags": []
          },
          "execution_count": 305
        }
      ]
    }
  ]
}