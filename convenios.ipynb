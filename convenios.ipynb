{
  "nbformat": 4,
  "nbformat_minor": 0,
  "metadata": {
    "colab": {
      "name": "convenios.ipynb",
      "provenance": [],
      "collapsed_sections": [
        "Nu9IQakTqxWo"
      ],
      "include_colab_link": true
    },
    "kernelspec": {
      "display_name": "Python 3",
      "language": "python",
      "name": "python3"
    },
    "language_info": {
      "codemirror_mode": {
        "name": "ipython",
        "version": 3
      },
      "file_extension": ".py",
      "mimetype": "text/x-python",
      "name": "python",
      "nbconvert_exporter": "python",
      "pygments_lexer": "ipython3",
      "version": "3.7.1"
    }
  },
  "cells": [
    {
      "cell_type": "markdown",
      "metadata": {
        "id": "view-in-github",
        "colab_type": "text"
      },
      "source": [
        "<a href=\"https://colab.research.google.com/github/viviannemedeiros/dataScience/blob/master/convenios.ipynb\" target=\"_parent\"><img src=\"https://colab.research.google.com/assets/colab-badge.svg\" alt=\"Open In Colab\"/></a>"
      ]
    },
    {
      "cell_type": "markdown",
      "metadata": {
        "id": "bFiy2x-lE6JF",
        "colab_type": "text"
      },
      "source": [
        "**Projeto - Introdução à Ciência dos Dados - 16/12/2019** \n",
        "\n",
        "**Prof:** Luciano Barbosa\n",
        "\n",
        "**Discente:** Vivianne Medeiros\n"
      ]
    },
    {
      "cell_type": "markdown",
      "metadata": {
        "id": "22BL8UtJFlSK",
        "colab_type": "text"
      },
      "source": [
        "**Objetivo:** analisar a base de dados dos Convênios celebrados pelo Governo Federal para identificar o padrão de distribuição e alocação dos recursos\n",
        "\n",
        "**Fonte dos dados:** [Portal da Transparência - Convênios](http://portaltransparencia.gov.br/download-de-dados/convenios)   \n",
        "\n",
        "[Dicionário de Dados](http://www.portaldatransparencia.gov.br/pagina-interna/603415-dicionario-de-dados-convenios)\n",
        "\n",
        "**Ressalva:** Como o tamanho do arquivo original era superior a 250MB e o git tem uma restrição de upload de até 25MB por arquivo, selecionou-se as 39.999 primeiras linhas para utilização neste projeto, acreditando-se que ainda assim os objetivos educacionais seriam cumpridos."
      ]
    },
    {
      "cell_type": "markdown",
      "metadata": {
        "id": "I8wxsT5d6mJe",
        "colab_type": "text"
      },
      "source": [
        "## Leitura de arquivo e operações iniciais"
      ]
    },
    {
      "cell_type": "code",
      "metadata": {
        "colab_type": "code",
        "id": "PtMZXsv_-rZR",
        "outputId": "d36ca102-c5e2-42d1-80df-991943985c37",
        "colab": {
          "base_uri": "https://localhost:8080/",
          "height": 683
        }
      },
      "source": [
        "import numpy as np\n",
        "import pandas as pd\n",
        "convenios=pd.read_csv(\"https://raw.githubusercontent.com/viviannemedeiros/dataScience/master/convenios.csv\", \n",
        "                      encoding = \"ISO-8859-1\", sep=\";\", decimal=\",\")\n",
        "pd.set_option('display.max_colwidth', -1)\n",
        "convenios.head()"
      ],
      "execution_count": 1,
      "outputs": [
        {
          "output_type": "execute_result",
          "data": {
            "text/html": [
              "<div>\n",
              "<style scoped>\n",
              "    .dataframe tbody tr th:only-of-type {\n",
              "        vertical-align: middle;\n",
              "    }\n",
              "\n",
              "    .dataframe tbody tr th {\n",
              "        vertical-align: top;\n",
              "    }\n",
              "\n",
              "    .dataframe thead th {\n",
              "        text-align: right;\n",
              "    }\n",
              "</style>\n",
              "<table border=\"1\" class=\"dataframe\">\n",
              "  <thead>\n",
              "    <tr style=\"text-align: right;\">\n",
              "      <th></th>\n",
              "      <th>NÚMERO CONVÊNIO</th>\n",
              "      <th>UF</th>\n",
              "      <th>CÓDIGO SIAFI MUNICÍPIO</th>\n",
              "      <th>NOME MUNICÍPIO</th>\n",
              "      <th>SITUAÇÃO CONVÊNIO</th>\n",
              "      <th>NÚMERO ORIGINAL</th>\n",
              "      <th>OBJETO DO CONVÊNIO</th>\n",
              "      <th>CÓDIGO ÓRGÃO SUPERIOR</th>\n",
              "      <th>NOME ÓRGÃO SUPERIOR</th>\n",
              "      <th>CÓDIGO ÓRGÃO CONCEDENTE</th>\n",
              "      <th>NOME ÓRGÃO CONCEDENTE</th>\n",
              "      <th>CÓDIGO CONVENENTE</th>\n",
              "      <th>TIPO CONVENENTE</th>\n",
              "      <th>NOME CONVENENTE</th>\n",
              "      <th>TIPO ENTE CONVENENTE</th>\n",
              "      <th>TIPO INSTRUMENTO</th>\n",
              "      <th>VALOR CONVÊNIO</th>\n",
              "      <th>VALOR LIBERADO</th>\n",
              "      <th>DATA PUBLICAÇÃO</th>\n",
              "      <th>DATA INÍCIO VIGÊNCIA</th>\n",
              "      <th>DATA FINAL VIGÊNCIA</th>\n",
              "      <th>VALOR CONTRAPARTIDA</th>\n",
              "      <th>DATA ÚLTIMA LIBERAÇÃO</th>\n",
              "      <th>VALOR ÚLTIMA LIBERAÇÃO</th>\n",
              "    </tr>\n",
              "  </thead>\n",
              "  <tbody>\n",
              "    <tr>\n",
              "      <th>0</th>\n",
              "      <td>104141</td>\n",
              "      <td>SP</td>\n",
              "      <td>6689</td>\n",
              "      <td>MAUA</td>\n",
              "      <td>CONCLUÍDO</td>\n",
              "      <td>2467/94/FAE</td>\n",
              "      <td>CONVENIO CELEBRADO ENTRE A FAE E A PM DE MAUA/SP PARA ATENDER PROGRAMA DE ALIMENTACAO ESCOLAR PROC 1118/94-83                               _______________________________________ANA LUCIA</td>\n",
              "      <td>26000</td>\n",
              "      <td>Ministério da Educação</td>\n",
              "      <td>26298</td>\n",
              "      <td>Fundo Nacional de Desenvolvimento da Educação</td>\n",
              "      <td>46522959000198</td>\n",
              "      <td>Administração Pública Municipal</td>\n",
              "      <td>MUNICIPIO DE MAUA</td>\n",
              "      <td>Municipal</td>\n",
              "      <td>Sem informação</td>\n",
              "      <td>2110457.00</td>\n",
              "      <td>2054267.71</td>\n",
              "      <td>28/03/1996</td>\n",
              "      <td>28/02/1996</td>\n",
              "      <td>28/02/1999</td>\n",
              "      <td>0.0</td>\n",
              "      <td>07/12/1995</td>\n",
              "      <td>0.00</td>\n",
              "    </tr>\n",
              "    <tr>\n",
              "      <th>1</th>\n",
              "      <td>104773</td>\n",
              "      <td>RS</td>\n",
              "      <td>8963</td>\n",
              "      <td>VIAMAO</td>\n",
              "      <td>ADIMPLENTE</td>\n",
              "      <td>2520/94/FAE</td>\n",
              "      <td>CONVENIO CELEBRADO ENTRE A FAE E P.M. DE VIAMAO/RS, PARA ATENDER AO   PROGRAMA MERENDA ESCOLAR. PROC. 1752/94-99.</td>\n",
              "      <td>26000</td>\n",
              "      <td>Ministério da Educação</td>\n",
              "      <td>26298</td>\n",
              "      <td>Fundo Nacional de Desenvolvimento da Educação</td>\n",
              "      <td>88000914000101</td>\n",
              "      <td>Administração Pública Municipal</td>\n",
              "      <td>MUNICIPIO DE VIAMAO</td>\n",
              "      <td>Municipal</td>\n",
              "      <td>CONVENIO</td>\n",
              "      <td>515877.96</td>\n",
              "      <td>406200.76</td>\n",
              "      <td>19/03/1996</td>\n",
              "      <td>27/02/1996</td>\n",
              "      <td>28/02/1999</td>\n",
              "      <td>0.0</td>\n",
              "      <td>13/12/1995</td>\n",
              "      <td>0.00</td>\n",
              "    </tr>\n",
              "    <tr>\n",
              "      <th>2</th>\n",
              "      <td>112236</td>\n",
              "      <td>PE</td>\n",
              "      <td>2531</td>\n",
              "      <td>RECIFE</td>\n",
              "      <td>CONCLUÍDO</td>\n",
              "      <td>PG 096/94-00</td>\n",
              "      <td>EXECUCAO DE OBRAS E SERVICOS DE CONSTRUCAO RODOVIARIA NA BR-020/PI    TRECHO PICOS - SAO RAIMUNDO NONATO.</td>\n",
              "      <td>39000</td>\n",
              "      <td>Ministério da Infraestrutura</td>\n",
              "      <td>39252</td>\n",
              "      <td>Departamento Nacional de Infraestrutura de Transportes</td>\n",
              "      <td>160202</td>\n",
              "      <td>Entidades Empresariais Privadas</td>\n",
              "      <td>3º BATALHÃO DE ENGENHARIA DE CONSTRUÇÃO</td>\n",
              "      <td>Municipal</td>\n",
              "      <td>Sem informação</td>\n",
              "      <td>19439537.00</td>\n",
              "      <td>17777924.41</td>\n",
              "      <td>24/12/1999</td>\n",
              "      <td>15/11/2002</td>\n",
              "      <td>28/06/2005</td>\n",
              "      <td>0.0</td>\n",
              "      <td>28/12/2004</td>\n",
              "      <td>0.00</td>\n",
              "    </tr>\n",
              "    <tr>\n",
              "      <th>3</th>\n",
              "      <td>116570</td>\n",
              "      <td>SP</td>\n",
              "      <td>6219</td>\n",
              "      <td>BAURU</td>\n",
              "      <td>CONCLUÍDO</td>\n",
              "      <td>1640/94</td>\n",
              "      <td>PROSSEGUIMENTO A OBRA DA NOVA UNIDADE DE INTERNACAO HOSPITALAR DO     HPLLP/USP.</td>\n",
              "      <td>36000</td>\n",
              "      <td>Ministério da Saúde</td>\n",
              "      <td>36000</td>\n",
              "      <td>Ministério da Saúde - Unidades com vínculo direto</td>\n",
              "      <td>63025530008270</td>\n",
              "      <td>Administração Pública Estadual ou do Distrito Federal</td>\n",
              "      <td>UNIVERSIDADE DE SAO PAULO</td>\n",
              "      <td>Estadual</td>\n",
              "      <td>Sem informação</td>\n",
              "      <td>5000000.00</td>\n",
              "      <td>5000000.00</td>\n",
              "      <td>27/02/1998</td>\n",
              "      <td>29/12/1995</td>\n",
              "      <td>30/06/1998</td>\n",
              "      <td>0.0</td>\n",
              "      <td>29/12/1994</td>\n",
              "      <td>0.00</td>\n",
              "    </tr>\n",
              "    <tr>\n",
              "      <th>4</th>\n",
              "      <td>120304</td>\n",
              "      <td>RJ</td>\n",
              "      <td>6001</td>\n",
              "      <td>RIO DE JANEIRO</td>\n",
              "      <td>CONCLUÍDO</td>\n",
              "      <td>01/93 8/9. T.A.</td>\n",
              "      <td>SUPLEMENTACAO DE RECURSOS A FIM DE CUMPRIR OS OBJETIVO DO   ACONVENIO ORIGINAL.</td>\n",
              "      <td>36000</td>\n",
              "      <td>Ministério da Saúde</td>\n",
              "      <td>36201</td>\n",
              "      <td>Fundação Oswaldo Cruz</td>\n",
              "      <td>30495394000167</td>\n",
              "      <td>Administração Pública Estadual ou do Distrito Federal</td>\n",
              "      <td>FUNDACAO CARLOS CHAGAS FILHO DE AMPARO A PESQUISA DO ESTADO DO RIO DE JANEIRO-FAPERJ</td>\n",
              "      <td>Estadual</td>\n",
              "      <td>Sem informação</td>\n",
              "      <td>12741999.13</td>\n",
              "      <td>11415402.92</td>\n",
              "      <td>21/12/2000</td>\n",
              "      <td>24/11/1995</td>\n",
              "      <td>28/02/2002</td>\n",
              "      <td>0.0</td>\n",
              "      <td>19/12/2001</td>\n",
              "      <td>153846.11</td>\n",
              "    </tr>\n",
              "  </tbody>\n",
              "</table>\n",
              "</div>"
            ],
            "text/plain": [
              "   NÚMERO CONVÊNIO  UF  ...  DATA ÚLTIMA LIBERAÇÃO VALOR ÚLTIMA LIBERAÇÃO\n",
              "0  104141           SP  ...  07/12/1995             0.00                 \n",
              "1  104773           RS  ...  13/12/1995             0.00                 \n",
              "2  112236           PE  ...  28/12/2004             0.00                 \n",
              "3  116570           SP  ...  29/12/1994             0.00                 \n",
              "4  120304           RJ  ...  19/12/2001             153846.11            \n",
              "\n",
              "[5 rows x 24 columns]"
            ]
          },
          "metadata": {
            "tags": []
          },
          "execution_count": 1
        }
      ]
    },
    {
      "cell_type": "code",
      "metadata": {
        "id": "N7XBUk7X_nkx",
        "colab_type": "code",
        "outputId": "80511602-216a-4b22-cf77-cadc2201cd1b",
        "colab": {
          "base_uri": "https://localhost:8080/",
          "height": 1000
        }
      },
      "source": [
        "convenios.sort_values('VALOR CONVÊNIO', ascending=False).head(3)"
      ],
      "execution_count": 2,
      "outputs": [
        {
          "output_type": "execute_result",
          "data": {
            "text/html": [
              "<div>\n",
              "<style scoped>\n",
              "    .dataframe tbody tr th:only-of-type {\n",
              "        vertical-align: middle;\n",
              "    }\n",
              "\n",
              "    .dataframe tbody tr th {\n",
              "        vertical-align: top;\n",
              "    }\n",
              "\n",
              "    .dataframe thead th {\n",
              "        text-align: right;\n",
              "    }\n",
              "</style>\n",
              "<table border=\"1\" class=\"dataframe\">\n",
              "  <thead>\n",
              "    <tr style=\"text-align: right;\">\n",
              "      <th></th>\n",
              "      <th>NÚMERO CONVÊNIO</th>\n",
              "      <th>UF</th>\n",
              "      <th>CÓDIGO SIAFI MUNICÍPIO</th>\n",
              "      <th>NOME MUNICÍPIO</th>\n",
              "      <th>SITUAÇÃO CONVÊNIO</th>\n",
              "      <th>NÚMERO ORIGINAL</th>\n",
              "      <th>OBJETO DO CONVÊNIO</th>\n",
              "      <th>CÓDIGO ÓRGÃO SUPERIOR</th>\n",
              "      <th>NOME ÓRGÃO SUPERIOR</th>\n",
              "      <th>CÓDIGO ÓRGÃO CONCEDENTE</th>\n",
              "      <th>NOME ÓRGÃO CONCEDENTE</th>\n",
              "      <th>CÓDIGO CONVENENTE</th>\n",
              "      <th>TIPO CONVENENTE</th>\n",
              "      <th>NOME CONVENENTE</th>\n",
              "      <th>TIPO ENTE CONVENENTE</th>\n",
              "      <th>TIPO INSTRUMENTO</th>\n",
              "      <th>VALOR CONVÊNIO</th>\n",
              "      <th>VALOR LIBERADO</th>\n",
              "      <th>DATA PUBLICAÇÃO</th>\n",
              "      <th>DATA INÍCIO VIGÊNCIA</th>\n",
              "      <th>DATA FINAL VIGÊNCIA</th>\n",
              "      <th>VALOR CONTRAPARTIDA</th>\n",
              "      <th>DATA ÚLTIMA LIBERAÇÃO</th>\n",
              "      <th>VALOR ÚLTIMA LIBERAÇÃO</th>\n",
              "    </tr>\n",
              "  </thead>\n",
              "  <tbody>\n",
              "    <tr>\n",
              "      <th>3336</th>\n",
              "      <td>300186</td>\n",
              "      <td>DF</td>\n",
              "      <td>9701</td>\n",
              "      <td>BRASILIA</td>\n",
              "      <td>CONCLUÍDO</td>\n",
              "      <td>001/96</td>\n",
              "      <td>TRANSFERENCIA DE RECURSOS FINANCEIROS PARA PAGAMENTO DO PESSOAL ATIVO,INATIVO E PENSIONISTAS, DAS AREAS DE SEGURANCA PUBLICA, EDUCACAO E SAUDE, BEM COMO O CUSTEIO DA SEGURANCA PUBLICA DO DISTRITO FEDERAL,    EMCONFORMIDADE COM DISPOSITIVOS CONSTITUCIONAIS E OS DECRETOS 48.297   E48.298, AMBOS DE 17.06.60.</td>\n",
              "      <td>25000</td>\n",
              "      <td>Ministério da Economia</td>\n",
              "      <td>25000</td>\n",
              "      <td>Ministério da Economia - Unidades com vínculo direto</td>\n",
              "      <td>00394601000126</td>\n",
              "      <td>Administração Pública Estadual ou do Distrito Federal</td>\n",
              "      <td>DISTRITO FEDERAL</td>\n",
              "      <td>Estadual</td>\n",
              "      <td>Sem informação</td>\n",
              "      <td>3.620084e+09</td>\n",
              "      <td>3.620084e+09</td>\n",
              "      <td>10/01/1996</td>\n",
              "      <td>10/01/1996</td>\n",
              "      <td>31/12/1997</td>\n",
              "      <td>0.0</td>\n",
              "      <td>31/12/1997</td>\n",
              "      <td>2300000.00</td>\n",
              "    </tr>\n",
              "    <tr>\n",
              "      <th>4409</th>\n",
              "      <td>301431</td>\n",
              "      <td>DF</td>\n",
              "      <td>9701</td>\n",
              "      <td>BRASILIA</td>\n",
              "      <td>CONCLUÍDO</td>\n",
              "      <td>001/MPAS/SAS/96</td>\n",
              "      <td>REPASSE DE VERBAS PARA O INSS VISANDO AO PAGAMENTO DO BENEFICIO DE    PRESTACAO CONTINUADA, CONFORME O DISPOSTO NOS ARTS. 20, 21 E 35 DA LEIORGANICA DA ASSISTENCIA SOCIAL-LOAS E CONV. NUM 001/MPAS/SAS/96.</td>\n",
              "      <td>55000</td>\n",
              "      <td>Ministério da Cidadania</td>\n",
              "      <td>55001</td>\n",
              "      <td>Fundo Nacional de Assistência Social</td>\n",
              "      <td>510001</td>\n",
              "      <td>Agentes Intermediários</td>\n",
              "      <td>COORD.GERAL DE ORÇAMENTO, FINANÇAS E CONTAB.</td>\n",
              "      <td>Municipal</td>\n",
              "      <td>Sem informação</td>\n",
              "      <td>1.052503e+09</td>\n",
              "      <td>8.634987e+08</td>\n",
              "      <td>13/03/1996</td>\n",
              "      <td>13/03/1996</td>\n",
              "      <td>31/12/1997</td>\n",
              "      <td>0.0</td>\n",
              "      <td>12/12/1997</td>\n",
              "      <td>54000000.03</td>\n",
              "    </tr>\n",
              "    <tr>\n",
              "      <th>1977</th>\n",
              "      <td>298495</td>\n",
              "      <td>RJ</td>\n",
              "      <td>6001</td>\n",
              "      <td>RIO DE JANEIRO</td>\n",
              "      <td>CONCLUÍDO</td>\n",
              "      <td>39300357200700262</td>\n",
              "      <td>OBJETO: EXECUÇÃO DAS OBRAS DE IMPLANTAÇÃO E PAVIMENTAÇÃO DO ARCO METROPOLITANO DO RIO DE JANEIRO NA BR-493/RJ, COMPREENDIDO ENTRE O ENTROCAMENTO COM A BR-040/116(B)/RJ, ATÉ O ENTROCAMENTOCOM A BR-101/RJ, COMPREENDENDO AS OBRAS DE TERRAPLENAGEM, DRENAGEM, PAVIMENTAÇÃO OBRAS DE ARTE ESPECIAIS E TODAS AS DEMAIS PREVISTAS. LEI  11.578/2007,  DECRETO N 6.450/2008 TRANSFERÊNCIA OBRIGATÓRIA. TERMO DE COMPROMISSO ASSINADO EM</td>\n",
              "      <td>39000</td>\n",
              "      <td>Ministério da Infraestrutura</td>\n",
              "      <td>39252</td>\n",
              "      <td>Departamento Nacional de Infraestrutura de Transportes</td>\n",
              "      <td>08599767000190</td>\n",
              "      <td>Administração Pública Estadual ou do Distrito Federal</td>\n",
              "      <td>SECRETARIA DE ESTADO DE INFRAESTRUTURA E OBRAS - SEINFRA</td>\n",
              "      <td>Estadual</td>\n",
              "      <td>Sem informação</td>\n",
              "      <td>7.000000e+08</td>\n",
              "      <td>0.000000e+00</td>\n",
              "      <td>19/12/2007</td>\n",
              "      <td>18/12/2007</td>\n",
              "      <td>18/10/2010</td>\n",
              "      <td>228681172.0</td>\n",
              "      <td>20/05/2009</td>\n",
              "      <td>34487090.00</td>\n",
              "    </tr>\n",
              "  </tbody>\n",
              "</table>\n",
              "</div>"
            ],
            "text/plain": [
              "      NÚMERO CONVÊNIO  UF  ...  DATA ÚLTIMA LIBERAÇÃO VALOR ÚLTIMA LIBERAÇÃO\n",
              "3336  300186           DF  ...  31/12/1997             2300000.00           \n",
              "4409  301431           DF  ...  12/12/1997             54000000.03          \n",
              "1977  298495           RJ  ...  20/05/2009             34487090.00          \n",
              "\n",
              "[3 rows x 24 columns]"
            ]
          },
          "metadata": {
            "tags": []
          },
          "execution_count": 2
        }
      ]
    },
    {
      "cell_type": "code",
      "metadata": {
        "id": "4XfRPFLu_P--",
        "colab_type": "code",
        "outputId": "9492bd3c-f478-437e-d367-60e554bcf226",
        "colab": {
          "base_uri": "https://localhost:8080/",
          "height": 35
        }
      },
      "source": [
        "# Verificando a quantidade de dados\n",
        "convenios.shape\n",
        "# len(convenios)"
      ],
      "execution_count": 3,
      "outputs": [
        {
          "output_type": "execute_result",
          "data": {
            "text/plain": [
              "(39999, 24)"
            ]
          },
          "metadata": {
            "tags": []
          },
          "execution_count": 3
        }
      ]
    },
    {
      "cell_type": "code",
      "metadata": {
        "id": "A_WWRjvN0_pv",
        "colab_type": "code",
        "colab": {}
      },
      "source": [
        "# Excluindo colunas que não serão objeto de análise\n",
        "convenios = convenios.drop(['NÚMERO CONVÊNIO', 'CÓDIGO SIAFI MUNICÍPIO', 'NÚMERO ORIGINAL', 'OBJETO DO CONVÊNIO', \n",
        "                            'CÓDIGO ÓRGÃO SUPERIOR', 'CÓDIGO ÓRGÃO CONCEDENTE', 'CÓDIGO CONVENENTE','DATA PUBLICAÇÃO'], axis=1)"
      ],
      "execution_count": 0,
      "outputs": []
    },
    {
      "cell_type": "code",
      "metadata": {
        "id": "ZLrj_pGO_tTX",
        "colab_type": "code",
        "outputId": "93131e02-1926-4cc7-d57f-d7f4546ef3da",
        "colab": {
          "base_uri": "https://localhost:8080/",
          "height": 35
        }
      },
      "source": [
        "#Constantdo a quantidade de dados atuais\n",
        "convenios.shape"
      ],
      "execution_count": 5,
      "outputs": [
        {
          "output_type": "execute_result",
          "data": {
            "text/plain": [
              "(39999, 16)"
            ]
          },
          "metadata": {
            "tags": []
          },
          "execution_count": 5
        }
      ]
    },
    {
      "cell_type": "code",
      "metadata": {
        "id": "6r9IjUy72-wO",
        "colab_type": "code",
        "outputId": "5f2c7166-ca83-4bf4-d6bf-702de581909d",
        "colab": {
          "base_uri": "https://localhost:8080/",
          "height": 297
        }
      },
      "source": [
        "convenios.describe()"
      ],
      "execution_count": 6,
      "outputs": [
        {
          "output_type": "execute_result",
          "data": {
            "text/html": [
              "<div>\n",
              "<style scoped>\n",
              "    .dataframe tbody tr th:only-of-type {\n",
              "        vertical-align: middle;\n",
              "    }\n",
              "\n",
              "    .dataframe tbody tr th {\n",
              "        vertical-align: top;\n",
              "    }\n",
              "\n",
              "    .dataframe thead th {\n",
              "        text-align: right;\n",
              "    }\n",
              "</style>\n",
              "<table border=\"1\" class=\"dataframe\">\n",
              "  <thead>\n",
              "    <tr style=\"text-align: right;\">\n",
              "      <th></th>\n",
              "      <th>VALOR CONVÊNIO</th>\n",
              "      <th>VALOR LIBERADO</th>\n",
              "      <th>VALOR CONTRAPARTIDA</th>\n",
              "      <th>VALOR ÚLTIMA LIBERAÇÃO</th>\n",
              "    </tr>\n",
              "  </thead>\n",
              "  <tbody>\n",
              "    <tr>\n",
              "      <th>count</th>\n",
              "      <td>3.999900e+04</td>\n",
              "      <td>3.999900e+04</td>\n",
              "      <td>3.999900e+04</td>\n",
              "      <td>3.999900e+04</td>\n",
              "    </tr>\n",
              "    <tr>\n",
              "      <th>mean</th>\n",
              "      <td>6.344792e+05</td>\n",
              "      <td>4.853171e+05</td>\n",
              "      <td>6.700967e+04</td>\n",
              "      <td>6.149511e+04</td>\n",
              "    </tr>\n",
              "    <tr>\n",
              "      <th>std</th>\n",
              "      <td>2.024115e+07</td>\n",
              "      <td>1.928241e+07</td>\n",
              "      <td>2.102704e+06</td>\n",
              "      <td>5.095207e+05</td>\n",
              "    </tr>\n",
              "    <tr>\n",
              "      <th>min</th>\n",
              "      <td>0.000000e+00</td>\n",
              "      <td>0.000000e+00</td>\n",
              "      <td>0.000000e+00</td>\n",
              "      <td>0.000000e+00</td>\n",
              "    </tr>\n",
              "    <tr>\n",
              "      <th>25%</th>\n",
              "      <td>1.000000e+04</td>\n",
              "      <td>6.692760e+03</td>\n",
              "      <td>0.000000e+00</td>\n",
              "      <td>4.000000e+02</td>\n",
              "    </tr>\n",
              "    <tr>\n",
              "      <th>50%</th>\n",
              "      <td>3.500000e+04</td>\n",
              "      <td>2.783770e+04</td>\n",
              "      <td>0.000000e+00</td>\n",
              "      <td>7.000000e+03</td>\n",
              "    </tr>\n",
              "    <tr>\n",
              "      <th>75%</th>\n",
              "      <td>1.125233e+05</td>\n",
              "      <td>9.722743e+04</td>\n",
              "      <td>6.349750e+03</td>\n",
              "      <td>3.750000e+04</td>\n",
              "    </tr>\n",
              "    <tr>\n",
              "      <th>max</th>\n",
              "      <td>3.620084e+09</td>\n",
              "      <td>3.620084e+09</td>\n",
              "      <td>2.682430e+08</td>\n",
              "      <td>5.400000e+07</td>\n",
              "    </tr>\n",
              "  </tbody>\n",
              "</table>\n",
              "</div>"
            ],
            "text/plain": [
              "       VALOR CONVÊNIO  ...  VALOR ÚLTIMA LIBERAÇÃO\n",
              "count  3.999900e+04    ...  3.999900e+04          \n",
              "mean   6.344792e+05    ...  6.149511e+04          \n",
              "std    2.024115e+07    ...  5.095207e+05          \n",
              "min    0.000000e+00    ...  0.000000e+00          \n",
              "25%    1.000000e+04    ...  4.000000e+02          \n",
              "50%    3.500000e+04    ...  7.000000e+03          \n",
              "75%    1.125233e+05    ...  3.750000e+04          \n",
              "max    3.620084e+09    ...  5.400000e+07          \n",
              "\n",
              "[8 rows x 4 columns]"
            ]
          },
          "metadata": {
            "tags": []
          },
          "execution_count": 6
        }
      ]
    },
    {
      "cell_type": "markdown",
      "metadata": {
        "colab_type": "text",
        "id": "w6cnmgVq4gDi"
      },
      "source": [
        "## Setando campos como categóricos"
      ]
    },
    {
      "cell_type": "code",
      "metadata": {
        "colab_type": "code",
        "id": "O-O6BFuKmlPN",
        "outputId": "a7b53009-0f29-4262-bd0f-700cf5f4f98e",
        "colab": {
          "base_uri": "https://localhost:8080/",
          "height": 323
        }
      },
      "source": [
        "convenios.dtypes"
      ],
      "execution_count": 7,
      "outputs": [
        {
          "output_type": "execute_result",
          "data": {
            "text/plain": [
              "UF                        object \n",
              "NOME MUNICÍPIO            object \n",
              "SITUAÇÃO CONVÊNIO         object \n",
              "NOME ÓRGÃO SUPERIOR       object \n",
              "NOME ÓRGÃO CONCEDENTE     object \n",
              "TIPO CONVENENTE           object \n",
              "NOME CONVENENTE           object \n",
              "TIPO ENTE CONVENENTE      object \n",
              "TIPO INSTRUMENTO          object \n",
              "VALOR CONVÊNIO            float64\n",
              "VALOR LIBERADO            float64\n",
              "DATA INÍCIO VIGÊNCIA      object \n",
              "DATA FINAL VIGÊNCIA       object \n",
              "VALOR CONTRAPARTIDA       float64\n",
              "DATA ÚLTIMA LIBERAÇÃO     object \n",
              "VALOR ÚLTIMA LIBERAÇÃO    float64\n",
              "dtype: object"
            ]
          },
          "metadata": {
            "tags": []
          },
          "execution_count": 7
        }
      ]
    },
    {
      "cell_type": "code",
      "metadata": {
        "colab_type": "code",
        "id": "J9n5LrpKm83d",
        "colab": {}
      },
      "source": [
        "#Ajustando tipos dos dados\n",
        "convenios['UF'] = convenios['UF'].astype('category')\n",
        "convenios['NOME MUNICÍPIO'] = convenios['NOME MUNICÍPIO'].astype('category')\n",
        "convenios['SITUAÇÃO CONVÊNIO'] = convenios['SITUAÇÃO CONVÊNIO'].astype('category')\n",
        "convenios['NOME ÓRGÃO SUPERIOR'] = convenios['NOME ÓRGÃO SUPERIOR'].astype('category')\n",
        "convenios['NOME ÓRGÃO CONCEDENTE'] = convenios['NOME ÓRGÃO CONCEDENTE'].astype('category')\n",
        "convenios['TIPO CONVENENTE'] = convenios['TIPO CONVENENTE'].astype('category')\n",
        "convenios['NOME CONVENENTE'] = convenios['NOME CONVENENTE'].astype('category')\n",
        "convenios['TIPO ENTE CONVENENTE'] = convenios['TIPO ENTE CONVENENTE'].astype('category')\n",
        "convenios['TIPO INSTRUMENTO'] = convenios['TIPO INSTRUMENTO'].astype('category')\n"
      ],
      "execution_count": 0,
      "outputs": []
    },
    {
      "cell_type": "code",
      "metadata": {
        "colab_type": "code",
        "id": "HRSFBmGUnMz8",
        "outputId": "f439680c-b6bf-4e88-a02b-23acb2639d14",
        "colab": {
          "base_uri": "https://localhost:8080/",
          "height": 323
        }
      },
      "source": [
        "convenios.dtypes"
      ],
      "execution_count": 9,
      "outputs": [
        {
          "output_type": "execute_result",
          "data": {
            "text/plain": [
              "UF                        category\n",
              "NOME MUNICÍPIO            category\n",
              "SITUAÇÃO CONVÊNIO         category\n",
              "NOME ÓRGÃO SUPERIOR       category\n",
              "NOME ÓRGÃO CONCEDENTE     category\n",
              "TIPO CONVENENTE           category\n",
              "NOME CONVENENTE           category\n",
              "TIPO ENTE CONVENENTE      category\n",
              "TIPO INSTRUMENTO          category\n",
              "VALOR CONVÊNIO            float64 \n",
              "VALOR LIBERADO            float64 \n",
              "DATA INÍCIO VIGÊNCIA      object  \n",
              "DATA FINAL VIGÊNCIA       object  \n",
              "VALOR CONTRAPARTIDA       float64 \n",
              "DATA ÚLTIMA LIBERAÇÃO     object  \n",
              "VALOR ÚLTIMA LIBERAÇÃO    float64 \n",
              "dtype: object"
            ]
          },
          "metadata": {
            "tags": []
          },
          "execution_count": 9
        }
      ]
    },
    {
      "cell_type": "markdown",
      "metadata": {
        "id": "XgOB6v_zXARh",
        "colab_type": "text"
      },
      "source": [
        "## Conhecendo um pouco mais os dados"
      ]
    },
    {
      "cell_type": "code",
      "metadata": {
        "id": "FYJH7QK7I1HJ",
        "colab_type": "code",
        "outputId": "427b38e0-4711-4289-d632-f244191b3827",
        "colab": {
          "base_uri": "https://localhost:8080/",
          "height": 89
        }
      },
      "source": [
        "convenios['UF'].cat.categories"
      ],
      "execution_count": 10,
      "outputs": [
        {
          "output_type": "execute_result",
          "data": {
            "text/plain": [
              "Index(['-1', 'AC', 'AL', 'AM', 'AP', 'BA', 'CE', 'DF', 'ES', 'EX', 'GO', 'MA',\n",
              "       'MG', 'MS', 'MT', 'PA', 'PB', 'PE', 'PI', 'PR', 'RJ', 'RN', 'RO', 'RR',\n",
              "       'RS', 'SC', 'SE', 'SP', 'TO'],\n",
              "      dtype='object')"
            ]
          },
          "metadata": {
            "tags": []
          },
          "execution_count": 10
        }
      ]
    },
    {
      "cell_type": "code",
      "metadata": {
        "colab_type": "code",
        "id": "CyVt9fo9o814",
        "outputId": "380a6cdf-d0b1-48ca-c56a-e6a4b5b2dfe2",
        "colab": {
          "base_uri": "https://localhost:8080/",
          "height": 71
        }
      },
      "source": [
        "convenios['SITUAÇÃO CONVÊNIO'].cat.categories"
      ],
      "execution_count": 11,
      "outputs": [
        {
          "output_type": "execute_result",
          "data": {
            "text/plain": [
              "Index(['ADIMPLENTE', 'ARQUIVADO', 'BAIXADO', 'CANCELADO', 'CONCLUÍDO',\n",
              "       'EXCLUÍDO', 'INADIMPLENTE', 'INADIMPLÊNCIA SUSPENSA', 'RESCINDIDO'],\n",
              "      dtype='object')"
            ]
          },
          "metadata": {
            "tags": []
          },
          "execution_count": 11
        }
      ]
    },
    {
      "cell_type": "code",
      "metadata": {
        "id": "DjYfUyiS7xUL",
        "colab_type": "code",
        "outputId": "a4767677-6140-42a5-ef5d-9539e95cd1a0",
        "colab": {
          "base_uri": "https://localhost:8080/",
          "height": 143
        }
      },
      "source": [
        "convenios['TIPO CONVENENTE'].cat.categories"
      ],
      "execution_count": 12,
      "outputs": [
        {
          "output_type": "execute_result",
          "data": {
            "text/plain": [
              "Index(['Administração Pública',\n",
              "       'Administração Pública Estadual ou do Distrito Federal',\n",
              "       'Administração Pública Federal', 'Administração Pública Municipal',\n",
              "       'Agentes Intermediários', 'Entidades Empresariais Privadas',\n",
              "       'Entidades Sem Fins Lucrativos', 'Fundo Público',\n",
              "       'Organizações Internacionais', 'Pessoa Física', 'Sem Informação'],\n",
              "      dtype='object')"
            ]
          },
          "metadata": {
            "tags": []
          },
          "execution_count": 12
        }
      ]
    },
    {
      "cell_type": "code",
      "metadata": {
        "id": "Ba8oAWXK8ClS",
        "colab_type": "code",
        "outputId": "35b7cb2e-06d8-4c5d-a75b-fafb897a8bce",
        "colab": {
          "base_uri": "https://localhost:8080/",
          "height": 35
        }
      },
      "source": [
        "convenios['TIPO ENTE CONVENENTE'].cat.categories"
      ],
      "execution_count": 13,
      "outputs": [
        {
          "output_type": "execute_result",
          "data": {
            "text/plain": [
              "Index(['Estadual', 'Municipal'], dtype='object')"
            ]
          },
          "metadata": {
            "tags": []
          },
          "execution_count": 13
        }
      ]
    },
    {
      "cell_type": "code",
      "metadata": {
        "id": "khgIwFuW7J1j",
        "colab_type": "code",
        "outputId": "76620c89-c5e8-4cae-b576-303f6c657162",
        "colab": {
          "base_uri": "https://localhost:8080/",
          "height": 89
        }
      },
      "source": [
        "convenios['TIPO INSTRUMENTO'].cat.categories"
      ],
      "execution_count": 16,
      "outputs": [
        {
          "output_type": "execute_result",
          "data": {
            "text/plain": [
              "Index(['ACORDO DE COOPERACAO TECNICA', 'CONTRATO DE REPASSE', 'CONVENIO',\n",
              "       'Sem informação', 'TERMO DE COMPROMISSO', 'TERMO DE PARCERIA',\n",
              "       'TRANSFERENCIA LEGAL'],\n",
              "      dtype='object')"
            ]
          },
          "metadata": {
            "tags": []
          },
          "execution_count": 16
        }
      ]
    },
    {
      "cell_type": "code",
      "metadata": {
        "id": "im2hb5ntYlqN",
        "colab_type": "code",
        "outputId": "01f65fcb-1334-4ff6-82e4-ae3efba6701d",
        "colab": {
          "base_uri": "https://localhost:8080/",
          "height": 305
        }
      },
      "source": [
        "convenios['NOME ÓRGÃO SUPERIOR'].cat.categories "
      ],
      "execution_count": 15,
      "outputs": [
        {
          "output_type": "execute_result",
          "data": {
            "text/plain": [
              "Index(['Controladoria-Geral da União',\n",
              "       'Ministério da Agricultura, Pecuária e Abastecimento',\n",
              "       'Ministério da Cidadania',\n",
              "       'Ministério da Ciência, Tecnologia, Inovações e Comunicações',\n",
              "       'Ministério da Defesa', 'Ministério da Economia',\n",
              "       'Ministério da Educação', 'Ministério da Infraestrutura',\n",
              "       'Ministério da Justiça e Segurança Pública',\n",
              "       'Ministério da Mulher, Família e Direitos Humanos',\n",
              "       'Ministério da Pesca e Aquicultura', 'Ministério da Previdência Social',\n",
              "       'Ministério da Saúde', 'Ministério das Comunicações',\n",
              "       'Ministério das Relações Exteriores', 'Ministério de Minas e Energia',\n",
              "       'Ministério do Desenvolvimento Regional', 'Ministério do Meio Ambiente',\n",
              "       'Ministério do Planejamento, Desenvolvimento e Gestão',\n",
              "       'Ministério do Trabalho e Emprego', 'Ministério do Turismo',\n",
              "       'Presidência da República'],\n",
              "      dtype='object')"
            ]
          },
          "metadata": {
            "tags": []
          },
          "execution_count": 15
        }
      ]
    },
    {
      "cell_type": "code",
      "metadata": {
        "id": "hjEtq8uwYYht",
        "colab_type": "code",
        "outputId": "d5d37848-af60-493b-d61f-8e651058121b",
        "colab": {
          "base_uri": "https://localhost:8080/",
          "height": 1000
        }
      },
      "source": [
        "convenios['NOME ÓRGÃO CONCEDENTE'].cat.categories "
      ],
      "execution_count": 17,
      "outputs": [
        {
          "output_type": "execute_result",
          "data": {
            "text/plain": [
              "Index(['Agência Espacial Brasileira', 'Agência Nacional de Aviação Civil',\n",
              "       'Agência Nacional de Energia Elétrica',\n",
              "       'Agência Nacional de Saúde Suplementar', 'Agência Nacional do Cinema',\n",
              "       'Agência de Desenvolvimento da Amazônia',\n",
              "       'Banco Central do Brasil - Orçamento Fiscal e Seguridade Social',\n",
              "       'Comando da Aeronáutica', 'Comando da Marinha',\n",
              "       'Comando da Marinha - Fundo Naval', 'Comando do Exército',\n",
              "       'Comissão Nacional de Energia Nuclear',\n",
              "       'Companhia Brasileira de Trens Urbanos',\n",
              "       'Companhia Nacional de Abastecimento',\n",
              "       'Companhia de Desenvolvimento dos Vales do São Francisco e do Parnaíba',\n",
              "       'Conselho Nacional de Desenvolvimento Científico e Tecnológico',\n",
              "       'Controladoria-Geral da União',\n",
              "       'Departamento Nacional de Estradas de Rodagem',\n",
              "       'Departamento Nacional de Infraestrutura de Transportes',\n",
              "       'Departamento Nacional de Obras Contra as Secas',\n",
              "       'Departamento Nacional de Produção Mineral',\n",
              "       'Departamento de Polícia Rodoviária Federal',\n",
              "       'Empresa Brasileira de Pesquisa Agropecuária',\n",
              "       'Financiadora de Estudos e Projetos', 'Fundação Alexandre de Gusmão',\n",
              "       'Fundação Coordenação de Aperfeiçoamento de Pessoal de Nível Superior',\n",
              "       'Fundação Cultural Palmares',\n",
              "       'Fundação Jorge Duprat Figueiredo, de Segurança e Medicina do Trabalho',\n",
              "       'Fundação Nacional de Artes', 'Fundação Nacional de Saúde',\n",
              "       'Fundação Nacional do Índio', 'Fundação Oswaldo Cruz',\n",
              "       'Fundação Universidade Federal do Piauí',\n",
              "       'Fundação Universidade de Brasília',\n",
              "       'Fundação Universidade do Maranhão', 'Fundo Aeronáutico',\n",
              "       'Fundo Geral de Turismo', 'Fundo Nacional Antidrogas',\n",
              "       'Fundo Nacional de Assistência Social', 'Fundo Nacional de Cultura',\n",
              "       'Fundo Nacional de Desenvolvimento Científico e Tecnológico',\n",
              "       'Fundo Nacional de Desenvolvimento da Educação',\n",
              "       'Fundo Nacional de Habitação de Interesse Social',\n",
              "       'Fundo Nacional do Meio Ambiente', 'Fundo Penitenciário Nacional',\n",
              "       'Fundo de Amparo ao Trabalhador',\n",
              "       'Fundo de Defesa da Economia Cafeeira',\n",
              "       'Fundo de Desenvolvimento do Ensino Profissional Marítimo',\n",
              "       'Fundo para o Desenvolvimento Tecnológico das Telecomunicações',\n",
              "       'Indústrias Nucleares do Brasil', 'Instituto Brasileiro de Turismo',\n",
              "       'Instituto Brasileiro do Meio Ambiente e dos Recursos Naturais Renováveis',\n",
              "       'Instituto Chico Mendes de Conservação da Biodiversidade',\n",
              "       'Instituto Federal do Ceará', 'Instituto Federal do Maranhão',\n",
              "       'Instituto Nacional da Propriedade Industrial',\n",
              "       'Instituto Nacional de Colonização e Reforma Agrária',\n",
              "       'Instituto Nacional de Estudos e Pesquisas Educacionais Anísio Teixeira',\n",
              "       'Instituto Nacional de Metrologia, Qualidade e Tecnologia',\n",
              "       'Instituto de Pesquisa Econômica Aplicada',\n",
              "       'Instituto do Patrimônio Histórico e Artístico Nacional',\n",
              "       'Ministério da Agricultura, Pecuária e Abastecimento - Unidades com vínculo direto',\n",
              "       'Ministério da Cidadania - Unidades com vínculo direto',\n",
              "       'Ministério da Ciência, Tecnologia, Inovações e Comunicações - Unidades com vínculo direto',\n",
              "       'Ministério da Economia - Unidades com vínculo direto',\n",
              "       'Ministério da Educação - Unidades com vínculo direto',\n",
              "       'Ministério da Infraestrutura - Unidades com vínculo direto',\n",
              "       'Ministério da Justiça e Segurança Pública - Unidades com vínculo direto',\n",
              "       'Ministério da Mulher, Família e Direitos Humanos - Unidades com vínculo direto',\n",
              "       'Ministério da Pesca e Aquicultura - Unidades com vínculo direto',\n",
              "       'Ministério da Previdência Social - Unidades com vínculo direto',\n",
              "       'Ministério da Saúde - Unidades com vínculo direto',\n",
              "       'Ministério das Comunicações - Unidades com vínculo direto',\n",
              "       'Ministério das Relações Exteriores - Unidades com vínculo direto',\n",
              "       'Ministério de Minas e Energia - Unidades com vínculo direto',\n",
              "       'Ministério do Desenvolvimento Regional - Unidades com vínculo direto',\n",
              "       'Ministério do Meio Ambiente - Unidades com vínculo direto',\n",
              "       'Ministério do Planejamento, Desenvolvimento e Gestão - Unidades com vínculo direto',\n",
              "       'Ministério do Trabalho e Emprego - Unidades com vínculo direto',\n",
              "       'Presidência da República',\n",
              "       'Radiobrás Empresa Brasileira de Comunicação S.A.',\n",
              "       'Secretaria de Direitos Humanos', 'Secretaria de Portos',\n",
              "       'Superintendência da Zona Franca de Manaus',\n",
              "       'Superintendência de Desenvolvimento do Centro-Oeste',\n",
              "       'Superintendência de Seguros Privados',\n",
              "       'Superintendência do Desenvolvimento da Amazônia',\n",
              "       'Superintendência do Desenvolvimento do Nordeste',\n",
              "       'Universidade Federal da Paraíba',\n",
              "       'Universidade Federal de Juiz de Fora',\n",
              "       'Universidade Federal de Pernambuco',\n",
              "       'Universidade Federal de Santa Catarina',\n",
              "       'Universidade Federal do Ceará',\n",
              "       'Universidade Federal do Estado do Rio de Janeiro',\n",
              "       'Universidade Federal do Pará'],\n",
              "      dtype='object')"
            ]
          },
          "metadata": {
            "tags": []
          },
          "execution_count": 17
        }
      ]
    },
    {
      "cell_type": "markdown",
      "metadata": {
        "colab_type": "text",
        "id": "6V4tDIKz4tOg"
      },
      "source": [
        "## Tratamento de dados ausentes"
      ]
    },
    {
      "cell_type": "code",
      "metadata": {
        "id": "MqAdPRJNYjwj",
        "colab_type": "code",
        "outputId": "aec4d628-c6a6-40c6-ac02-2cf7cfa7821c",
        "colab": {
          "base_uri": "https://localhost:8080/",
          "height": 649
        }
      },
      "source": [
        "convenios.head()"
      ],
      "execution_count": 18,
      "outputs": [
        {
          "output_type": "execute_result",
          "data": {
            "text/html": [
              "<div>\n",
              "<style scoped>\n",
              "    .dataframe tbody tr th:only-of-type {\n",
              "        vertical-align: middle;\n",
              "    }\n",
              "\n",
              "    .dataframe tbody tr th {\n",
              "        vertical-align: top;\n",
              "    }\n",
              "\n",
              "    .dataframe thead th {\n",
              "        text-align: right;\n",
              "    }\n",
              "</style>\n",
              "<table border=\"1\" class=\"dataframe\">\n",
              "  <thead>\n",
              "    <tr style=\"text-align: right;\">\n",
              "      <th></th>\n",
              "      <th>UF</th>\n",
              "      <th>NOME MUNICÍPIO</th>\n",
              "      <th>SITUAÇÃO CONVÊNIO</th>\n",
              "      <th>NOME ÓRGÃO SUPERIOR</th>\n",
              "      <th>NOME ÓRGÃO CONCEDENTE</th>\n",
              "      <th>TIPO CONVENENTE</th>\n",
              "      <th>NOME CONVENENTE</th>\n",
              "      <th>TIPO ENTE CONVENENTE</th>\n",
              "      <th>TIPO INSTRUMENTO</th>\n",
              "      <th>VALOR CONVÊNIO</th>\n",
              "      <th>VALOR LIBERADO</th>\n",
              "      <th>DATA INÍCIO VIGÊNCIA</th>\n",
              "      <th>DATA FINAL VIGÊNCIA</th>\n",
              "      <th>VALOR CONTRAPARTIDA</th>\n",
              "      <th>DATA ÚLTIMA LIBERAÇÃO</th>\n",
              "      <th>VALOR ÚLTIMA LIBERAÇÃO</th>\n",
              "    </tr>\n",
              "  </thead>\n",
              "  <tbody>\n",
              "    <tr>\n",
              "      <th>0</th>\n",
              "      <td>SP</td>\n",
              "      <td>MAUA</td>\n",
              "      <td>CONCLUÍDO</td>\n",
              "      <td>Ministério da Educação</td>\n",
              "      <td>Fundo Nacional de Desenvolvimento da Educação</td>\n",
              "      <td>Administração Pública Municipal</td>\n",
              "      <td>MUNICIPIO DE MAUA</td>\n",
              "      <td>Municipal</td>\n",
              "      <td>Sem informação</td>\n",
              "      <td>2110457.00</td>\n",
              "      <td>2054267.71</td>\n",
              "      <td>28/02/1996</td>\n",
              "      <td>28/02/1999</td>\n",
              "      <td>0.0</td>\n",
              "      <td>07/12/1995</td>\n",
              "      <td>0.00</td>\n",
              "    </tr>\n",
              "    <tr>\n",
              "      <th>1</th>\n",
              "      <td>RS</td>\n",
              "      <td>VIAMAO</td>\n",
              "      <td>ADIMPLENTE</td>\n",
              "      <td>Ministério da Educação</td>\n",
              "      <td>Fundo Nacional de Desenvolvimento da Educação</td>\n",
              "      <td>Administração Pública Municipal</td>\n",
              "      <td>MUNICIPIO DE VIAMAO</td>\n",
              "      <td>Municipal</td>\n",
              "      <td>CONVENIO</td>\n",
              "      <td>515877.96</td>\n",
              "      <td>406200.76</td>\n",
              "      <td>27/02/1996</td>\n",
              "      <td>28/02/1999</td>\n",
              "      <td>0.0</td>\n",
              "      <td>13/12/1995</td>\n",
              "      <td>0.00</td>\n",
              "    </tr>\n",
              "    <tr>\n",
              "      <th>2</th>\n",
              "      <td>PE</td>\n",
              "      <td>RECIFE</td>\n",
              "      <td>CONCLUÍDO</td>\n",
              "      <td>Ministério da Infraestrutura</td>\n",
              "      <td>Departamento Nacional de Infraestrutura de Transportes</td>\n",
              "      <td>Entidades Empresariais Privadas</td>\n",
              "      <td>3º BATALHÃO DE ENGENHARIA DE CONSTRUÇÃO</td>\n",
              "      <td>Municipal</td>\n",
              "      <td>Sem informação</td>\n",
              "      <td>19439537.00</td>\n",
              "      <td>17777924.41</td>\n",
              "      <td>15/11/2002</td>\n",
              "      <td>28/06/2005</td>\n",
              "      <td>0.0</td>\n",
              "      <td>28/12/2004</td>\n",
              "      <td>0.00</td>\n",
              "    </tr>\n",
              "    <tr>\n",
              "      <th>3</th>\n",
              "      <td>SP</td>\n",
              "      <td>BAURU</td>\n",
              "      <td>CONCLUÍDO</td>\n",
              "      <td>Ministério da Saúde</td>\n",
              "      <td>Ministério da Saúde - Unidades com vínculo direto</td>\n",
              "      <td>Administração Pública Estadual ou do Distrito Federal</td>\n",
              "      <td>UNIVERSIDADE DE SAO PAULO</td>\n",
              "      <td>Estadual</td>\n",
              "      <td>Sem informação</td>\n",
              "      <td>5000000.00</td>\n",
              "      <td>5000000.00</td>\n",
              "      <td>29/12/1995</td>\n",
              "      <td>30/06/1998</td>\n",
              "      <td>0.0</td>\n",
              "      <td>29/12/1994</td>\n",
              "      <td>0.00</td>\n",
              "    </tr>\n",
              "    <tr>\n",
              "      <th>4</th>\n",
              "      <td>RJ</td>\n",
              "      <td>RIO DE JANEIRO</td>\n",
              "      <td>CONCLUÍDO</td>\n",
              "      <td>Ministério da Saúde</td>\n",
              "      <td>Fundação Oswaldo Cruz</td>\n",
              "      <td>Administração Pública Estadual ou do Distrito Federal</td>\n",
              "      <td>FUNDACAO CARLOS CHAGAS FILHO DE AMPARO A PESQUISA DO ESTADO DO RIO DE JANEIRO-FAPERJ</td>\n",
              "      <td>Estadual</td>\n",
              "      <td>Sem informação</td>\n",
              "      <td>12741999.13</td>\n",
              "      <td>11415402.92</td>\n",
              "      <td>24/11/1995</td>\n",
              "      <td>28/02/2002</td>\n",
              "      <td>0.0</td>\n",
              "      <td>19/12/2001</td>\n",
              "      <td>153846.11</td>\n",
              "    </tr>\n",
              "  </tbody>\n",
              "</table>\n",
              "</div>"
            ],
            "text/plain": [
              "   UF  NOME MUNICÍPIO  ... DATA ÚLTIMA LIBERAÇÃO VALOR ÚLTIMA LIBERAÇÃO\n",
              "0  SP  MAUA            ...  07/12/1995            0.00                 \n",
              "1  RS  VIAMAO          ...  13/12/1995            0.00                 \n",
              "2  PE  RECIFE          ...  28/12/2004            0.00                 \n",
              "3  SP  BAURU           ...  29/12/1994            0.00                 \n",
              "4  RJ  RIO DE JANEIRO  ...  19/12/2001            153846.11            \n",
              "\n",
              "[5 rows x 16 columns]"
            ]
          },
          "metadata": {
            "tags": []
          },
          "execution_count": 18
        }
      ]
    },
    {
      "cell_type": "code",
      "metadata": {
        "colab_type": "code",
        "id": "HZQ-Q33r_Uz_",
        "outputId": "8bd04125-ac74-4bd2-dd02-b12441301297",
        "colab": {
          "base_uri": "https://localhost:8080/",
          "height": 323
        }
      },
      "source": [
        "# Verificando quantidade de dados nulos\n",
        "print(convenios.isnull().sum())"
      ],
      "execution_count": 19,
      "outputs": [
        {
          "output_type": "stream",
          "text": [
            "UF                        0   \n",
            "NOME MUNICÍPIO            0   \n",
            "SITUAÇÃO CONVÊNIO         0   \n",
            "NOME ÓRGÃO SUPERIOR       0   \n",
            "NOME ÓRGÃO CONCEDENTE     0   \n",
            "TIPO CONVENENTE           0   \n",
            "NOME CONVENENTE           0   \n",
            "TIPO ENTE CONVENENTE      0   \n",
            "TIPO INSTRUMENTO          0   \n",
            "VALOR CONVÊNIO            0   \n",
            "VALOR LIBERADO            0   \n",
            "DATA INÍCIO VIGÊNCIA      0   \n",
            "DATA FINAL VIGÊNCIA       0   \n",
            "VALOR CONTRAPARTIDA       0   \n",
            "DATA ÚLTIMA LIBERAÇÃO     4439\n",
            "VALOR ÚLTIMA LIBERAÇÃO    0   \n",
            "dtype: int64\n"
          ],
          "name": "stdout"
        }
      ]
    },
    {
      "cell_type": "code",
      "metadata": {
        "colab_type": "code",
        "id": "dbbuKsg_-M4e",
        "colab": {}
      },
      "source": [
        "# Como a utilidade da coluna DATA ÚLTIMA LIBERAÇÃO era duvidosa e apresentou muitos dados vazios, optou-se por excluí-la\n",
        "convenios = convenios.drop(['DATA ÚLTIMA LIBERAÇÃO'], axis=1)\n",
        "# Além disso, VALOR ÚLTIMA LIBERAÇÃO apresentou falsos não nulos, contendo zero inadequadamente, de forma que também foi excluído dessa análise inicial\n",
        "convenios = convenios.drop(['VALOR ÚLTIMA LIBERAÇÃO'], axis=1)"
      ],
      "execution_count": 0,
      "outputs": []
    },
    {
      "cell_type": "code",
      "metadata": {
        "id": "92Y6QLmw9fPN",
        "colab_type": "code",
        "outputId": "0ba67e7a-ff49-4c71-bfb3-b408fd153540",
        "colab": {
          "base_uri": "https://localhost:8080/",
          "height": 287
        }
      },
      "source": [
        "# Confirmando exclusões\n",
        "print(convenios.isnull().sum())"
      ],
      "execution_count": 21,
      "outputs": [
        {
          "output_type": "stream",
          "text": [
            "UF                       0\n",
            "NOME MUNICÍPIO           0\n",
            "SITUAÇÃO CONVÊNIO        0\n",
            "NOME ÓRGÃO SUPERIOR      0\n",
            "NOME ÓRGÃO CONCEDENTE    0\n",
            "TIPO CONVENENTE          0\n",
            "NOME CONVENENTE          0\n",
            "TIPO ENTE CONVENENTE     0\n",
            "TIPO INSTRUMENTO         0\n",
            "VALOR CONVÊNIO           0\n",
            "VALOR LIBERADO           0\n",
            "DATA INÍCIO VIGÊNCIA     0\n",
            "DATA FINAL VIGÊNCIA      0\n",
            "VALOR CONTRAPARTIDA      0\n",
            "dtype: int64\n"
          ],
          "name": "stdout"
        }
      ]
    },
    {
      "cell_type": "code",
      "metadata": {
        "id": "AW0ucKfjalwa",
        "colab_type": "code",
        "outputId": "85533a9c-622d-4902-e04b-0fbdd26d656e",
        "colab": {
          "base_uri": "https://localhost:8080/",
          "height": 89
        }
      },
      "source": [
        "#Por fim, verificou-se os falsos não nulos\n",
        "print((convenios['TIPO CONVENENTE'] == 'Sem Informação').sum())\n",
        "print((convenios['TIPO INSTRUMENTO'] == 'Sem informação').sum())\n",
        "print((convenios['UF'] == '-1').sum() + (convenios['UF'] == 'EX').sum())\n",
        "print((convenios['VALOR CONVÊNIO'] == 0).sum())"
      ],
      "execution_count": 22,
      "outputs": [
        {
          "output_type": "stream",
          "text": [
            "29\n",
            "34318\n",
            "36\n",
            "338\n"
          ],
          "name": "stdout"
        }
      ]
    },
    {
      "cell_type": "code",
      "metadata": {
        "id": "R-Vxq-rLa3LU",
        "colab_type": "code",
        "colab": {}
      },
      "source": [
        "# Como TIPO INSTRUMENTO apresentou grande quantidade de registros Sem informação, optou-se por excluí-lo\n",
        "convenios = convenios.drop(['TIPO INSTRUMENTO'], axis=1)\n",
        "# Também decidiu-se remover as instâncias inválidas cujo VALOR CONVÊNIO = 0\n",
        "convenios = convenios[(convenios['VALOR CONVÊNIO'] > 0)]\n",
        "# Por fim, removeu-se as instâncias com UF inválidas \n",
        "convenios = convenios.loc[(convenios['UF'] != \"-1\")]\n",
        "convenios = convenios.loc[(convenios['UF'] != \"EX\")]"
      ],
      "execution_count": 0,
      "outputs": []
    },
    {
      "cell_type": "code",
      "metadata": {
        "id": "YWfSODvPbmae",
        "colab_type": "code",
        "outputId": "5cde1b7c-c56b-4dfd-fe51-479d8b39eea6",
        "colab": {
          "base_uri": "https://localhost:8080/",
          "height": 557
        }
      },
      "source": [
        "convenios['UF'].value_counts()"
      ],
      "execution_count": 24,
      "outputs": [
        {
          "output_type": "execute_result",
          "data": {
            "text/plain": [
              "MG    4330\n",
              "SP    4195\n",
              "RJ    3116\n",
              "RS    2948\n",
              "PR    2720\n",
              "BA    1956\n",
              "SC    1910\n",
              "PE    1744\n",
              "DF    1658\n",
              "CE    1509\n",
              "MA    1296\n",
              "GO    1285\n",
              "PI    1284\n",
              "PB    1274\n",
              "PA    1183\n",
              "RN    1155\n",
              "MT    1040\n",
              "AL    777 \n",
              "ES    664 \n",
              "TO    646 \n",
              "MS    610 \n",
              "AM    589 \n",
              "SE    532 \n",
              "RO    499 \n",
              "AC    287 \n",
              "RR    221 \n",
              "AP    198 \n",
              "EX    0   \n",
              "-1    0   \n",
              "Name: UF, dtype: int64"
            ]
          },
          "metadata": {
            "tags": []
          },
          "execution_count": 24
        }
      ]
    },
    {
      "cell_type": "code",
      "metadata": {
        "id": "bQWfOe6dbFR9",
        "colab_type": "code",
        "outputId": "351b79e0-0f82-4cb3-d6e0-df21f0d5fad9",
        "colab": {
          "base_uri": "https://localhost:8080/",
          "height": 35
        }
      },
      "source": [
        "convenios.shape"
      ],
      "execution_count": 25,
      "outputs": [
        {
          "output_type": "execute_result",
          "data": {
            "text/plain": [
              "(39626, 13)"
            ]
          },
          "metadata": {
            "tags": []
          },
          "execution_count": 25
        }
      ]
    },
    {
      "cell_type": "markdown",
      "metadata": {
        "id": "Nu9IQakTqxWo",
        "colab_type": "text"
      },
      "source": [
        "## Normalização e Discretização"
      ]
    },
    {
      "cell_type": "code",
      "metadata": {
        "id": "DXSsif_pzMnp",
        "colab_type": "code",
        "outputId": "e0dd7a53-75bc-4af9-8dd8-45d0596348be",
        "colab": {
          "base_uri": "https://localhost:8080/",
          "height": 179
        }
      },
      "source": [
        "# Normalizando, apenas para fins educativos\n",
        "from sklearn.preprocessing import StandardScaler, MinMaxScaler\n",
        "scaler = MinMaxScaler()\n",
        "convenios['valor_norm'] = scaler.fit_transform(convenios[['VALOR CONVÊNIO']])\n",
        "# Por média e desvio padrão\n",
        "convenios['valor_norm'] = (convenios['VALOR CONVÊNIO'] - convenios['VALOR CONVÊNIO'].mean()) / (convenios['VALOR CONVÊNIO'].std())\n",
        "convenios['valor_norm'].describe()"
      ],
      "execution_count": 26,
      "outputs": [
        {
          "output_type": "execute_result",
          "data": {
            "text/plain": [
              "count    3.962600e+04\n",
              "mean    -1.100356e-16\n",
              "std      1.000000e+00\n",
              "min     -3.147869e-02\n",
              "25%     -3.098695e-02\n",
              "50%     -2.972633e-02\n",
              "75%     -2.585602e-02\n",
              "max      1.779818e+02\n",
              "Name: valor_norm, dtype: float64"
            ]
          },
          "metadata": {
            "tags": []
          },
          "execution_count": 26
        }
      ]
    },
    {
      "cell_type": "code",
      "metadata": {
        "id": "EMi260710SK5",
        "colab_type": "code",
        "outputId": "4cc81318-f518-4f39-ed34-5951f14899e3",
        "colab": {
          "base_uri": "https://localhost:8080/",
          "height": 179
        }
      },
      "source": [
        "# Por min e max\n",
        "# Intervalo [0, 1] \n",
        "convenios['valor_norm'] = (convenios['VALOR CONVÊNIO'] - convenios['VALOR CONVÊNIO'].min()) / (convenios['VALOR CONVÊNIO'].max() - convenios['VALOR CONVÊNIO'].min()) \n",
        "# Intervalo [-1, 1]\n",
        "# convenios['valor_norm'] = ((convenios['VALOR CONVÊNIO'] - convenios['VALOR CONVÊNIO'].min()) / (convenios['VALOR CONVÊNIO'].max() - convenios['VALOR CONVÊNIO'].min())*2) -1 \n",
        "convenios['valor_norm'].describe()\n"
      ],
      "execution_count": 27,
      "outputs": [
        {
          "output_type": "execute_result",
          "data": {
            "text/plain": [
              "count    39626.000000\n",
              "mean     0.000177    \n",
              "std      0.005618    \n",
              "min      0.000000    \n",
              "25%      0.000003    \n",
              "50%      0.000010    \n",
              "75%      0.000032    \n",
              "max      1.000000    \n",
              "Name: valor_norm, dtype: float64"
            ]
          },
          "metadata": {
            "tags": []
          },
          "execution_count": 27
        }
      ]
    },
    {
      "cell_type": "code",
      "metadata": {
        "id": "GEWUMLsd4IvH",
        "colab_type": "code",
        "outputId": "befb1f08-3a12-4c6b-e633-d034c6e126ee",
        "colab": {
          "base_uri": "https://localhost:8080/",
          "height": 283
        }
      },
      "source": [
        "# Discretizando com 2 intervalos iguais\n",
        "convenios['valor_dist'] = pd.cut(convenios['VALOR CONVÊNIO'],2)\n",
        "\n",
        "counts = convenios['valor_dist'].value_counts()\n",
        "counts.plot.bar(rot=0)"
      ],
      "execution_count": 28,
      "outputs": [
        {
          "output_type": "execute_result",
          "data": {
            "text/plain": [
              "<matplotlib.axes._subplots.AxesSubplot at 0x7f95ebf23a90>"
            ]
          },
          "metadata": {
            "tags": []
          },
          "execution_count": 28
        },
        {
          "output_type": "display_data",
          "data": {
            "image/png": "[encoded data removed]",
            "text/plain": [
              "<Figure size 432x288 with 1 Axes>"
            ]
          },
          "metadata": {
            "tags": []
          }
        }
      ]
    },
    {
      "cell_type": "code",
      "metadata": {
        "id": "wEJNqJLJ3RLW",
        "colab_type": "code",
        "outputId": "8c37e6c8-09f4-49ee-fb5d-58436fa20134",
        "colab": {
          "base_uri": "https://localhost:8080/",
          "height": 283
        }
      },
      "source": [
        "# Discretizando com números de elementos iguais\n",
        "convenios['valor_dist'] = pd.qcut(convenios['VALOR CONVÊNIO'],5)\n",
        "convenios['valor_dist'].value_counts()\n",
        "counts = convenios['valor_dist'].value_counts()\n",
        "counts.plot.bar(rot=0)"
      ],
      "execution_count": 29,
      "outputs": [
        {
          "output_type": "execute_result",
          "data": {
            "text/plain": [
              "<matplotlib.axes._subplots.AxesSubplot at 0x7f95eaa25b70>"
            ]
          },
          "metadata": {
            "tags": []
          },
          "execution_count": 29
        },
        {
          "output_type": "display_data",
          "data": {
            "image/png": "[encoded data removed]",
            "text/plain": [
              "<Figure size 432x288 with 1 Axes>"
            ]
          },
          "metadata": {
            "tags": []
          }
        }
      ]
    },
    {
      "cell_type": "markdown",
      "metadata": {
        "id": "kSN03GUvq7G1",
        "colab_type": "text"
      },
      "source": [
        "## Removendo Outliers\n"
      ]
    },
    {
      "cell_type": "code",
      "metadata": {
        "id": "aq76N3_r8277",
        "colab_type": "code",
        "outputId": "e8e5e603-04a1-41c1-849a-684d436a1f5e",
        "colab": {
          "base_uri": "https://localhost:8080/",
          "height": 179
        }
      },
      "source": [
        "convenios['VALOR CONVÊNIO'].describe()"
      ],
      "execution_count": 30,
      "outputs": [
        {
          "output_type": "execute_result",
          "data": {
            "text/plain": [
              "count    3.962600e+04\n",
              "mean     6.401516e+05\n",
              "std      2.033603e+07\n",
              "min      1.000000e-02\n",
              "25%      1.000000e+04\n",
              "50%      3.563600e+04\n",
              "75%      1.143427e+05\n",
              "max      3.620084e+09\n",
              "Name: VALOR CONVÊNIO, dtype: float64"
            ]
          },
          "metadata": {
            "tags": []
          },
          "execution_count": 30
        }
      ]
    },
    {
      "cell_type": "code",
      "metadata": {
        "id": "8ap2NdQt9MrG",
        "colab_type": "code",
        "outputId": "95faba02-1a9d-4d15-943f-4395e6f96905",
        "colab": {
          "base_uri": "https://localhost:8080/",
          "height": 294
        }
      },
      "source": [
        "convenios['VALOR CONVÊNIO'].plot.box()"
      ],
      "execution_count": 31,
      "outputs": [
        {
          "output_type": "execute_result",
          "data": {
            "text/plain": [
              "<matplotlib.axes._subplots.AxesSubplot at 0x7f95ea99c9b0>"
            ]
          },
          "metadata": {
            "tags": []
          },
          "execution_count": 31
        },
        {
          "output_type": "display_data",
          "data": {
            "image/png": "[encoded data removed]",
            "text/plain": [
              "<Figure size 432x288 with 1 Axes>"
            ]
          },
          "metadata": {
            "tags": []
          }
        }
      ]
    },
    {
      "cell_type": "code",
      "metadata": {
        "id": "cNbAClNV9T0X",
        "colab_type": "code",
        "outputId": "317451ec-9882-4601-ecd2-75933b8a81e1",
        "colab": {
          "base_uri": "https://localhost:8080/",
          "height": 283
        }
      },
      "source": [
        "(convenios['VALOR CONVÊNIO']/1000).hist()"
      ],
      "execution_count": 32,
      "outputs": [
        {
          "output_type": "execute_result",
          "data": {
            "text/plain": [
              "<matplotlib.axes._subplots.AxesSubplot at 0x7f95ea91aeb8>"
            ]
          },
          "metadata": {
            "tags": []
          },
          "execution_count": 32
        },
        {
          "output_type": "display_data",
          "data": {
            "image/png": "[encoded data removed]",
            "text/plain": [
              "<Figure size 432x288 with 1 Axes>"
            ]
          },
          "metadata": {
            "tags": []
          }
        }
      ]
    },
    {
      "cell_type": "code",
      "metadata": {
        "id": "yB2-fxbF9hkL",
        "colab_type": "code",
        "outputId": "16ed3a62-0499-4979-fbd8-16cc744e06b8",
        "colab": {
          "base_uri": "https://localhost:8080/",
          "height": 283
        }
      },
      "source": [
        "convenios['log_valor'] = convenios['VALOR CONVÊNIO'].apply(np.log10)\n",
        "convenios[convenios['log_valor'] > 0]['log_valor'].hist()"
      ],
      "execution_count": 33,
      "outputs": [
        {
          "output_type": "execute_result",
          "data": {
            "text/plain": [
              "<matplotlib.axes._subplots.AxesSubplot at 0x7f95ea9a31d0>"
            ]
          },
          "metadata": {
            "tags": []
          },
          "execution_count": 33
        },
        {
          "output_type": "display_data",
          "data": {
            "image/png": "[encoded data removed]",
            "text/plain": [
              "<Figure size 432x288 with 1 Axes>"
            ]
          },
          "metadata": {
            "tags": []
          }
        }
      ]
    },
    {
      "cell_type": "code",
      "metadata": {
        "id": "ILL1hwpE90ve",
        "colab_type": "code",
        "outputId": "bb6550e7-07f5-4c0a-eebc-d4c0ef5a1c11",
        "colab": {
          "base_uri": "https://localhost:8080/",
          "height": 35
        }
      },
      "source": [
        "# Utilizando z-score robusto (univariado)\n",
        "from numpy import abs\n",
        "mad = abs(convenios['log_valor'] - convenios['log_valor'].median()).median()*(1/0.6745)\n",
        "print(mad)"
      ],
      "execution_count": 34,
      "outputs": [
        {
          "output_type": "stream",
          "text": [
            "0.7868044587387971\n"
          ],
          "name": "stdout"
        }
      ]
    },
    {
      "cell_type": "code",
      "metadata": {
        "id": "MJEpF1vQ-fJh",
        "colab_type": "code",
        "outputId": "4d4dd5e5-cc58-4120-8a88-6bf0e4692336",
        "colab": {
          "base_uri": "https://localhost:8080/",
          "height": 35
        }
      },
      "source": [
        "conveniosLimpos = convenios[abs(convenios['log_valor']-convenios['log_valor'].median())/mad < 3.5]\n",
        "print(len(conveniosLimpos))"
      ],
      "execution_count": 35,
      "outputs": [
        {
          "output_type": "stream",
          "text": [
            "39472\n"
          ],
          "name": "stdout"
        }
      ]
    },
    {
      "cell_type": "code",
      "metadata": {
        "id": "YWQBBb3N5PNU",
        "colab_type": "code",
        "outputId": "35b5c3f7-8e36-482e-8e36-1cc2d7d6adc9",
        "colab": {
          "base_uri": "https://localhost:8080/",
          "height": 35
        }
      },
      "source": [
        "# Utilizando Tukey (univariado)\n",
        "q1 = convenios['log_valor'].quantile(q=0.25)\n",
        "q3 = convenios['log_valor'].quantile(q=0.75)\n",
        "iqr = q3 - q1\n",
        "print(iqr)\n"
      ],
      "execution_count": 36,
      "outputs": [
        {
          "output_type": "stream",
          "text": [
            "1.0582083859966733\n"
          ],
          "name": "stdout"
        }
      ]
    },
    {
      "cell_type": "code",
      "metadata": {
        "id": "K6TsxXfnCE0B",
        "colab_type": "code",
        "outputId": "18d6fc53-efde-4c3a-d7f1-e878ad20aeb3",
        "colab": {
          "base_uri": "https://localhost:8080/",
          "height": 35
        }
      },
      "source": [
        "conveniosLimposTukey = convenios[(convenios['log_valor'] > (q1-1.5*iqr)) & (convenios['log_valor'] < (q3+1.5*iqr))]\n",
        "len(conveniosLimposTukey)"
      ],
      "execution_count": 37,
      "outputs": [
        {
          "output_type": "execute_result",
          "data": {
            "text/plain": [
              "39011"
            ]
          },
          "metadata": {
            "tags": []
          },
          "execution_count": 37
        }
      ]
    },
    {
      "cell_type": "markdown",
      "metadata": {
        "id": "fPSXivtijlRq",
        "colab_type": "text"
      },
      "source": [
        "## Visualização dos dados\n",
        "\n"
      ]
    },
    {
      "cell_type": "code",
      "metadata": {
        "id": "AV__Mbtof_R_",
        "colab_type": "code",
        "outputId": "29a81024-71b7-44bf-f5ee-a27a8cdfc1e4",
        "colab": {
          "base_uri": "https://localhost:8080/",
          "height": 145
        }
      },
      "source": [
        "import matplotlib.pyplot as plt\n",
        "%matplotlib inline\n",
        "#Imprimindo um mapa de calor usando a correlação de Spearman\n",
        "convenios.corr(method='spearman').style.format(\"{:.2}\").background_gradient(cmap=plt.get_cmap('coolwarm'), axis=1)"
      ],
      "execution_count": 38,
      "outputs": [
        {
          "output_type": "execute_result",
          "data": {
            "text/html": [
              "<style  type=\"text/css\" >\n",
              "    #T_87bb59b6_2050_11ea_a9d0_0242ac1c0002row0_col0 {\n",
              "            background-color:  #b40426;\n",
              "            color:  #f1f1f1;\n",
              "        }    #T_87bb59b6_2050_11ea_a9d0_0242ac1c0002row0_col1 {\n",
              "            background-color:  #f6bea4;\n",
              "            color:  #000000;\n",
              "        }    #T_87bb59b6_2050_11ea_a9d0_0242ac1c0002row0_col2 {\n",
              "            background-color:  #3b4cc0;\n",
              "            color:  #f1f1f1;\n",
              "        }    #T_87bb59b6_2050_11ea_a9d0_0242ac1c0002row0_col3 {\n",
              "            background-color:  #b40426;\n",
              "            color:  #f1f1f1;\n",
              "        }    #T_87bb59b6_2050_11ea_a9d0_0242ac1c0002row0_col4 {\n",
              "            background-color:  #b40426;\n",
              "            color:  #f1f1f1;\n",
              "        }    #T_87bb59b6_2050_11ea_a9d0_0242ac1c0002row1_col0 {\n",
              "            background-color:  #f7ad90;\n",
              "            color:  #000000;\n",
              "        }    #T_87bb59b6_2050_11ea_a9d0_0242ac1c0002row1_col1 {\n",
              "            background-color:  #b40426;\n",
              "            color:  #f1f1f1;\n",
              "        }    #T_87bb59b6_2050_11ea_a9d0_0242ac1c0002row1_col2 {\n",
              "            background-color:  #3b4cc0;\n",
              "            color:  #f1f1f1;\n",
              "        }    #T_87bb59b6_2050_11ea_a9d0_0242ac1c0002row1_col3 {\n",
              "            background-color:  #f7ad90;\n",
              "            color:  #000000;\n",
              "        }    #T_87bb59b6_2050_11ea_a9d0_0242ac1c0002row1_col4 {\n",
              "            background-color:  #f7ad90;\n",
              "            color:  #000000;\n",
              "        }    #T_87bb59b6_2050_11ea_a9d0_0242ac1c0002row2_col0 {\n",
              "            background-color:  #6687ed;\n",
              "            color:  #000000;\n",
              "        }    #T_87bb59b6_2050_11ea_a9d0_0242ac1c0002row2_col1 {\n",
              "            background-color:  #3b4cc0;\n",
              "            color:  #f1f1f1;\n",
              "        }    #T_87bb59b6_2050_11ea_a9d0_0242ac1c0002row2_col2 {\n",
              "            background-color:  #b40426;\n",
              "            color:  #f1f1f1;\n",
              "        }    #T_87bb59b6_2050_11ea_a9d0_0242ac1c0002row2_col3 {\n",
              "            background-color:  #6687ed;\n",
              "            color:  #000000;\n",
              "        }    #T_87bb59b6_2050_11ea_a9d0_0242ac1c0002row2_col4 {\n",
              "            background-color:  #6687ed;\n",
              "            color:  #000000;\n",
              "        }    #T_87bb59b6_2050_11ea_a9d0_0242ac1c0002row3_col0 {\n",
              "            background-color:  #b40426;\n",
              "            color:  #f1f1f1;\n",
              "        }    #T_87bb59b6_2050_11ea_a9d0_0242ac1c0002row3_col1 {\n",
              "            background-color:  #f6bea4;\n",
              "            color:  #000000;\n",
              "        }    #T_87bb59b6_2050_11ea_a9d0_0242ac1c0002row3_col2 {\n",
              "            background-color:  #3b4cc0;\n",
              "            color:  #f1f1f1;\n",
              "        }    #T_87bb59b6_2050_11ea_a9d0_0242ac1c0002row3_col3 {\n",
              "            background-color:  #b40426;\n",
              "            color:  #f1f1f1;\n",
              "        }    #T_87bb59b6_2050_11ea_a9d0_0242ac1c0002row3_col4 {\n",
              "            background-color:  #b40426;\n",
              "            color:  #f1f1f1;\n",
              "        }    #T_87bb59b6_2050_11ea_a9d0_0242ac1c0002row4_col0 {\n",
              "            background-color:  #b40426;\n",
              "            color:  #f1f1f1;\n",
              "        }    #T_87bb59b6_2050_11ea_a9d0_0242ac1c0002row4_col1 {\n",
              "            background-color:  #f6bea4;\n",
              "            color:  #000000;\n",
              "        }    #T_87bb59b6_2050_11ea_a9d0_0242ac1c0002row4_col2 {\n",
              "            background-color:  #3b4cc0;\n",
              "            color:  #f1f1f1;\n",
              "        }    #T_87bb59b6_2050_11ea_a9d0_0242ac1c0002row4_col3 {\n",
              "            background-color:  #b40426;\n",
              "            color:  #f1f1f1;\n",
              "        }    #T_87bb59b6_2050_11ea_a9d0_0242ac1c0002row4_col4 {\n",
              "            background-color:  #b40426;\n",
              "            color:  #f1f1f1;\n",
              "        }</style><table id=\"T_87bb59b6_2050_11ea_a9d0_0242ac1c0002\" ><thead>    <tr>        <th class=\"blank level0\" ></th>        <th class=\"col_heading level0 col0\" >VALOR CONVÊNIO</th>        <th class=\"col_heading level0 col1\" >VALOR LIBERADO</th>        <th class=\"col_heading level0 col2\" >VALOR CONTRAPARTIDA</th>        <th class=\"col_heading level0 col3\" >valor_norm</th>        <th class=\"col_heading level0 col4\" >log_valor</th>    </tr></thead><tbody>\n",
              "                <tr>\n",
              "                        <th id=\"T_87bb59b6_2050_11ea_a9d0_0242ac1c0002level0_row0\" class=\"row_heading level0 row0\" >VALOR CONVÊNIO</th>\n",
              "                        <td id=\"T_87bb59b6_2050_11ea_a9d0_0242ac1c0002row0_col0\" class=\"data row0 col0\" >1.0</td>\n",
              "                        <td id=\"T_87bb59b6_2050_11ea_a9d0_0242ac1c0002row0_col1\" class=\"data row0 col1\" >0.83</td>\n",
              "                        <td id=\"T_87bb59b6_2050_11ea_a9d0_0242ac1c0002row0_col2\" class=\"data row0 col2\" >0.51</td>\n",
              "                        <td id=\"T_87bb59b6_2050_11ea_a9d0_0242ac1c0002row0_col3\" class=\"data row0 col3\" >1.0</td>\n",
              "                        <td id=\"T_87bb59b6_2050_11ea_a9d0_0242ac1c0002row0_col4\" class=\"data row0 col4\" >1.0</td>\n",
              "            </tr>\n",
              "            <tr>\n",
              "                        <th id=\"T_87bb59b6_2050_11ea_a9d0_0242ac1c0002level0_row1\" class=\"row_heading level0 row1\" >VALOR LIBERADO</th>\n",
              "                        <td id=\"T_87bb59b6_2050_11ea_a9d0_0242ac1c0002row1_col0\" class=\"data row1 col0\" >0.83</td>\n",
              "                        <td id=\"T_87bb59b6_2050_11ea_a9d0_0242ac1c0002row1_col1\" class=\"data row1 col1\" >1.0</td>\n",
              "                        <td id=\"T_87bb59b6_2050_11ea_a9d0_0242ac1c0002row1_col2\" class=\"data row1 col2\" >0.43</td>\n",
              "                        <td id=\"T_87bb59b6_2050_11ea_a9d0_0242ac1c0002row1_col3\" class=\"data row1 col3\" >0.83</td>\n",
              "                        <td id=\"T_87bb59b6_2050_11ea_a9d0_0242ac1c0002row1_col4\" class=\"data row1 col4\" >0.83</td>\n",
              "            </tr>\n",
              "            <tr>\n",
              "                        <th id=\"T_87bb59b6_2050_11ea_a9d0_0242ac1c0002level0_row2\" class=\"row_heading level0 row2\" >VALOR CONTRAPARTIDA</th>\n",
              "                        <td id=\"T_87bb59b6_2050_11ea_a9d0_0242ac1c0002row2_col0\" class=\"data row2 col0\" >0.51</td>\n",
              "                        <td id=\"T_87bb59b6_2050_11ea_a9d0_0242ac1c0002row2_col1\" class=\"data row2 col1\" >0.43</td>\n",
              "                        <td id=\"T_87bb59b6_2050_11ea_a9d0_0242ac1c0002row2_col2\" class=\"data row2 col2\" >1.0</td>\n",
              "                        <td id=\"T_87bb59b6_2050_11ea_a9d0_0242ac1c0002row2_col3\" class=\"data row2 col3\" >0.51</td>\n",
              "                        <td id=\"T_87bb59b6_2050_11ea_a9d0_0242ac1c0002row2_col4\" class=\"data row2 col4\" >0.51</td>\n",
              "            </tr>\n",
              "            <tr>\n",
              "                        <th id=\"T_87bb59b6_2050_11ea_a9d0_0242ac1c0002level0_row3\" class=\"row_heading level0 row3\" >valor_norm</th>\n",
              "                        <td id=\"T_87bb59b6_2050_11ea_a9d0_0242ac1c0002row3_col0\" class=\"data row3 col0\" >1.0</td>\n",
              "                        <td id=\"T_87bb59b6_2050_11ea_a9d0_0242ac1c0002row3_col1\" class=\"data row3 col1\" >0.83</td>\n",
              "                        <td id=\"T_87bb59b6_2050_11ea_a9d0_0242ac1c0002row3_col2\" class=\"data row3 col2\" >0.51</td>\n",
              "                        <td id=\"T_87bb59b6_2050_11ea_a9d0_0242ac1c0002row3_col3\" class=\"data row3 col3\" >1.0</td>\n",
              "                        <td id=\"T_87bb59b6_2050_11ea_a9d0_0242ac1c0002row3_col4\" class=\"data row3 col4\" >1.0</td>\n",
              "            </tr>\n",
              "            <tr>\n",
              "                        <th id=\"T_87bb59b6_2050_11ea_a9d0_0242ac1c0002level0_row4\" class=\"row_heading level0 row4\" >log_valor</th>\n",
              "                        <td id=\"T_87bb59b6_2050_11ea_a9d0_0242ac1c0002row4_col0\" class=\"data row4 col0\" >1.0</td>\n",
              "                        <td id=\"T_87bb59b6_2050_11ea_a9d0_0242ac1c0002row4_col1\" class=\"data row4 col1\" >0.83</td>\n",
              "                        <td id=\"T_87bb59b6_2050_11ea_a9d0_0242ac1c0002row4_col2\" class=\"data row4 col2\" >0.51</td>\n",
              "                        <td id=\"T_87bb59b6_2050_11ea_a9d0_0242ac1c0002row4_col3\" class=\"data row4 col3\" >1.0</td>\n",
              "                        <td id=\"T_87bb59b6_2050_11ea_a9d0_0242ac1c0002row4_col4\" class=\"data row4 col4\" >1.0</td>\n",
              "            </tr>\n",
              "    </tbody></table>"
            ],
            "text/plain": [
              "<pandas.io.formats.style.Styler at 0x7f95ebf239e8>"
            ]
          },
          "metadata": {
            "tags": []
          },
          "execution_count": 38
        }
      ]
    },
    {
      "cell_type": "code",
      "metadata": {
        "id": "rg9ccltPKDAu",
        "colab_type": "code",
        "outputId": "989486f0-9429-4972-de5b-5bf3db1f9c3e",
        "colab": {
          "base_uri": "https://localhost:8080/",
          "height": 308
        }
      },
      "source": [
        "convenios.plot.scatter(x='VALOR CONVÊNIO', y='VALOR LIBERADO')"
      ],
      "execution_count": 39,
      "outputs": [
        {
          "output_type": "execute_result",
          "data": {
            "text/plain": [
              "<matplotlib.axes._subplots.AxesSubplot at 0x7f95ea264940>"
            ]
          },
          "metadata": {
            "tags": []
          },
          "execution_count": 39
        },
        {
          "output_type": "display_data",
          "data": {
            "image/png": "[encoded data removed]",
            "text/plain": [
              "<Figure size 432x288 with 1 Axes>"
            ]
          },
          "metadata": {
            "tags": []
          }
        }
      ]
    },
    {
      "cell_type": "code",
      "metadata": {
        "id": "jJc6kf059iin",
        "colab_type": "code",
        "outputId": "d8e70158-fd49-4944-d3e8-2be59039da64",
        "colab": {
          "base_uri": "https://localhost:8080/",
          "height": 294
        }
      },
      "source": [
        "convenios.boxplot(column=['VALOR CONVÊNIO'])"
      ],
      "execution_count": 40,
      "outputs": [
        {
          "output_type": "execute_result",
          "data": {
            "text/plain": [
              "<matplotlib.axes._subplots.AxesSubplot at 0x7f95ea222358>"
            ]
          },
          "metadata": {
            "tags": []
          },
          "execution_count": 40
        },
        {
          "output_type": "display_data",
          "data": {
            "image/png": "[encoded data removed]",
            "text/plain": [
              "<Figure size 432x288 with 1 Axes>"
            ]
          },
          "metadata": {
            "tags": []
          }
        }
      ]
    },
    {
      "cell_type": "code",
      "metadata": {
        "id": "oRaMdHjkQ2mM",
        "colab_type": "code",
        "outputId": "9221ff39-6f2a-47f3-d0a5-a31e64561901",
        "colab": {
          "base_uri": "https://localhost:8080/",
          "height": 294
        }
      },
      "source": [
        "# Gráfico removendo os outliers com método de Z-Score Robusto\n",
        "conveniosLimpos.boxplot(column=['VALOR CONVÊNIO'])"
      ],
      "execution_count": 41,
      "outputs": [
        {
          "output_type": "execute_result",
          "data": {
            "text/plain": [
              "<matplotlib.axes._subplots.AxesSubplot at 0x7f95e7954860>"
            ]
          },
          "metadata": {
            "tags": []
          },
          "execution_count": 41
        },
        {
          "output_type": "display_data",
          "data": {
            "image/png": "[encoded data removed]",
            "text/plain": [
              "<Figure size 432x288 with 1 Axes>"
            ]
          },
          "metadata": {
            "tags": []
          }
        }
      ]
    },
    {
      "cell_type": "code",
      "metadata": {
        "id": "RzDyevnzFruC",
        "colab_type": "code",
        "outputId": "e7e87fe6-8766-4427-fa5e-0e7cdccf38b4",
        "colab": {
          "base_uri": "https://localhost:8080/",
          "height": 283
        }
      },
      "source": [
        "# Gráfico removendo os outliers com método de Tukey\n",
        "conveniosLimposTukey.boxplot(column=['VALOR CONVÊNIO'])"
      ],
      "execution_count": 42,
      "outputs": [
        {
          "output_type": "execute_result",
          "data": {
            "text/plain": [
              "<matplotlib.axes._subplots.AxesSubplot at 0x7f95e7935438>"
            ]
          },
          "metadata": {
            "tags": []
          },
          "execution_count": 42
        },
        {
          "output_type": "display_data",
          "data": {
            "image/png": "[encoded data removed]",
            "text/plain": [
              "<Figure size 432x288 with 1 Axes>"
            ]
          },
          "metadata": {
            "tags": []
          }
        }
      ]
    },
    {
      "cell_type": "code",
      "metadata": {
        "id": "fS7choGLHXoB",
        "colab_type": "code",
        "outputId": "93a0d0dd-0188-4669-d7ac-c4ed1b62a0e7",
        "colab": {
          "base_uri": "https://localhost:8080/",
          "height": 641
        }
      },
      "source": [
        "# Verificado o valor alocado aos convênios por cada UF\n",
        "convenios.groupby(['UF'])['VALOR CONVÊNIO'].sum().sort_values(ascending=False).plot.bar(figsize=(20,10))"
      ],
      "execution_count": 43,
      "outputs": [
        {
          "output_type": "execute_result",
          "data": {
            "text/plain": [
              "<matplotlib.axes._subplots.AxesSubplot at 0x7f95e78a9128>"
            ]
          },
          "metadata": {
            "tags": []
          },
          "execution_count": 43
        },
        {
          "output_type": "display_data",
          "data": {
            "image/png": "[encoded data removed]",
            "text/plain": [
              "<Figure size 1440x720 with 1 Axes>"
            ]
          },
          "metadata": {
            "tags": []
          }
        }
      ]
    },
    {
      "cell_type": "code",
      "metadata": {
        "id": "1m6geTkbFH71",
        "colab_type": "code",
        "outputId": "58e7c805-d929-45bc-cf2a-5a02f241247c",
        "colab": {
          "base_uri": "https://localhost:8080/",
          "height": 641
        }
      },
      "source": [
        "# Verificado o valor alocado aos convênios por cada UF, gráfico removendo os outliers com método de Z-Score Robusto\n",
        "conveniosLimpos.groupby(['UF'])['VALOR CONVÊNIO'].sum().sort_values(ascending=False).plot.bar(figsize=(20,10))"
      ],
      "execution_count": 44,
      "outputs": [
        {
          "output_type": "execute_result",
          "data": {
            "text/plain": [
              "<matplotlib.axes._subplots.AxesSubplot at 0x7f95e78a9dd8>"
            ]
          },
          "metadata": {
            "tags": []
          },
          "execution_count": 44
        },
        {
          "output_type": "display_data",
          "data": {
            "image/png": "[encoded data removed]",
            "text/plain": [
              "<Figure size 1440x720 with 1 Axes>"
            ]
          },
          "metadata": {
            "tags": []
          }
        }
      ]
    },
    {
      "cell_type": "code",
      "metadata": {
        "id": "e-DY0oS0eSdd",
        "colab_type": "code",
        "outputId": "389eb775-50e8-4417-cb2b-1b195d4c2d65",
        "colab": {
          "base_uri": "https://localhost:8080/",
          "height": 641
        }
      },
      "source": [
        "# Verificado o valor alocado aos convênios por cada UF, gráfico removendo os outliers com método de Tukey\n",
        "conveniosLimposTukey.groupby(['UF'])['VALOR CONVÊNIO'].sum().sort_values(ascending=False).plot.bar(figsize=(20,10))"
      ],
      "execution_count": 45,
      "outputs": [
        {
          "output_type": "execute_result",
          "data": {
            "text/plain": [
              "<matplotlib.axes._subplots.AxesSubplot at 0x7f95e7837cc0>"
            ]
          },
          "metadata": {
            "tags": []
          },
          "execution_count": 45
        },
        {
          "output_type": "display_data",
          "data": {
            "image/png": "[encoded data removed]",
            "text/plain": [
              "<Figure size 1440x720 with 1 Axes>"
            ]
          },
          "metadata": {
            "tags": []
          }
        }
      ]
    },
    {
      "cell_type": "markdown",
      "metadata": {
        "id": "UHgzRWKrUiD7",
        "colab_type": "text"
      },
      "source": [
        "**Análise dos gráficos:** para o recorte de dados analisados, verificou-se que há uma concentração de recursos de convênios em determinados estados brasileiros. Tal constatação pode ser observada ao analisar os dados sem eliminar outliers e também manteve-se quando eles foram retirados."
      ]
    },
    {
      "cell_type": "code",
      "metadata": {
        "id": "YTDEw3TRIqrH",
        "colab_type": "code",
        "outputId": "23ce4200-afaf-4af8-a43e-5a976032a3ad",
        "colab": {
          "base_uri": "https://localhost:8080/",
          "height": 630
        }
      },
      "source": [
        "# Comparando o percentual de valores dos convênios já liberados para verificar se é proporcional entre os estados brasileiros\n",
        "convenios['PERCENTUAL LIBERADO'] = (convenios['VALOR LIBERADO']/convenios['VALOR CONVÊNIO'])\n",
        "convenios.groupby(['UF'])['PERCENTUAL LIBERADO'].mean().sort_values(ascending=False).plot.bar(figsize=(20,10))"
      ],
      "execution_count": 46,
      "outputs": [
        {
          "output_type": "execute_result",
          "data": {
            "text/plain": [
              "<matplotlib.axes._subplots.AxesSubplot at 0x7f95e762dba8>"
            ]
          },
          "metadata": {
            "tags": []
          },
          "execution_count": 46
        },
        {
          "output_type": "display_data",
          "data": {
            "image/png": "[encoded data removed]",
            "text/plain": [
              "<Figure size 1440x720 with 1 Axes>"
            ]
          },
          "metadata": {
            "tags": []
          }
        }
      ]
    },
    {
      "cell_type": "code",
      "metadata": {
        "id": "QfKWZ6CUMZM6",
        "colab_type": "code",
        "outputId": "018499a7-6714-416d-e913-123b79068d2a",
        "colab": {
          "base_uri": "https://localhost:8080/",
          "height": 496
        }
      },
      "source": [
        "# Percebeu-se que há registros cujo VALOR LIBERADO é imensamente maior que o VALOR CONVÊNIO, apontando para distorções nos dados\n",
        "convenios.sort_values('PERCENTUAL LIBERADO', ascending=False).head(5)"
      ],
      "execution_count": 47,
      "outputs": [
        {
          "output_type": "execute_result",
          "data": {
            "text/html": [
              "<div>\n",
              "<style scoped>\n",
              "    .dataframe tbody tr th:only-of-type {\n",
              "        vertical-align: middle;\n",
              "    }\n",
              "\n",
              "    .dataframe tbody tr th {\n",
              "        vertical-align: top;\n",
              "    }\n",
              "\n",
              "    .dataframe thead th {\n",
              "        text-align: right;\n",
              "    }\n",
              "</style>\n",
              "<table border=\"1\" class=\"dataframe\">\n",
              "  <thead>\n",
              "    <tr style=\"text-align: right;\">\n",
              "      <th></th>\n",
              "      <th>UF</th>\n",
              "      <th>NOME MUNICÍPIO</th>\n",
              "      <th>SITUAÇÃO CONVÊNIO</th>\n",
              "      <th>NOME ÓRGÃO SUPERIOR</th>\n",
              "      <th>NOME ÓRGÃO CONCEDENTE</th>\n",
              "      <th>TIPO CONVENENTE</th>\n",
              "      <th>NOME CONVENENTE</th>\n",
              "      <th>TIPO ENTE CONVENENTE</th>\n",
              "      <th>VALOR CONVÊNIO</th>\n",
              "      <th>VALOR LIBERADO</th>\n",
              "      <th>DATA INÍCIO VIGÊNCIA</th>\n",
              "      <th>DATA FINAL VIGÊNCIA</th>\n",
              "      <th>VALOR CONTRAPARTIDA</th>\n",
              "      <th>valor_norm</th>\n",
              "      <th>valor_dist</th>\n",
              "      <th>log_valor</th>\n",
              "      <th>PERCENTUAL LIBERADO</th>\n",
              "    </tr>\n",
              "  </thead>\n",
              "  <tbody>\n",
              "    <tr>\n",
              "      <th>21935</th>\n",
              "      <td>PA</td>\n",
              "      <td>BRAGANCA</td>\n",
              "      <td>CONCLUÍDO</td>\n",
              "      <td>Ministério da Saúde</td>\n",
              "      <td>Fundação Nacional de Saúde</td>\n",
              "      <td>Administração Pública Municipal</td>\n",
              "      <td>MUNICIPIO DE BRAGANCA</td>\n",
              "      <td>Municipal</td>\n",
              "      <td>1.0</td>\n",
              "      <td>71261.88</td>\n",
              "      <td>14/07/1997</td>\n",
              "      <td>14/08/1998</td>\n",
              "      <td>12960.0</td>\n",
              "      <td>2.734743e-10</td>\n",
              "      <td>(0.009000000000000001, 7900.0]</td>\n",
              "      <td>0.000000</td>\n",
              "      <td>71261.880000</td>\n",
              "    </tr>\n",
              "    <tr>\n",
              "      <th>12954</th>\n",
              "      <td>MG</td>\n",
              "      <td>JUIZ DE FORA</td>\n",
              "      <td>CONCLUÍDO</td>\n",
              "      <td>Ministério da Educação</td>\n",
              "      <td>Fundo Nacional de Desenvolvimento da Educação</td>\n",
              "      <td>Agentes Intermediários</td>\n",
              "      <td>UNIVERSIDADE FEDERAL DE JUIZ DE FORA</td>\n",
              "      <td>Municipal</td>\n",
              "      <td>76.0</td>\n",
              "      <td>68506.00</td>\n",
              "      <td>12/08/1996</td>\n",
              "      <td>07/03/1997</td>\n",
              "      <td>0.0</td>\n",
              "      <td>2.099123e-08</td>\n",
              "      <td>(0.009000000000000001, 7900.0]</td>\n",
              "      <td>1.880814</td>\n",
              "      <td>901.394737</td>\n",
              "    </tr>\n",
              "    <tr>\n",
              "      <th>7448</th>\n",
              "      <td>AM</td>\n",
              "      <td>CAAPIRANGA</td>\n",
              "      <td>CONCLUÍDO</td>\n",
              "      <td>Ministério da Educação</td>\n",
              "      <td>Fundo Nacional de Desenvolvimento da Educação</td>\n",
              "      <td>Administração Pública Municipal</td>\n",
              "      <td>MUNICIPIO DE CAAPIRANGA</td>\n",
              "      <td>Municipal</td>\n",
              "      <td>2716.0</td>\n",
              "      <td>54757.00</td>\n",
              "      <td>26/06/1996</td>\n",
              "      <td>28/02/1999</td>\n",
              "      <td>7455.0</td>\n",
              "      <td>7.502561e-07</td>\n",
              "      <td>(0.009000000000000001, 7900.0]</td>\n",
              "      <td>3.433930</td>\n",
              "      <td>20.160898</td>\n",
              "    </tr>\n",
              "    <tr>\n",
              "      <th>31397</th>\n",
              "      <td>SP</td>\n",
              "      <td>JULIO MESQUITA</td>\n",
              "      <td>CONCLUÍDO</td>\n",
              "      <td>Ministério da Educação</td>\n",
              "      <td>Fundo Nacional de Desenvolvimento da Educação</td>\n",
              "      <td>Administração Pública Municipal</td>\n",
              "      <td>MUNICIPIO DE JULIO MESQUITA</td>\n",
              "      <td>Municipal</td>\n",
              "      <td>3216.0</td>\n",
              "      <td>29212.00</td>\n",
              "      <td>01/10/1997</td>\n",
              "      <td>28/02/1999</td>\n",
              "      <td>0.0</td>\n",
              "      <td>8.883744e-07</td>\n",
              "      <td>(0.009000000000000001, 7900.0]</td>\n",
              "      <td>3.507316</td>\n",
              "      <td>9.083333</td>\n",
              "    </tr>\n",
              "    <tr>\n",
              "      <th>31198</th>\n",
              "      <td>MA</td>\n",
              "      <td>LAJEADO NOVO</td>\n",
              "      <td>CONCLUÍDO</td>\n",
              "      <td>Ministério da Educação</td>\n",
              "      <td>Fundo Nacional de Desenvolvimento da Educação</td>\n",
              "      <td>Administração Pública Municipal</td>\n",
              "      <td>MUNICIPIO DE LAJEADO NOVO</td>\n",
              "      <td>Municipal</td>\n",
              "      <td>6389.0</td>\n",
              "      <td>51824.00</td>\n",
              "      <td>01/10/1997</td>\n",
              "      <td>28/02/1999</td>\n",
              "      <td>0.0</td>\n",
              "      <td>1.764873e-06</td>\n",
              "      <td>(0.009000000000000001, 7900.0]</td>\n",
              "      <td>3.805433</td>\n",
              "      <td>8.111442</td>\n",
              "    </tr>\n",
              "  </tbody>\n",
              "</table>\n",
              "</div>"
            ],
            "text/plain": [
              "       UF  NOME MUNICÍPIO  ... log_valor PERCENTUAL LIBERADO\n",
              "21935  PA  BRAGANCA        ...  0.000000  71261.880000      \n",
              "12954  MG  JUIZ DE FORA    ...  1.880814  901.394737        \n",
              "7448   AM  CAAPIRANGA      ...  3.433930  20.160898         \n",
              "31397  SP  JULIO MESQUITA  ...  3.507316  9.083333          \n",
              "31198  MA  LAJEADO NOVO    ...  3.805433  8.111442          \n",
              "\n",
              "[5 rows x 17 columns]"
            ]
          },
          "metadata": {
            "tags": []
          },
          "execution_count": 47
        }
      ]
    },
    {
      "cell_type": "code",
      "metadata": {
        "id": "P-QBgudRKx4A",
        "colab_type": "code",
        "outputId": "ceb162a4-2b42-4cb5-8cbc-4ecfbfa726ed",
        "colab": {
          "base_uri": "https://localhost:8080/",
          "height": 35
        }
      },
      "source": [
        "# Assim, eliminou-se valores cujo VALOR LIBERADO é maior que VALOR CONVÊNIO, para melhor analisar o gráfico sem estas distorções\n",
        "conveniosCorrigidos = convenios[convenios['PERCENTUAL LIBERADO'] <= 1]\n",
        "len(conveniosCorrigidos)\n"
      ],
      "execution_count": 48,
      "outputs": [
        {
          "output_type": "execute_result",
          "data": {
            "text/plain": [
              "39502"
            ]
          },
          "metadata": {
            "tags": []
          },
          "execution_count": 48
        }
      ]
    },
    {
      "cell_type": "code",
      "metadata": {
        "id": "DFKQ6pfxLwoN",
        "colab_type": "code",
        "outputId": "87e41f75-ef7b-48f0-dec3-d958bea6b4e1",
        "colab": {
          "base_uri": "https://localhost:8080/",
          "height": 630
        }
      },
      "source": [
        "# Gráfico com média do percentual de recursos liberados entre os estados\n",
        "conveniosCorrigidos.groupby(['UF'])['PERCENTUAL LIBERADO'].mean().sort_values(ascending=False).plot.bar(figsize=(20,10))"
      ],
      "execution_count": 49,
      "outputs": [
        {
          "output_type": "execute_result",
          "data": {
            "text/plain": [
              "<matplotlib.axes._subplots.AxesSubplot at 0x7f95e74be898>"
            ]
          },
          "metadata": {
            "tags": []
          },
          "execution_count": 49
        },
        {
          "output_type": "display_data",
          "data": {
            "image/png": "[encoded data removed]",
            "text/plain": [
              "<Figure size 1440x720 with 1 Axes>"
            ]
          },
          "metadata": {
            "tags": []
          }
        }
      ]
    },
    {
      "cell_type": "markdown",
      "metadata": {
        "id": "YEIXhelSSAww",
        "colab_type": "text"
      },
      "source": [
        "**Análise do gráfico:** após eliminação de registros que sinalizavam para distorções, observou-se que a média da liberação de recursos é bem proporcional entre os estados brasileiros, \n",
        "considerando o recorte de dados analisados."
      ]
    },
    {
      "cell_type": "code",
      "metadata": {
        "id": "to20vRSZuURG",
        "colab_type": "code",
        "outputId": "d08f12fa-0f74-4999-8965-3ba0866668bf",
        "colab": {
          "base_uri": "https://localhost:8080/",
          "height": 931
        }
      },
      "source": [
        "# Analisando a quantidade de recursos distribuídos por cada Órgão Concedente\n",
        "convenios.groupby(['NOME ÓRGÃO SUPERIOR'])['VALOR CONVÊNIO'].sum().sort_values(ascending=False).plot.bar(figsize=(20,10))"
      ],
      "execution_count": 50,
      "outputs": [
        {
          "output_type": "execute_result",
          "data": {
            "text/plain": [
              "<matplotlib.axes._subplots.AxesSubplot at 0x7f95e74f7550>"
            ]
          },
          "metadata": {
            "tags": []
          },
          "execution_count": 50
        },
        {
          "output_type": "display_data",
          "data": {
            "image/png": "[encoded data removed]",
            "text/plain": [
              "<Figure size 1440x720 with 1 Axes>"
            ]
          },
          "metadata": {
            "tags": []
          }
        }
      ]
    },
    {
      "cell_type": "code",
      "metadata": {
        "id": "Rkn1g_h8XoYm",
        "colab_type": "code",
        "outputId": "45467bc0-a67a-493b-a687-e8e35d577de2",
        "colab": {
          "base_uri": "https://localhost:8080/",
          "height": 931
        }
      },
      "source": [
        "# Gráfico removendo os outliers com método de Z-Score Robusto\n",
        "conveniosLimpos.groupby(['NOME ÓRGÃO SUPERIOR'])['VALOR CONVÊNIO'].sum().sort_values(ascending=False).plot.bar(figsize=(20,10))"
      ],
      "execution_count": 51,
      "outputs": [
        {
          "output_type": "execute_result",
          "data": {
            "text/plain": [
              "<matplotlib.axes._subplots.AxesSubplot at 0x7f95e73e4e80>"
            ]
          },
          "metadata": {
            "tags": []
          },
          "execution_count": 51
        },
        {
          "output_type": "display_data",
          "data": {
            "image/png": "[encoded data removed]",
            "text/plain": [
              "<Figure size 1440x720 with 1 Axes>"
            ]
          },
          "metadata": {
            "tags": []
          }
        }
      ]
    },
    {
      "cell_type": "code",
      "metadata": {
        "id": "AC6bem2JX0d8",
        "colab_type": "code",
        "outputId": "e7e53841-a08e-476a-ee74-d81b80716505",
        "colab": {
          "base_uri": "https://localhost:8080/",
          "height": 931
        }
      },
      "source": [
        "# Gráfico removendo os outliers com método de Tukey\n",
        "conveniosLimposTukey.groupby(['NOME ÓRGÃO SUPERIOR'])['VALOR CONVÊNIO'].sum().sort_values(ascending=False).plot.bar(figsize=(20,10))"
      ],
      "execution_count": 53,
      "outputs": [
        {
          "output_type": "execute_result",
          "data": {
            "text/plain": [
              "<matplotlib.axes._subplots.AxesSubplot at 0x7f95e5aa2eb8>"
            ]
          },
          "metadata": {
            "tags": []
          },
          "execution_count": 53
        },
        {
          "output_type": "display_data",
          "data": {
            "image/png": "[encoded data removed]",
            "text/plain": [
              "<Figure size 1440x720 with 1 Axes>"
            ]
          },
          "metadata": {
            "tags": []
          }
        }
      ]
    },
    {
      "cell_type": "markdown",
      "metadata": {
        "id": "g0ozIUGbYiOv",
        "colab_type": "text"
      },
      "source": [
        "**Análise dos gráficos:** para o recorte de dados analisados, verificou-se que os valores distribuídos para os convênios são liberados majoritariamente por  certos órgãos concedentes. Ao analisar os dados eliminando outliers, os atores que figuram como maiores provedores de recursos permanecem na lista dos primeiros mas tem a posição na escala alterada."
      ]
    },
    {
      "cell_type": "code",
      "metadata": {
        "id": "OxM_MuNesEqC",
        "colab_type": "code",
        "outputId": "c82172af-9be4-480d-9f23-17515b0c36a2",
        "colab": {
          "base_uri": "https://localhost:8080/",
          "height": 672
        }
      },
      "source": [
        "# Analisando a quantidade de recursos por tipo de Ente Convenente\n",
        "convenios.groupby(['TIPO ENTE CONVENENTE'])['VALOR CONVÊNIO'].sum().sort_values(ascending=False).plot.bar(figsize=(20,10))\n"
      ],
      "execution_count": 58,
      "outputs": [
        {
          "output_type": "execute_result",
          "data": {
            "text/plain": [
              "<matplotlib.axes._subplots.AxesSubplot at 0x7f95db90eb38>"
            ]
          },
          "metadata": {
            "tags": []
          },
          "execution_count": 58
        },
        {
          "output_type": "display_data",
          "data": {
            "image/png": "[encoded data removed]",
            "text/plain": [
              "<Figure size 1440x720 with 1 Axes>"
            ]
          },
          "metadata": {
            "tags": []
          }
        }
      ]
    },
    {
      "cell_type": "code",
      "metadata": {
        "id": "QBznQ4aSElcq",
        "colab_type": "code",
        "outputId": "e912af57-12fe-4afb-c9fb-77587dd22cf7",
        "colab": {
          "base_uri": "https://localhost:8080/",
          "height": 1000
        }
      },
      "source": [
        "convenios.groupby(['UF'])['VALOR CONVÊNIO','VALOR LIBERADO'].agg(['sum', 'mean','median'])"
      ],
      "execution_count": 59,
      "outputs": [
        {
          "output_type": "execute_result",
          "data": {
            "text/html": [
              "<div>\n",
              "<style scoped>\n",
              "    .dataframe tbody tr th:only-of-type {\n",
              "        vertical-align: middle;\n",
              "    }\n",
              "\n",
              "    .dataframe tbody tr th {\n",
              "        vertical-align: top;\n",
              "    }\n",
              "\n",
              "    .dataframe thead tr th {\n",
              "        text-align: left;\n",
              "    }\n",
              "\n",
              "    .dataframe thead tr:last-of-type th {\n",
              "        text-align: right;\n",
              "    }\n",
              "</style>\n",
              "<table border=\"1\" class=\"dataframe\">\n",
              "  <thead>\n",
              "    <tr>\n",
              "      <th></th>\n",
              "      <th colspan=\"3\" halign=\"left\">VALOR CONVÊNIO</th>\n",
              "      <th colspan=\"3\" halign=\"left\">VALOR LIBERADO</th>\n",
              "    </tr>\n",
              "    <tr>\n",
              "      <th></th>\n",
              "      <th>sum</th>\n",
              "      <th>mean</th>\n",
              "      <th>median</th>\n",
              "      <th>sum</th>\n",
              "      <th>mean</th>\n",
              "      <th>median</th>\n",
              "    </tr>\n",
              "    <tr>\n",
              "      <th>UF</th>\n",
              "      <th></th>\n",
              "      <th></th>\n",
              "      <th></th>\n",
              "      <th></th>\n",
              "      <th></th>\n",
              "      <th></th>\n",
              "    </tr>\n",
              "  </thead>\n",
              "  <tbody>\n",
              "    <tr>\n",
              "      <th>-1</th>\n",
              "      <td>0.000000e+00</td>\n",
              "      <td>NaN</td>\n",
              "      <td>NaN</td>\n",
              "      <td>0.000000e+00</td>\n",
              "      <td>NaN</td>\n",
              "      <td>NaN</td>\n",
              "    </tr>\n",
              "    <tr>\n",
              "      <th>AC</th>\n",
              "      <td>7.369505e+08</td>\n",
              "      <td>2.567772e+06</td>\n",
              "      <td>58339.55</td>\n",
              "      <td>9.420773e+07</td>\n",
              "      <td>3.282499e+05</td>\n",
              "      <td>52974.860</td>\n",
              "    </tr>\n",
              "    <tr>\n",
              "      <th>AL</th>\n",
              "      <td>3.789969e+08</td>\n",
              "      <td>4.877696e+05</td>\n",
              "      <td>62300.00</td>\n",
              "      <td>3.347681e+08</td>\n",
              "      <td>4.308469e+05</td>\n",
              "      <td>52553.770</td>\n",
              "    </tr>\n",
              "    <tr>\n",
              "      <th>AM</th>\n",
              "      <td>2.906442e+08</td>\n",
              "      <td>4.934537e+05</td>\n",
              "      <td>79886.00</td>\n",
              "      <td>2.702725e+08</td>\n",
              "      <td>4.588667e+05</td>\n",
              "      <td>69400.000</td>\n",
              "    </tr>\n",
              "    <tr>\n",
              "      <th>AP</th>\n",
              "      <td>1.860720e+08</td>\n",
              "      <td>9.397574e+05</td>\n",
              "      <td>60000.00</td>\n",
              "      <td>1.743172e+08</td>\n",
              "      <td>8.803901e+05</td>\n",
              "      <td>50000.000</td>\n",
              "    </tr>\n",
              "    <tr>\n",
              "      <th>BA</th>\n",
              "      <td>9.439128e+08</td>\n",
              "      <td>4.825730e+05</td>\n",
              "      <td>51400.00</td>\n",
              "      <td>5.774826e+08</td>\n",
              "      <td>2.952365e+05</td>\n",
              "      <td>50000.000</td>\n",
              "    </tr>\n",
              "    <tr>\n",
              "      <th>CE</th>\n",
              "      <td>1.556142e+09</td>\n",
              "      <td>1.031240e+06</td>\n",
              "      <td>65070.00</td>\n",
              "      <td>1.014474e+09</td>\n",
              "      <td>6.722823e+05</td>\n",
              "      <td>59200.000</td>\n",
              "    </tr>\n",
              "    <tr>\n",
              "      <th>DF</th>\n",
              "      <td>7.891138e+09</td>\n",
              "      <td>4.759432e+06</td>\n",
              "      <td>30000.00</td>\n",
              "      <td>6.566157e+09</td>\n",
              "      <td>3.960288e+06</td>\n",
              "      <td>24725.000</td>\n",
              "    </tr>\n",
              "    <tr>\n",
              "      <th>ES</th>\n",
              "      <td>2.213960e+08</td>\n",
              "      <td>3.334277e+05</td>\n",
              "      <td>40000.00</td>\n",
              "      <td>1.620919e+08</td>\n",
              "      <td>2.441144e+05</td>\n",
              "      <td>27000.000</td>\n",
              "    </tr>\n",
              "    <tr>\n",
              "      <th>EX</th>\n",
              "      <td>0.000000e+00</td>\n",
              "      <td>NaN</td>\n",
              "      <td>NaN</td>\n",
              "      <td>0.000000e+00</td>\n",
              "      <td>NaN</td>\n",
              "      <td>NaN</td>\n",
              "    </tr>\n",
              "    <tr>\n",
              "      <th>GO</th>\n",
              "      <td>6.721657e+08</td>\n",
              "      <td>5.230862e+05</td>\n",
              "      <td>43819.09</td>\n",
              "      <td>5.886562e+08</td>\n",
              "      <td>4.580982e+05</td>\n",
              "      <td>34528.000</td>\n",
              "    </tr>\n",
              "    <tr>\n",
              "      <th>MA</th>\n",
              "      <td>4.770814e+08</td>\n",
              "      <td>3.681184e+05</td>\n",
              "      <td>75240.30</td>\n",
              "      <td>3.800665e+08</td>\n",
              "      <td>2.932612e+05</td>\n",
              "      <td>63403.585</td>\n",
              "    </tr>\n",
              "    <tr>\n",
              "      <th>MG</th>\n",
              "      <td>9.358319e+08</td>\n",
              "      <td>2.161275e+05</td>\n",
              "      <td>18900.00</td>\n",
              "      <td>7.406821e+08</td>\n",
              "      <td>1.710582e+05</td>\n",
              "      <td>14459.500</td>\n",
              "    </tr>\n",
              "    <tr>\n",
              "      <th>MS</th>\n",
              "      <td>3.520660e+08</td>\n",
              "      <td>5.771574e+05</td>\n",
              "      <td>46599.50</td>\n",
              "      <td>2.102983e+08</td>\n",
              "      <td>3.447513e+05</td>\n",
              "      <td>32490.600</td>\n",
              "    </tr>\n",
              "    <tr>\n",
              "      <th>MT</th>\n",
              "      <td>5.057471e+08</td>\n",
              "      <td>4.862953e+05</td>\n",
              "      <td>61075.50</td>\n",
              "      <td>3.280670e+08</td>\n",
              "      <td>3.154490e+05</td>\n",
              "      <td>50000.000</td>\n",
              "    </tr>\n",
              "    <tr>\n",
              "      <th>PA</th>\n",
              "      <td>5.259902e+08</td>\n",
              "      <td>4.446240e+05</td>\n",
              "      <td>98955.00</td>\n",
              "      <td>4.574515e+08</td>\n",
              "      <td>3.866877e+05</td>\n",
              "      <td>89109.000</td>\n",
              "    </tr>\n",
              "    <tr>\n",
              "      <th>PB</th>\n",
              "      <td>2.843530e+08</td>\n",
              "      <td>2.231970e+05</td>\n",
              "      <td>39945.00</td>\n",
              "      <td>2.076017e+08</td>\n",
              "      <td>1.629527e+05</td>\n",
              "      <td>33976.580</td>\n",
              "    </tr>\n",
              "    <tr>\n",
              "      <th>PE</th>\n",
              "      <td>1.182448e+09</td>\n",
              "      <td>6.780093e+05</td>\n",
              "      <td>60200.00</td>\n",
              "      <td>9.679136e+08</td>\n",
              "      <td>5.549964e+05</td>\n",
              "      <td>53397.780</td>\n",
              "    </tr>\n",
              "    <tr>\n",
              "      <th>PI</th>\n",
              "      <td>2.638974e+08</td>\n",
              "      <td>2.055276e+05</td>\n",
              "      <td>49343.00</td>\n",
              "      <td>1.966282e+08</td>\n",
              "      <td>1.531372e+05</td>\n",
              "      <td>43933.390</td>\n",
              "    </tr>\n",
              "    <tr>\n",
              "      <th>PR</th>\n",
              "      <td>4.912653e+08</td>\n",
              "      <td>1.806122e+05</td>\n",
              "      <td>18070.00</td>\n",
              "      <td>3.890822e+08</td>\n",
              "      <td>1.430449e+05</td>\n",
              "      <td>15130.000</td>\n",
              "    </tr>\n",
              "    <tr>\n",
              "      <th>RJ</th>\n",
              "      <td>2.736491e+09</td>\n",
              "      <td>8.782063e+05</td>\n",
              "      <td>25000.00</td>\n",
              "      <td>1.715437e+09</td>\n",
              "      <td>5.505253e+05</td>\n",
              "      <td>14150.000</td>\n",
              "    </tr>\n",
              "    <tr>\n",
              "      <th>RN</th>\n",
              "      <td>3.197057e+08</td>\n",
              "      <td>2.768015e+05</td>\n",
              "      <td>35996.00</td>\n",
              "      <td>2.519971e+08</td>\n",
              "      <td>2.181793e+05</td>\n",
              "      <td>31768.600</td>\n",
              "    </tr>\n",
              "    <tr>\n",
              "      <th>RO</th>\n",
              "      <td>2.688228e+08</td>\n",
              "      <td>5.387230e+05</td>\n",
              "      <td>59800.00</td>\n",
              "      <td>2.190594e+08</td>\n",
              "      <td>4.389968e+05</td>\n",
              "      <td>50770.000</td>\n",
              "    </tr>\n",
              "    <tr>\n",
              "      <th>RR</th>\n",
              "      <td>2.965424e+08</td>\n",
              "      <td>1.341821e+06</td>\n",
              "      <td>134436.00</td>\n",
              "      <td>2.645283e+08</td>\n",
              "      <td>1.196961e+06</td>\n",
              "      <td>109000.000</td>\n",
              "    </tr>\n",
              "    <tr>\n",
              "      <th>RS</th>\n",
              "      <td>1.200782e+09</td>\n",
              "      <td>4.073208e+05</td>\n",
              "      <td>14939.00</td>\n",
              "      <td>1.018641e+09</td>\n",
              "      <td>3.455362e+05</td>\n",
              "      <td>11431.200</td>\n",
              "    </tr>\n",
              "    <tr>\n",
              "      <th>SC</th>\n",
              "      <td>3.931369e+08</td>\n",
              "      <td>2.058308e+05</td>\n",
              "      <td>16102.50</td>\n",
              "      <td>3.444017e+08</td>\n",
              "      <td>1.803150e+05</td>\n",
              "      <td>12500.000</td>\n",
              "    </tr>\n",
              "    <tr>\n",
              "      <th>SE</th>\n",
              "      <td>1.744874e+08</td>\n",
              "      <td>3.279839e+05</td>\n",
              "      <td>48102.00</td>\n",
              "      <td>1.276487e+08</td>\n",
              "      <td>2.399412e+05</td>\n",
              "      <td>43236.500</td>\n",
              "    </tr>\n",
              "    <tr>\n",
              "      <th>SP</th>\n",
              "      <td>1.799977e+09</td>\n",
              "      <td>4.290768e+05</td>\n",
              "      <td>20944.00</td>\n",
              "      <td>1.542526e+09</td>\n",
              "      <td>3.677058e+05</td>\n",
              "      <td>15000.000</td>\n",
              "    </tr>\n",
              "    <tr>\n",
              "      <th>TO</th>\n",
              "      <td>2.806047e+08</td>\n",
              "      <td>4.343726e+05</td>\n",
              "      <td>30000.00</td>\n",
              "      <td>2.525469e+08</td>\n",
              "      <td>3.909394e+05</td>\n",
              "      <td>24137.500</td>\n",
              "    </tr>\n",
              "  </tbody>\n",
              "</table>\n",
              "</div>"
            ],
            "text/plain": [
              "   VALOR CONVÊNIO                ... VALOR LIBERADO            \n",
              "              sum          mean  ...           mean      median\n",
              "UF                               ...                           \n",
              "-1  0.000000e+00  NaN            ... NaN            NaN        \n",
              "AC  7.369505e+08   2.567772e+06  ...  3.282499e+05   52974.860 \n",
              "AL  3.789969e+08   4.877696e+05  ...  4.308469e+05   52553.770 \n",
              "AM  2.906442e+08   4.934537e+05  ...  4.588667e+05   69400.000 \n",
              "AP  1.860720e+08   9.397574e+05  ...  8.803901e+05   50000.000 \n",
              "BA  9.439128e+08   4.825730e+05  ...  2.952365e+05   50000.000 \n",
              "CE  1.556142e+09   1.031240e+06  ...  6.722823e+05   59200.000 \n",
              "DF  7.891138e+09   4.759432e+06  ...  3.960288e+06   24725.000 \n",
              "ES  2.213960e+08   3.334277e+05  ...  2.441144e+05   27000.000 \n",
              "EX  0.000000e+00  NaN            ... NaN            NaN        \n",
              "GO  6.721657e+08   5.230862e+05  ...  4.580982e+05   34528.000 \n",
              "MA  4.770814e+08   3.681184e+05  ...  2.932612e+05   63403.585 \n",
              "MG  9.358319e+08   2.161275e+05  ...  1.710582e+05   14459.500 \n",
              "MS  3.520660e+08   5.771574e+05  ...  3.447513e+05   32490.600 \n",
              "MT  5.057471e+08   4.862953e+05  ...  3.154490e+05   50000.000 \n",
              "PA  5.259902e+08   4.446240e+05  ...  3.866877e+05   89109.000 \n",
              "PB  2.843530e+08   2.231970e+05  ...  1.629527e+05   33976.580 \n",
              "PE  1.182448e+09   6.780093e+05  ...  5.549964e+05   53397.780 \n",
              "PI  2.638974e+08   2.055276e+05  ...  1.531372e+05   43933.390 \n",
              "PR  4.912653e+08   1.806122e+05  ...  1.430449e+05   15130.000 \n",
              "RJ  2.736491e+09   8.782063e+05  ...  5.505253e+05   14150.000 \n",
              "RN  3.197057e+08   2.768015e+05  ...  2.181793e+05   31768.600 \n",
              "RO  2.688228e+08   5.387230e+05  ...  4.389968e+05   50770.000 \n",
              "RR  2.965424e+08   1.341821e+06  ...  1.196961e+06   109000.000\n",
              "RS  1.200782e+09   4.073208e+05  ...  3.455362e+05   11431.200 \n",
              "SC  3.931369e+08   2.058308e+05  ...  1.803150e+05   12500.000 \n",
              "SE  1.744874e+08   3.279839e+05  ...  2.399412e+05   43236.500 \n",
              "SP  1.799977e+09   4.290768e+05  ...  3.677058e+05   15000.000 \n",
              "TO  2.806047e+08   4.343726e+05  ...  3.909394e+05   24137.500 \n",
              "\n",
              "[29 rows x 6 columns]"
            ]
          },
          "metadata": {
            "tags": []
          },
          "execution_count": 59
        }
      ]
    }
  ]
}